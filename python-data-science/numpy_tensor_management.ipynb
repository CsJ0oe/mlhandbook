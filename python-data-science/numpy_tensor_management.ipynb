{
 "cells": [
  {
   "cell_type": "markdown",
   "metadata": {},
   "source": [
    "<!--NAVIGATION-->\n",
    "\n",
    "<a href=\"https://colab.research.google.com/github/bpesquet/machine-learning-handbook/blob/master/python-data-science/numpy_tensor_management.ipynb\"><img align=\"left\" src=\"https://colab.research.google.com/assets/colab-badge.svg\" alt=\"Open in Colab\" title=\"Open in Google Colaboratory\"></a>\n"
   ]
  },
  {
   "cell_type": "markdown",
   "metadata": {
    "slideshow": {
     "slide_type": "slide"
    }
   },
   "source": [
    "# Tensor Management with NumPy\n",
    "\n",
    "**NumPy** is a Python library providing support for large, multi-dimensional arrays and matrices, along with a large collection of mathematical functions to operate on these arrays. \n",
    "\n",
    "It is the fundamental package for scientific computing with Python."
   ]
  },
  {
   "cell_type": "code",
   "execution_count": 2,
   "metadata": {
    "slideshow": {
     "slide_type": "-"
    }
   },
   "outputs": [],
   "source": [
    "# Import the NumPy package under the alias \"np\"\n",
    "import numpy as np"
   ]
  },
  {
   "cell_type": "markdown",
   "metadata": {
    "slideshow": {
     "slide_type": "slide"
    }
   },
   "source": [
    "## Tensors\n",
    "\n",
    "In the context of data science, a **tensor** is a set of primitive values (almost always numbers) shaped into an array of any number of dimensions.\n",
    "\n",
    "Tensors are the core data structures for machine learning."
   ]
  },
  {
   "cell_type": "markdown",
   "metadata": {
    "slideshow": {
     "slide_type": "slide"
    }
   },
   "source": [
    "### Tensor properties\n",
    "\n",
    "- A tensor's **rank** is its number of dimensions. \n",
    "- A dimension is often called an **axis**. \n",
    "- The tensor's **shape** describes the number of entries along each axis."
   ]
  },
  {
   "cell_type": "markdown",
   "metadata": {
    "slideshow": {
     "slide_type": "slide"
    }
   },
   "source": [
    "### Scalars (0D tensors)"
   ]
  },
  {
   "cell_type": "code",
   "execution_count": 96,
   "metadata": {
    "slideshow": {
     "slide_type": "-"
    }
   },
   "outputs": [
    {
     "name": "stdout",
     "output_type": "stream",
     "text": [
      "12\n",
      "Dimension: 0\n",
      "Shape: ()\n"
     ]
    }
   ],
   "source": [
    "x = np.array(12)\n",
    "print(x)\n",
    "print ('Dimension: ' + str(x.ndim))\n",
    "print ('Shape: ' + str(x.shape))"
   ]
  },
  {
   "cell_type": "markdown",
   "metadata": {
    "slideshow": {
     "slide_type": "slide"
    }
   },
   "source": [
    "### Vectors (1D tensors)"
   ]
  },
  {
   "cell_type": "code",
   "execution_count": 97,
   "metadata": {
    "slideshow": {
     "slide_type": "-"
    }
   },
   "outputs": [
    {
     "name": "stdout",
     "output_type": "stream",
     "text": [
      "[12  3  6 14]\n",
      "Dimension: 1\n",
      "Shape: (4,)\n"
     ]
    }
   ],
   "source": [
    "x = np.array([12, 3, 6, 14])\n",
    "print(x)\n",
    "print ('Dimension: ' + str(x.ndim))\n",
    "print ('Shape: ' + str(x.shape))"
   ]
  },
  {
   "cell_type": "markdown",
   "metadata": {
    "slideshow": {
     "slide_type": "slide"
    }
   },
   "source": [
    "### Matrices (2D tensors)"
   ]
  },
  {
   "cell_type": "code",
   "execution_count": 98,
   "metadata": {
    "slideshow": {
     "slide_type": "-"
    }
   },
   "outputs": [
    {
     "name": "stdout",
     "output_type": "stream",
     "text": [
      "[[ 5 78  2 34  0]\n",
      " [ 6 79  3 35  1]\n",
      " [ 7 80  4 36  2]]\n",
      "Dimension: 2\n",
      "Shape: (3, 5)\n"
     ]
    }
   ],
   "source": [
    "x = np.array([[5, 78, 2, 34, 0],\n",
    "              [6, 79, 3, 35, 1],\n",
    "              [7, 80, 4, 36, 2]])\n",
    "print(x)\n",
    "print ('Dimension: ' + str(x.ndim))\n",
    "print ('Shape: ' + str(x.shape))"
   ]
  },
  {
   "cell_type": "markdown",
   "metadata": {
    "slideshow": {
     "slide_type": "slide"
    }
   },
   "source": [
    "### 3D tensors"
   ]
  },
  {
   "cell_type": "code",
   "execution_count": 99,
   "metadata": {
    "slideshow": {
     "slide_type": "-"
    }
   },
   "outputs": [
    {
     "name": "stdout",
     "output_type": "stream",
     "text": [
      "[[[ 5 78  2 34  0]\n",
      "  [ 6 79  3 35  1]]\n",
      "\n",
      " [[ 5 78  2 34  0]\n",
      "  [ 6 79  3 35  1]]\n",
      "\n",
      " [[ 5 78  2 34  0]\n",
      "  [ 6 79  3 35  1]]]\n",
      "Dimension: 3\n",
      "Shape: (3, 2, 5)\n"
     ]
    }
   ],
   "source": [
    "x = np.array([[[5, 78, 2, 34, 0],\n",
    "               [6, 79, 3, 35, 1]],\n",
    "              [[5, 78, 2, 34, 0],\n",
    "               [6, 79, 3, 35, 1]],\n",
    "              [[5, 78, 2, 34, 0],\n",
    "               [6, 79, 3, 35, 1]]])\n",
    "print(x)\n",
    "print ('Dimension: ' + str(x.ndim))\n",
    "print ('Shape: ' + str(x.shape))"
   ]
  },
  {
   "cell_type": "markdown",
   "metadata": {
    "slideshow": {
     "slide_type": "slide"
    }
   },
   "source": [
    "## Tensor shape management\n",
    "\n",
    "The number of entries along a specific axis is also called **dimension**, which can be somewhat confusing. \n",
    "\n",
    "A 3 dimensions *vector* is not the same as a 3 dimensions *tensor*."
   ]
  },
  {
   "cell_type": "code",
   "execution_count": 100,
   "metadata": {},
   "outputs": [
    {
     "name": "stdout",
     "output_type": "stream",
     "text": [
      "[12  3  6]\n",
      "Dimension: 1\n",
      "Shape: (3,)\n"
     ]
    }
   ],
   "source": [
    "x = np.array([12, 3, 6]) # x is a 3 dimensions vector (1D tensor)\n",
    "print(x)\n",
    "print ('Dimension: ' + str(x.ndim))\n",
    "print ('Shape: ' + str(x.shape))"
   ]
  },
  {
   "cell_type": "markdown",
   "metadata": {
    "slideshow": {
     "slide_type": "slide"
    }
   },
   "source": [
    "### Tensors with single-dimensional entries\n"
   ]
  },
  {
   "cell_type": "code",
   "execution_count": 101,
   "metadata": {
    "slideshow": {
     "slide_type": "-"
    }
   },
   "outputs": [
    {
     "name": "stdout",
     "output_type": "stream",
     "text": [
      "[[12  3  6 14]]\n",
      "Dimension: 2\n",
      "Shape: (1, 4)\n"
     ]
    }
   ],
   "source": [
    "x = np.array([[12, 3, 6, 14]]) # x is a one row matrix (2D tensor)\n",
    "print(x)\n",
    "print ('Dimension: ' + str(x.ndim))\n",
    "print ('Shape: ' + str(x.shape))"
   ]
  },
  {
   "cell_type": "code",
   "execution_count": 102,
   "metadata": {
    "slideshow": {
     "slide_type": "-"
    }
   },
   "outputs": [
    {
     "name": "stdout",
     "output_type": "stream",
     "text": [
      "[[12]\n",
      " [ 3]\n",
      " [ 6]\n",
      " [14]]\n",
      "Dimension: 2\n",
      "Shape: (4, 1)\n"
     ]
    }
   ],
   "source": [
    "x = np.array([[12], [3], [6], [14]]) # x is a one column matrix (2D tensor)\n",
    "print(x)\n",
    "print ('Dimension: ' + str(x.ndim))\n",
    "print ('Shape: ' + str(x.shape))"
   ]
  },
  {
   "cell_type": "markdown",
   "metadata": {
    "slideshow": {
     "slide_type": "slide"
    }
   },
   "source": [
    "### Removing single-dimensional entries from a tensor"
   ]
  },
  {
   "cell_type": "code",
   "execution_count": 103,
   "metadata": {
    "slideshow": {
     "slide_type": "-"
    }
   },
   "outputs": [
    {
     "name": "stdout",
     "output_type": "stream",
     "text": [
      "[12  3  6 14]\n",
      "Dimension: 1\n",
      "Shape: (4,)\n"
     ]
    }
   ],
   "source": [
    "x = np.array([[12, 3, 6, 14]])\n",
    "x = np.squeeze(x) # x is now a vector (1D tensor)\n",
    "print(x)\n",
    "print ('Dimension: ' + str(x.ndim))\n",
    "print ('Shape: ' + str(x.shape))"
   ]
  },
  {
   "cell_type": "code",
   "execution_count": 104,
   "metadata": {
    "slideshow": {
     "slide_type": "-"
    }
   },
   "outputs": [
    {
     "name": "stdout",
     "output_type": "stream",
     "text": [
      "[12  3  6 14]\n",
      "Dimension: 1\n",
      "Shape: (4,)\n"
     ]
    }
   ],
   "source": [
    "x = np.array([[12], [3], [6], [14]])\n",
    "x = np.squeeze(x) # x is now a vector (1D tensor)\n",
    "print(x)\n",
    "print ('Dimension: ' + str(x.ndim))\n",
    "print ('Shape: ' + str(x.shape))"
   ]
  },
  {
   "cell_type": "markdown",
   "metadata": {
    "slideshow": {
     "slide_type": "slide"
    }
   },
   "source": [
    "### Reshaping a tensor"
   ]
  },
  {
   "cell_type": "code",
   "execution_count": 105,
   "metadata": {
    "slideshow": {
     "slide_type": "-"
    }
   },
   "outputs": [
    {
     "name": "stdout",
     "output_type": "stream",
     "text": [
      "[[1 2 3]\n",
      " [4 5 6]]\n",
      "Dimension: 2\n",
      "Shape: (2, 3)\n"
     ]
    }
   ],
   "source": [
    "x = np.array([[1, 2],\n",
    "              [3, 4],\n",
    "              [5, 6]])\n",
    "x = x.reshape(2, 3)\n",
    "print(x)\n",
    "print ('Dimension: ' + str(x.ndim))\n",
    "print ('Shape: ' + str(x.shape))"
   ]
  },
  {
   "cell_type": "code",
   "execution_count": 106,
   "metadata": {
    "slideshow": {
     "slide_type": "slide"
    }
   },
   "outputs": [
    {
     "name": "stdout",
     "output_type": "stream",
     "text": [
      "[1 2 3 4 5 6]\n",
      "Dimension: 1\n",
      "Shape: (6,)\n"
     ]
    }
   ],
   "source": [
    "# Reshape a matrix into a vector\n",
    "x = np.array([[1, 2],\n",
    "              [3, 4],\n",
    "              [5, 6]])\n",
    "x = x.reshape(6, )\n",
    "print(x)\n",
    "print ('Dimension: ' + str(x.ndim))\n",
    "print ('Shape: ' + str(x.shape))"
   ]
  },
  {
   "cell_type": "code",
   "execution_count": 107,
   "metadata": {
    "slideshow": {
     "slide_type": "slide"
    }
   },
   "outputs": [
    {
     "name": "stdout",
     "output_type": "stream",
     "text": [
      "Original dimension: 3\n",
      "Original shape: (3, 2, 2)\n",
      "[[ 5  6  7  8]\n",
      " [ 9 10 11 12]\n",
      " [13 14 15 16]]\n",
      "Dimension: 2\n",
      "Shape: (3, 4)\n"
     ]
    }
   ],
   "source": [
    "# Reshape a 3D tensor into a matrix\n",
    "x = np.array([[[5, 6],\n",
    "               [7, 8]],\n",
    "              [[9, 10],\n",
    "               [11, 12]],\n",
    "              [[13, 14],\n",
    "               [15, 16]]])\n",
    "print ('Original dimension: ' + str(x.ndim))\n",
    "print ('Original shape: ' + str(x.shape))\n",
    "x = x.reshape(3, 2*2)\n",
    "print(x)\n",
    "print ('Dimension: ' + str(x.ndim))\n",
    "print ('Shape: ' + str(x.shape))"
   ]
  },
  {
   "cell_type": "markdown",
   "metadata": {
    "slideshow": {
     "slide_type": "slide"
    }
   },
   "source": [
    "### Transposing a tensor"
   ]
  },
  {
   "cell_type": "code",
   "execution_count": 108,
   "metadata": {
    "slideshow": {
     "slide_type": "-"
    }
   },
   "outputs": [
    {
     "name": "stdout",
     "output_type": "stream",
     "text": [
      "[12  3  6 14]\n",
      "Dimension: 1\n",
      "Shape: (4,)\n"
     ]
    }
   ],
   "source": [
    "# Transpose a vector (no effect)\n",
    "x = np.array([12, 3, 6, 14])\n",
    "x = x.T # alternative syntax: x = np.transpose(x)\n",
    "print(x)\n",
    "print ('Dimension: ' + str(x.ndim))\n",
    "print ('Shape: ' + str(x.shape))"
   ]
  },
  {
   "cell_type": "code",
   "execution_count": 109,
   "metadata": {
    "slideshow": {
     "slide_type": "slide"
    }
   },
   "outputs": [
    {
     "name": "stdout",
     "output_type": "stream",
     "text": [
      "[[ 5  6  7]\n",
      " [78 79 80]\n",
      " [ 2  3  4]\n",
      " [34 35 36]]\n",
      "Dimension: 2\n",
      "Shape: (4, 3)\n"
     ]
    }
   ],
   "source": [
    "# Transpose a matrix\n",
    "x = np.array([[5, 78, 2, 34],\n",
    "              [6, 79, 3, 35],\n",
    "              [7, 80, 4, 36]])\n",
    "x = x.T\n",
    "print(x)\n",
    "print ('Dimension: ' + str(x.ndim))\n",
    "print ('Shape: ' + str(x.shape))"
   ]
  },
  {
   "cell_type": "markdown",
   "metadata": {
    "slideshow": {
     "slide_type": "slide"
    }
   },
   "source": [
    "## Tensor slicing"
   ]
  },
  {
   "cell_type": "code",
   "execution_count": 110,
   "metadata": {
    "slideshow": {
     "slide_type": "-"
    }
   },
   "outputs": [
    {
     "name": "stdout",
     "output_type": "stream",
     "text": [
      "[1 2 3]\n",
      "[4 5 6 7]\n"
     ]
    }
   ],
   "source": [
    "# Slice a vector\n",
    "x = np.array([1, 2, 3, 4, 5, 6, 7])\n",
    "print(x[:3])\n",
    "print(x[3:])"
   ]
  },
  {
   "cell_type": "code",
   "execution_count": 111,
   "metadata": {
    "slideshow": {
     "slide_type": "slide"
    }
   },
   "outputs": [
    {
     "name": "stdout",
     "output_type": "stream",
     "text": [
      "[[ 5 78  2 34]\n",
      " [ 6 79  3 35]]\n",
      "[[ 7 80  4 36]]\n",
      "[[ 5 78]\n",
      " [ 6 79]\n",
      " [ 7 80]]\n",
      "[[ 2 34]\n",
      " [ 3 35]\n",
      " [ 4 36]]\n"
     ]
    }
   ],
   "source": [
    "# Slice a matrix\n",
    "x = np.array([[5, 78, 2, 34],\n",
    "              [6, 79, 3, 35],\n",
    "              [7, 80, 4, 36]])\n",
    "print(x[:2, :])\n",
    "print(x[2:, :])\n",
    "print(x[:, :2])\n",
    "print(x[:, 2:])"
   ]
  },
  {
   "cell_type": "markdown",
   "metadata": {
    "slideshow": {
     "slide_type": "slide"
    }
   },
   "source": [
    "## Creating tensors\n",
    "\n",
    "NumPy provides several useful functions for initializing tensors with particular values."
   ]
  },
  {
   "cell_type": "markdown",
   "metadata": {
    "slideshow": {
     "slide_type": "slide"
    }
   },
   "source": [
    "### Filling a tensor with zeros"
   ]
  },
  {
   "cell_type": "code",
   "execution_count": 112,
   "metadata": {
    "slideshow": {
     "slide_type": "-"
    }
   },
   "outputs": [
    {
     "name": "stdout",
     "output_type": "stream",
     "text": [
      "[ 0.  0.  0.]\n",
      "Dimension: 1\n",
      "Shape: (3,)\n"
     ]
    }
   ],
   "source": [
    "x = np.zeros(3)\n",
    "print(x)\n",
    "print ('Dimension: ' + str(x.ndim))\n",
    "print ('Shape: ' + str(x.shape))"
   ]
  },
  {
   "cell_type": "code",
   "execution_count": 113,
   "metadata": {
    "slideshow": {
     "slide_type": "-"
    }
   },
   "outputs": [
    {
     "name": "stdout",
     "output_type": "stream",
     "text": [
      "[[ 0.  0.  0.  0.]\n",
      " [ 0.  0.  0.  0.]\n",
      " [ 0.  0.  0.  0.]]\n",
      "Dimension: 2\n",
      "Shape: (3, 4)\n"
     ]
    }
   ],
   "source": [
    "x = np.zeros((3,4))\n",
    "print(x)\n",
    "print ('Dimension: ' + str(x.ndim))\n",
    "print ('Shape: ' + str(x.shape))"
   ]
  },
  {
   "cell_type": "markdown",
   "metadata": {
    "slideshow": {
     "slide_type": "slide"
    }
   },
   "source": [
    "### Filling a tensor with random numbers\n",
    "\n",
    "Values are sampled from a \"normal\" (Gaussian) distribution"
   ]
  },
  {
   "cell_type": "code",
   "execution_count": 114,
   "metadata": {
    "slideshow": {
     "slide_type": "-"
    }
   },
   "outputs": [
    {
     "name": "stdout",
     "output_type": "stream",
     "text": [
      "[[ 0.040915 -1.3023  ]\n",
      " [-1.487269 -0.483633]\n",
      " [ 0.400504 -1.054659]\n",
      " [ 2.510167  1.305077]\n",
      " [-1.214831  0.847603]]\n",
      "Dimension: 2\n",
      "Shape: (5, 2)\n"
     ]
    }
   ],
   "source": [
    "x = np.random.randn(5,2)\n",
    "print(x)\n",
    "print ('Dimension: ' + str(x.ndim))\n",
    "print ('Shape: ' + str(x.shape))"
   ]
  },
  {
   "cell_type": "markdown",
   "metadata": {
    "slideshow": {
     "slide_type": "slide"
    }
   },
   "source": [
    "## Operations between tensors\n",
    "\n",
    "**Element-wise** operations are applied independently to each entry in the tensors being considered. \n",
    "\n",
    "Other operations, like dot product, combine entries in the input tensors to produce a differently shaped result.\n"
   ]
  },
  {
   "cell_type": "markdown",
   "metadata": {
    "slideshow": {
     "slide_type": "slide"
    }
   },
   "source": [
    "### Element-wise addition"
   ]
  },
  {
   "cell_type": "code",
   "execution_count": 115,
   "metadata": {
    "slideshow": {
     "slide_type": "-"
    }
   },
   "outputs": [
    {
     "name": "stdout",
     "output_type": "stream",
     "text": [
      "[3 4 8]\n",
      "Dimension: 1\n",
      "Shape: (3,)\n"
     ]
    }
   ],
   "source": [
    "# Element-wise addition between two vectors\n",
    "x = np.array([2, 5, 4])\n",
    "y = np.array([1, -1, 4])\n",
    "z = x + y\n",
    "print(z)\n",
    "print ('Dimension: ' + str(z.ndim))\n",
    "print ('Shape: ' + str(z.shape))"
   ]
  },
  {
   "cell_type": "markdown",
   "metadata": {
    "slideshow": {
     "slide_type": "slide"
    }
   },
   "source": [
    "### Element-wise product"
   ]
  },
  {
   "cell_type": "code",
   "execution_count": 116,
   "metadata": {
    "slideshow": {
     "slide_type": "-"
    }
   },
   "outputs": [
    {
     "name": "stdout",
     "output_type": "stream",
     "text": [
      "[[ 3  0  6]\n",
      " [ 3  8 -2]]\n",
      "Dimension: 2\n",
      "Shape: (2, 3)\n"
     ]
    }
   ],
   "source": [
    "# Element-wise product between two matrices (shapes must be identical)\n",
    "x = np.array([[1, 2, 3], \n",
    "              [3, 2, 1]])\n",
    "y = np.array([[3, 0, 2], \n",
    "              [1, 4, -2]])\n",
    "z = x * y\n",
    "print(z)\n",
    "print ('Dimension: ' + str(z.ndim))\n",
    "print ('Shape: ' + str(z.shape))"
   ]
  },
  {
   "cell_type": "markdown",
   "metadata": {
    "slideshow": {
     "slide_type": "slide"
    }
   },
   "source": [
    "### Dot product"
   ]
  },
  {
   "cell_type": "markdown",
   "metadata": {
    "slideshow": {
     "slide_type": "-"
    }
   },
   "source": [
    "![Dot product](images/02fig05.jpg)"
   ]
  },
  {
   "cell_type": "code",
   "execution_count": 117,
   "metadata": {
    "slideshow": {
     "slide_type": "slide"
    }
   },
   "outputs": [
    {
     "name": "stdout",
     "output_type": "stream",
     "text": [
      "[[19 -4]\n",
      " [17  0]]\n",
      "Dimension: 2\n",
      "Shape: (2, 2)\n"
     ]
    }
   ],
   "source": [
    "# Dot product between two matrices (shapes must be compatible)\n",
    "x = np.array([[1, 2, 3], \n",
    "              [3, 2, 1]]) # x has shape (2, 3)\n",
    "y = np.array([[3, 0], \n",
    "              [2, 1], \n",
    "              [4, -2]]) # y has shape (3, 2)\n",
    "z = np.dot(x, y) # alternative syntax: z = x.dot(y)\n",
    "print(z)\n",
    "print ('Dimension: ' + str(z.ndim))\n",
    "print ('Shape: ' + str(z.shape))"
   ]
  },
  {
   "cell_type": "markdown",
   "metadata": {
    "slideshow": {
     "slide_type": "slide"
    }
   },
   "source": [
    "## Broadcasting\n",
    "\n",
    "Broadcasting is a powerful NumPy functionality.\n",
    "\n",
    "If there is no ambiguity, the smaller tensor can be \"broadcasted\" implicitly to match the larger tensor's shape before an operation is applied to them."
   ]
  },
  {
   "cell_type": "markdown",
   "metadata": {
    "slideshow": {
     "slide_type": "slide"
    }
   },
   "source": [
    "### Broadcasting between a vector and a scalar"
   ]
  },
  {
   "cell_type": "code",
   "execution_count": 118,
   "metadata": {
    "slideshow": {
     "slide_type": "-"
    }
   },
   "outputs": [
    {
     "name": "stdout",
     "output_type": "stream",
     "text": [
      "[15  6  9 17]\n",
      "Dimension: 1\n",
      "Shape: (4,)\n"
     ]
    }
   ],
   "source": [
    "x = np.array([12, 3, 6, 14])\n",
    "x = x + 3\n",
    "print(x)\n",
    "print ('Dimension: ' + str(x.ndim))\n",
    "print ('Shape: ' + str(x.shape))"
   ]
  },
  {
   "cell_type": "markdown",
   "metadata": {
    "slideshow": {
     "slide_type": "slide"
    }
   },
   "source": [
    "### Broadcasting between a matrix and a scalar"
   ]
  },
  {
   "cell_type": "code",
   "execution_count": 119,
   "metadata": {
    "slideshow": {
     "slide_type": "-"
    }
   },
   "outputs": [
    {
     "name": "stdout",
     "output_type": "stream",
     "text": [
      "[[-1  0  1]\n",
      " [-3  4  2]]\n",
      "Dimension: 2\n",
      "Shape: (2, 3)\n"
     ]
    }
   ],
   "source": [
    "x = np.array([[0, 1, 2], \n",
    "              [-2, 5, 3]])\n",
    "x = x - 1\n",
    "print(x)\n",
    "print ('Dimension: ' + str(x.ndim))\n",
    "print ('Shape: ' + str(x.shape))"
   ]
  },
  {
   "cell_type": "markdown",
   "metadata": {
    "slideshow": {
     "slide_type": "slide"
    }
   },
   "source": [
    "### Broadcasting between a matrix and a vector"
   ]
  },
  {
   "cell_type": "code",
   "execution_count": 120,
   "metadata": {
    "slideshow": {
     "slide_type": "-"
    }
   },
   "outputs": [
    {
     "name": "stdout",
     "output_type": "stream",
     "text": [
      "[[ 1  3  5]\n",
      " [-1  7  6]]\n",
      "Dimension: 2\n",
      "Shape: (2, 3)\n"
     ]
    }
   ],
   "source": [
    "x = np.array([[0, 1, 2], \n",
    "              [-2, 5, 3]])\n",
    "y = np.array([1, 2, 3])\n",
    "z = x + y\n",
    "print(z)\n",
    "print ('Dimension: ' + str(z.ndim))\n",
    "print ('Shape: ' + str(z.shape))"
   ]
  },
  {
   "cell_type": "markdown",
   "metadata": {
    "slideshow": {
     "slide_type": "slide"
    }
   },
   "source": [
    "## Summing tensors"
   ]
  },
  {
   "cell_type": "markdown",
   "metadata": {
    "slideshow": {
     "slide_type": "slide"
    }
   },
   "source": [
    "### Summing on all axes"
   ]
  },
  {
   "cell_type": "code",
   "execution_count": 121,
   "metadata": {
    "slideshow": {
     "slide_type": "-"
    }
   },
   "outputs": [
    {
     "name": "stdout",
     "output_type": "stream",
     "text": [
      "9\n",
      "Dimension: 0\n",
      "Shape: ()\n"
     ]
    }
   ],
   "source": [
    "x = np.array([[0, 1, 2], \n",
    "              [-2, 5, 3]])\n",
    "x = np.sum(x) # x is now a scalar (0D tensor)\n",
    "print(x)\n",
    "print ('Dimension: ' + str(x.ndim))\n",
    "print ('Shape: ' + str(x.shape))"
   ]
  },
  {
   "cell_type": "markdown",
   "metadata": {
    "slideshow": {
     "slide_type": "slide"
    }
   },
   "source": [
    "### Summing on a specific axis"
   ]
  },
  {
   "cell_type": "code",
   "execution_count": 122,
   "metadata": {
    "slideshow": {
     "slide_type": "-"
    }
   },
   "outputs": [
    {
     "name": "stdout",
     "output_type": "stream",
     "text": [
      "[-2  6  5]\n",
      "Dimension: 1\n",
      "Shape: (3,)\n"
     ]
    }
   ],
   "source": [
    "# Sums a matrix on its first axis (rows)\n",
    "x = np.array([[0, 1, 2], \n",
    "              [-2, 5, 3]])\n",
    "x = np.sum(x, axis=0) # x is now a vector (1D tensor)\n",
    "print(x)\n",
    "print ('Dimension: ' + str(x.ndim))\n",
    "print ('Shape: ' + str(x.shape))"
   ]
  },
  {
   "cell_type": "code",
   "execution_count": 123,
   "metadata": {
    "slideshow": {
     "slide_type": "-"
    }
   },
   "outputs": [
    {
     "name": "stdout",
     "output_type": "stream",
     "text": [
      "[3 6]\n",
      "Dimension: 1\n",
      "Shape: (2,)\n"
     ]
    }
   ],
   "source": [
    "# Sums a matrix on its second axis (columns)\n",
    "x = np.array([[0, 1, 2], \n",
    "              [-2, 5, 3]])\n",
    "x = np.sum(x, axis=1) # x is now a vector (1D tensor)\n",
    "print(x)\n",
    "print ('Dimension: ' + str(x.ndim))\n",
    "print ('Shape: ' + str(x.shape))"
   ]
  },
  {
   "cell_type": "markdown",
   "metadata": {
    "slideshow": {
     "slide_type": "slide"
    }
   },
   "source": [
    "### Keeping tensor dimensions while summing"
   ]
  },
  {
   "cell_type": "code",
   "execution_count": 124,
   "metadata": {
    "slideshow": {
     "slide_type": "-"
    }
   },
   "outputs": [
    {
     "name": "stdout",
     "output_type": "stream",
     "text": [
      "[[-2  6  5]]\n",
      "Dimension: 2\n",
      "Shape: (1, 3)\n"
     ]
    }
   ],
   "source": [
    "# Sums a matrix on its second axis (columns), keeping the same dimensions\n",
    "x = np.array([[0, 1, 2], \n",
    "              [-2, 5, 3]])\n",
    "x = np.sum(x, axis=0, keepdims=True) # x is still a matrix (2D tensor)\n",
    "print(x)\n",
    "print ('Dimension: ' + str(x.ndim))\n",
    "print ('Shape: ' + str(x.shape))"
   ]
  },
  {
   "cell_type": "markdown",
   "metadata": {
    "collapsed": true,
    "slideshow": {
     "slide_type": "slide"
    }
   },
   "source": [
    "## Normalizing tensor entries"
   ]
  },
  {
   "cell_type": "code",
   "execution_count": 125,
   "metadata": {
    "slideshow": {
     "slide_type": "-"
    }
   },
   "outputs": [
    {
     "name": "stdout",
     "output_type": "stream",
     "text": [
      "[[-0.898209  0.07939  -1.969532  1.198997]\n",
      " [-1.37814   1.085242 -0.331007  0.827235]\n",
      " [-0.176263  0.673271  1.298829  1.527151]]\n",
      "Mean: [-0.817537  0.612634 -0.333904  1.184461]\n",
      "Standard deviation: [ 0.493969  0.41287   1.334304  0.285924]\n",
      "[[-0.163314 -1.291555 -1.225829  0.050839]\n",
      " [-1.134894  1.14469   0.002171 -1.249373]\n",
      " [ 1.298208  0.146865  1.223658  1.198534]]\n",
      "Final mean: [  7.401487e-17  -1.387779e-16   7.401487e-17  -5.181041e-16]\n",
      "Final standard deviation: [ 1.  1.  1.  1.]\n"
     ]
    }
   ],
   "source": [
    "x = np.random.randn(3,4)\n",
    "print(x)\n",
    "print(\"Mean: \" + str(x.mean(axis=0)))\n",
    "print(\"Standard deviation: \" + str(x.std(axis=0)))\n",
    "x -= x.mean(axis=0)\n",
    "x /= x.std(axis=0)\n",
    "print(x)\n",
    "print(\"Final mean: \" + str(x.mean(axis=0)))\n",
    "print(\"Final standard deviation: \" + str(x.std(axis=0)))"
   ]
  },
  {
   "cell_type": "code",
   "execution_count": null,
   "metadata": {
    "collapsed": true
   },
   "outputs": [],
   "source": []
  }
 ],
 "metadata": {
  "celltoolbar": "Slideshow",
  "kernelspec": {
   "display_name": "Python 3",
   "language": "python",
   "name": "python3"
  },
  "language_info": {
   "codemirror_mode": {
    "name": "ipython",
    "version": 3
   },
   "file_extension": ".py",
   "mimetype": "text/x-python",
   "name": "python",
   "nbconvert_exporter": "python",
   "pygments_lexer": "ipython3",
   "version": "3.6.4"
  },
  "livereveal": {
   "scroll": true,
   "theme": "white",
   "transition": "convex"
  }
 },
 "nbformat": 4,
 "nbformat_minor": 2
}
