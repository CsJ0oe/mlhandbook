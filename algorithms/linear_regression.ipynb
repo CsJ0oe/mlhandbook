{
 "cells": [
  {
   "cell_type": "markdown",
   "metadata": {
    "slideshow": {
     "slide_type": "slide"
    }
   },
   "source": [
    "# Linear Regression"
   ]
  },
  {
   "cell_type": "markdown",
   "metadata": {
    "slideshow": {
     "slide_type": "slide"
    }
   },
   "source": [
    "## Summary\n",
    "\n",
    "- Introduction\n",
    "- Analytical approach: normal equation\n",
    "- Iterative approach: gradient descent\n",
    "- Polynomial regression\n",
    "- Regularization"
   ]
  },
  {
   "cell_type": "markdown",
   "metadata": {
    "slideshow": {
     "slide_type": "slide"
    }
   },
   "source": [
    "## Introduction"
   ]
  },
  {
   "cell_type": "markdown",
   "metadata": {
    "slideshow": {
     "slide_type": "slide"
    }
   },
   "source": [
    "### Linear regression in a nutshell\n",
    "\n",
    "A linear regression model searches for a linear relationship between inputs (features) and output (target).\n",
    "\n",
    "[![Linear Regression example](images/linear_regression.png)](https://en.wikipedia.org/wiki/Linear_regression)"
   ]
  },
  {
   "cell_type": "markdown",
   "metadata": {
    "slideshow": {
     "slide_type": "slide"
    }
   },
   "source": [
    "### Problem formulation\n",
    "\n",
    "A linear model makes a prediction by computing a weighted sum of the input features, plus a constant term called *bias* (or sometimes *intercept*).\n",
    "\n",
    "$$y' = \\theta_0 + \\theta_1x_1 + \\dotsc + \\theta_nx_n$$\n",
    "\n",
    "- $y'$ is the model's output (prediction).\n",
    "- $n$ is the number of features for a data sample.\n",
    "- $x_i, i \\in [1..n]$ is the value of the $i$th feature.\n",
    "- $\\theta_i, i \\in [0..n]$ is $i$th model parameter. $\\theta_0$ is the bias term.\n",
    "\n",
    "The goal is to find the best set of parameters."
   ]
  },
  {
   "cell_type": "markdown",
   "metadata": {
    "slideshow": {
     "slide_type": "slide"
    }
   },
   "source": [
    "### Example: using a linear model to predict country happiness\n",
    "\n",
    "(Inspired by [Homemade Machine Learning](https://github.com/trekhleb/homemade-machine-learning) by Oleksii Trekhleb)\n",
    "\n",
    "The [World Happiness Report](https://www.kaggle.com/unsdsn/world-happiness#2017.csv) ranks 155 countries by their happiness levels. Several economic and social indicators (GDP, degree of freedom, level of corruption...) are recorded for each country.\n",
    "\n",
    "Can a linear model accurately predict country happiness based on these indicators ?"
   ]
  },
  {
   "cell_type": "markdown",
   "metadata": {
    "slideshow": {
     "slide_type": "slide"
    }
   },
   "source": [
    "### Environment setup"
   ]
  },
  {
   "cell_type": "code",
   "execution_count": 1,
   "metadata": {},
   "outputs": [
    {
     "name": "stdout",
     "output_type": "stream",
     "text": [
      "Python version: 3.7.5\n"
     ]
    }
   ],
   "source": [
    "import platform\n",
    "\n",
    "print(f\"Python version: {platform.python_version()}\")\n",
    "assert platform.python_version_tuple() >= (\"3\", \"6\")\n",
    "\n",
    "import numpy as np\n",
    "import matplotlib.pyplot as plt\n",
    "import seaborn as sns\n",
    "import plotly\n",
    "import plotly.graph_objs as go\n",
    "import pandas as pd"
   ]
  },
  {
   "cell_type": "code",
   "execution_count": 2,
   "metadata": {
    "slideshow": {
     "slide_type": "slide"
    }
   },
   "outputs": [],
   "source": [
    "# Setup plots\n",
    "%matplotlib inline\n",
    "plt.rcParams[\"figure.figsize\"] = 10, 8\n",
    "%config InlineBackend.figure_format = \"retina\"\n",
    "sns.set()\n",
    "\n",
    "# Configure Plotly to be rendered inline in the notebook.\n",
    "plotly.offline.init_notebook_mode()"
   ]
  },
  {
   "cell_type": "code",
   "execution_count": 3,
   "metadata": {
    "slideshow": {
     "slide_type": "slide"
    }
   },
   "outputs": [
    {
     "name": "stdout",
     "output_type": "stream",
     "text": [
      "scikit-learn version: 0.22.1\n"
     ]
    }
   ],
   "source": [
    "import sklearn\n",
    "\n",
    "print(f\"scikit-learn version: {sklearn.__version__}\")\n",
    "assert sklearn.__version__ >= \"0.20\"\n",
    "\n",
    "from sklearn.model_selection import train_test_split\n",
    "from sklearn.linear_model import LinearRegression, SGDRegressor\n",
    "from sklearn.metrics import mean_squared_error"
   ]
  },
  {
   "cell_type": "markdown",
   "metadata": {
    "slideshow": {
     "slide_type": "slide"
    }
   },
   "source": [
    "### Data loading and analysis"
   ]
  },
  {
   "cell_type": "code",
   "execution_count": 4,
   "metadata": {
    "slideshow": {
     "slide_type": "-"
    }
   },
   "outputs": [
    {
     "name": "stdout",
     "output_type": "stream",
     "text": [
      "Dataset shape: (155, 12)\n"
     ]
    }
   ],
   "source": [
    "# Load World Happiness Report for 2017\n",
    "dataset_url = \"https://raw.githubusercontent.com/bpesquet/mlhandbook/master/_datasets/world-happiness-report-2017.csv\"\n",
    "df_happiness = pd.read_csv(dataset_url)\n",
    "\n",
    "# Print dataset shape (rows and columns)\n",
    "print(f\"Dataset shape: {df_happiness.shape}\")"
   ]
  },
  {
   "cell_type": "code",
   "execution_count": 5,
   "metadata": {
    "slideshow": {
     "slide_type": "slide"
    }
   },
   "outputs": [
    {
     "name": "stdout",
     "output_type": "stream",
     "text": [
      "<class 'pandas.core.frame.DataFrame'>\n",
      "RangeIndex: 155 entries, 0 to 154\n",
      "Data columns (total 12 columns):\n",
      " #   Column                         Non-Null Count  Dtype  \n",
      "---  ------                         --------------  -----  \n",
      " 0   Country                        155 non-null    object \n",
      " 1   Happiness.Rank                 155 non-null    int64  \n",
      " 2   Happiness.Score                155 non-null    float64\n",
      " 3   Whisker.high                   155 non-null    float64\n",
      " 4   Whisker.low                    155 non-null    float64\n",
      " 5   Economy..GDP.per.Capita.       155 non-null    float64\n",
      " 6   Family                         155 non-null    float64\n",
      " 7   Health..Life.Expectancy.       155 non-null    float64\n",
      " 8   Freedom                        155 non-null    float64\n",
      " 9   Generosity                     155 non-null    float64\n",
      " 10  Trust..Government.Corruption.  155 non-null    float64\n",
      " 11  Dystopia.Residual              155 non-null    float64\n",
      "dtypes: float64(10), int64(1), object(1)\n",
      "memory usage: 14.7+ KB\n"
     ]
    }
   ],
   "source": [
    "# Print a concise summary of the dataset\n",
    "df_happiness.info()"
   ]
  },
  {
   "cell_type": "code",
   "execution_count": 6,
   "metadata": {
    "slideshow": {
     "slide_type": "slide"
    }
   },
   "outputs": [
    {
     "data": {
      "text/html": [
       "<div>\n",
       "<style scoped>\n",
       "    .dataframe tbody tr th:only-of-type {\n",
       "        vertical-align: middle;\n",
       "    }\n",
       "\n",
       "    .dataframe tbody tr th {\n",
       "        vertical-align: top;\n",
       "    }\n",
       "\n",
       "    .dataframe thead th {\n",
       "        text-align: right;\n",
       "    }\n",
       "</style>\n",
       "<table border=\"1\" class=\"dataframe\">\n",
       "  <thead>\n",
       "    <tr style=\"text-align: right;\">\n",
       "      <th></th>\n",
       "      <th>Country</th>\n",
       "      <th>Happiness.Rank</th>\n",
       "      <th>Happiness.Score</th>\n",
       "      <th>Whisker.high</th>\n",
       "      <th>Whisker.low</th>\n",
       "      <th>Economy..GDP.per.Capita.</th>\n",
       "      <th>Family</th>\n",
       "      <th>Health..Life.Expectancy.</th>\n",
       "      <th>Freedom</th>\n",
       "      <th>Generosity</th>\n",
       "      <th>Trust..Government.Corruption.</th>\n",
       "      <th>Dystopia.Residual</th>\n",
       "    </tr>\n",
       "  </thead>\n",
       "  <tbody>\n",
       "    <tr>\n",
       "      <th>0</th>\n",
       "      <td>Norway</td>\n",
       "      <td>1</td>\n",
       "      <td>7.537</td>\n",
       "      <td>7.594445</td>\n",
       "      <td>7.479556</td>\n",
       "      <td>1.616463</td>\n",
       "      <td>1.533524</td>\n",
       "      <td>0.796667</td>\n",
       "      <td>0.635423</td>\n",
       "      <td>0.362012</td>\n",
       "      <td>0.315964</td>\n",
       "      <td>2.277027</td>\n",
       "    </tr>\n",
       "    <tr>\n",
       "      <th>1</th>\n",
       "      <td>Denmark</td>\n",
       "      <td>2</td>\n",
       "      <td>7.522</td>\n",
       "      <td>7.581728</td>\n",
       "      <td>7.462272</td>\n",
       "      <td>1.482383</td>\n",
       "      <td>1.551122</td>\n",
       "      <td>0.792566</td>\n",
       "      <td>0.626007</td>\n",
       "      <td>0.355280</td>\n",
       "      <td>0.400770</td>\n",
       "      <td>2.313707</td>\n",
       "    </tr>\n",
       "    <tr>\n",
       "      <th>2</th>\n",
       "      <td>Iceland</td>\n",
       "      <td>3</td>\n",
       "      <td>7.504</td>\n",
       "      <td>7.622030</td>\n",
       "      <td>7.385970</td>\n",
       "      <td>1.480633</td>\n",
       "      <td>1.610574</td>\n",
       "      <td>0.833552</td>\n",
       "      <td>0.627163</td>\n",
       "      <td>0.475540</td>\n",
       "      <td>0.153527</td>\n",
       "      <td>2.322715</td>\n",
       "    </tr>\n",
       "    <tr>\n",
       "      <th>3</th>\n",
       "      <td>Switzerland</td>\n",
       "      <td>4</td>\n",
       "      <td>7.494</td>\n",
       "      <td>7.561772</td>\n",
       "      <td>7.426227</td>\n",
       "      <td>1.564980</td>\n",
       "      <td>1.516912</td>\n",
       "      <td>0.858131</td>\n",
       "      <td>0.620071</td>\n",
       "      <td>0.290549</td>\n",
       "      <td>0.367007</td>\n",
       "      <td>2.276716</td>\n",
       "    </tr>\n",
       "    <tr>\n",
       "      <th>4</th>\n",
       "      <td>Finland</td>\n",
       "      <td>5</td>\n",
       "      <td>7.469</td>\n",
       "      <td>7.527542</td>\n",
       "      <td>7.410458</td>\n",
       "      <td>1.443572</td>\n",
       "      <td>1.540247</td>\n",
       "      <td>0.809158</td>\n",
       "      <td>0.617951</td>\n",
       "      <td>0.245483</td>\n",
       "      <td>0.382612</td>\n",
       "      <td>2.430182</td>\n",
       "    </tr>\n",
       "    <tr>\n",
       "      <th>5</th>\n",
       "      <td>Netherlands</td>\n",
       "      <td>6</td>\n",
       "      <td>7.377</td>\n",
       "      <td>7.427426</td>\n",
       "      <td>7.326574</td>\n",
       "      <td>1.503945</td>\n",
       "      <td>1.428939</td>\n",
       "      <td>0.810696</td>\n",
       "      <td>0.585384</td>\n",
       "      <td>0.470490</td>\n",
       "      <td>0.282662</td>\n",
       "      <td>2.294804</td>\n",
       "    </tr>\n",
       "    <tr>\n",
       "      <th>6</th>\n",
       "      <td>Canada</td>\n",
       "      <td>7</td>\n",
       "      <td>7.316</td>\n",
       "      <td>7.384403</td>\n",
       "      <td>7.247597</td>\n",
       "      <td>1.479204</td>\n",
       "      <td>1.481349</td>\n",
       "      <td>0.834558</td>\n",
       "      <td>0.611101</td>\n",
       "      <td>0.435540</td>\n",
       "      <td>0.287372</td>\n",
       "      <td>2.187264</td>\n",
       "    </tr>\n",
       "    <tr>\n",
       "      <th>7</th>\n",
       "      <td>New Zealand</td>\n",
       "      <td>8</td>\n",
       "      <td>7.314</td>\n",
       "      <td>7.379510</td>\n",
       "      <td>7.248490</td>\n",
       "      <td>1.405706</td>\n",
       "      <td>1.548195</td>\n",
       "      <td>0.816760</td>\n",
       "      <td>0.614062</td>\n",
       "      <td>0.500005</td>\n",
       "      <td>0.382817</td>\n",
       "      <td>2.046456</td>\n",
       "    </tr>\n",
       "    <tr>\n",
       "      <th>8</th>\n",
       "      <td>Sweden</td>\n",
       "      <td>9</td>\n",
       "      <td>7.284</td>\n",
       "      <td>7.344095</td>\n",
       "      <td>7.223905</td>\n",
       "      <td>1.494387</td>\n",
       "      <td>1.478162</td>\n",
       "      <td>0.830875</td>\n",
       "      <td>0.612924</td>\n",
       "      <td>0.385399</td>\n",
       "      <td>0.384399</td>\n",
       "      <td>2.097538</td>\n",
       "    </tr>\n",
       "    <tr>\n",
       "      <th>9</th>\n",
       "      <td>Australia</td>\n",
       "      <td>10</td>\n",
       "      <td>7.284</td>\n",
       "      <td>7.356651</td>\n",
       "      <td>7.211349</td>\n",
       "      <td>1.484415</td>\n",
       "      <td>1.510042</td>\n",
       "      <td>0.843887</td>\n",
       "      <td>0.601607</td>\n",
       "      <td>0.477699</td>\n",
       "      <td>0.301184</td>\n",
       "      <td>2.065211</td>\n",
       "    </tr>\n",
       "  </tbody>\n",
       "</table>\n",
       "</div>"
      ],
      "text/plain": [
       "       Country  Happiness.Rank  Happiness.Score  Whisker.high  Whisker.low  \\\n",
       "0       Norway               1            7.537      7.594445     7.479556   \n",
       "1      Denmark               2            7.522      7.581728     7.462272   \n",
       "2      Iceland               3            7.504      7.622030     7.385970   \n",
       "3  Switzerland               4            7.494      7.561772     7.426227   \n",
       "4      Finland               5            7.469      7.527542     7.410458   \n",
       "5  Netherlands               6            7.377      7.427426     7.326574   \n",
       "6       Canada               7            7.316      7.384403     7.247597   \n",
       "7  New Zealand               8            7.314      7.379510     7.248490   \n",
       "8       Sweden               9            7.284      7.344095     7.223905   \n",
       "9    Australia              10            7.284      7.356651     7.211349   \n",
       "\n",
       "   Economy..GDP.per.Capita.    Family  Health..Life.Expectancy.   Freedom  \\\n",
       "0                  1.616463  1.533524                  0.796667  0.635423   \n",
       "1                  1.482383  1.551122                  0.792566  0.626007   \n",
       "2                  1.480633  1.610574                  0.833552  0.627163   \n",
       "3                  1.564980  1.516912                  0.858131  0.620071   \n",
       "4                  1.443572  1.540247                  0.809158  0.617951   \n",
       "5                  1.503945  1.428939                  0.810696  0.585384   \n",
       "6                  1.479204  1.481349                  0.834558  0.611101   \n",
       "7                  1.405706  1.548195                  0.816760  0.614062   \n",
       "8                  1.494387  1.478162                  0.830875  0.612924   \n",
       "9                  1.484415  1.510042                  0.843887  0.601607   \n",
       "\n",
       "   Generosity  Trust..Government.Corruption.  Dystopia.Residual  \n",
       "0    0.362012                       0.315964           2.277027  \n",
       "1    0.355280                       0.400770           2.313707  \n",
       "2    0.475540                       0.153527           2.322715  \n",
       "3    0.290549                       0.367007           2.276716  \n",
       "4    0.245483                       0.382612           2.430182  \n",
       "5    0.470490                       0.282662           2.294804  \n",
       "6    0.435540                       0.287372           2.187264  \n",
       "7    0.500005                       0.382817           2.046456  \n",
       "8    0.385399                       0.384399           2.097538  \n",
       "9    0.477699                       0.301184           2.065211  "
      ]
     },
     "execution_count": 6,
     "metadata": {},
     "output_type": "execute_result"
    }
   ],
   "source": [
    "# Show the 10 first samples\n",
    "df_happiness.head(n=10)"
   ]
  },
  {
   "cell_type": "code",
   "execution_count": 7,
   "metadata": {
    "slideshow": {
     "slide_type": "slide"
    }
   },
   "outputs": [],
   "source": [
    "# Plot histograms for all numerical attributes\n",
    "df_happiness.hist(bins=20, figsize=(16, 12))\n",
    "plt.show()"
   ]
  },
  {
   "cell_type": "markdown",
   "metadata": {
    "slideshow": {
     "slide_type": "slide"
    }
   },
   "source": [
    "### Univariate regression\n",
    "\n",
    "Only one feature is used by the model, which has two parameters.\n",
    "\n",
    "$$y' = \\theta_0 + \\theta_1x$$"
   ]
  },
  {
   "cell_type": "markdown",
   "metadata": {
    "slideshow": {
     "slide_type": "slide"
    }
   },
   "source": [
    "### Example: predict country happiness using only GDP"
   ]
  },
  {
   "cell_type": "code",
   "execution_count": 8,
   "metadata": {
    "slideshow": {
     "slide_type": "-"
    }
   },
   "outputs": [],
   "source": [
    "def filter_dataset(df_data, input_features, target_feature):\n",
    "    \"\"\"Return a dataset containing only the selected input and output features\"\"\"\n",
    "    \n",
    "    feature_list = input_features + [target_feature]\n",
    "    return df_data[feature_list]"
   ]
  },
  {
   "cell_type": "code",
   "execution_count": 9,
   "metadata": {},
   "outputs": [],
   "source": [
    "# Define GDP as sole input feature\n",
    "input_features_uni = [\"Economy..GDP.per.Capita.\"]\n",
    "# Define country happiness as target\n",
    "target_feature = \"Happiness.Score\"\n",
    "\n",
    "df_happiness_uni = filter_dataset(df_happiness, input_features_uni, target_feature)"
   ]
  },
  {
   "cell_type": "code",
   "execution_count": 10,
   "metadata": {
    "slideshow": {
     "slide_type": "slide"
    }
   },
   "outputs": [
    {
     "data": {
      "text/html": [
       "<div>\n",
       "<style scoped>\n",
       "    .dataframe tbody tr th:only-of-type {\n",
       "        vertical-align: middle;\n",
       "    }\n",
       "\n",
       "    .dataframe tbody tr th {\n",
       "        vertical-align: top;\n",
       "    }\n",
       "\n",
       "    .dataframe thead th {\n",
       "        text-align: right;\n",
       "    }\n",
       "</style>\n",
       "<table border=\"1\" class=\"dataframe\">\n",
       "  <thead>\n",
       "    <tr style=\"text-align: right;\">\n",
       "      <th></th>\n",
       "      <th>Economy..GDP.per.Capita.</th>\n",
       "      <th>Happiness.Score</th>\n",
       "    </tr>\n",
       "  </thead>\n",
       "  <tbody>\n",
       "    <tr>\n",
       "      <th>94</th>\n",
       "      <td>0.783756</td>\n",
       "      <td>5.074</td>\n",
       "    </tr>\n",
       "    <tr>\n",
       "      <th>17</th>\n",
       "      <td>1.741944</td>\n",
       "      <td>6.863</td>\n",
       "    </tr>\n",
       "    <tr>\n",
       "      <th>85</th>\n",
       "      <td>1.079374</td>\n",
       "      <td>5.230</td>\n",
       "    </tr>\n",
       "    <tr>\n",
       "      <th>53</th>\n",
       "      <td>1.260749</td>\n",
       "      <td>5.850</td>\n",
       "    </tr>\n",
       "    <tr>\n",
       "      <th>139</th>\n",
       "      <td>0.858428</td>\n",
       "      <td>3.795</td>\n",
       "    </tr>\n",
       "    <tr>\n",
       "      <th>154</th>\n",
       "      <td>0.000000</td>\n",
       "      <td>2.693</td>\n",
       "    </tr>\n",
       "    <tr>\n",
       "      <th>4</th>\n",
       "      <td>1.443572</td>\n",
       "      <td>7.469</td>\n",
       "    </tr>\n",
       "    <tr>\n",
       "      <th>93</th>\n",
       "      <td>0.788548</td>\n",
       "      <td>5.074</td>\n",
       "    </tr>\n",
       "    <tr>\n",
       "      <th>47</th>\n",
       "      <td>1.395067</td>\n",
       "      <td>5.964</td>\n",
       "    </tr>\n",
       "    <tr>\n",
       "      <th>137</th>\n",
       "      <td>0.375847</td>\n",
       "      <td>3.875</td>\n",
       "    </tr>\n",
       "  </tbody>\n",
       "</table>\n",
       "</div>"
      ],
      "text/plain": [
       "     Economy..GDP.per.Capita.  Happiness.Score\n",
       "94                   0.783756            5.074\n",
       "17                   1.741944            6.863\n",
       "85                   1.079374            5.230\n",
       "53                   1.260749            5.850\n",
       "139                  0.858428            3.795\n",
       "154                  0.000000            2.693\n",
       "4                    1.443572            7.469\n",
       "93                   0.788548            5.074\n",
       "47                   1.395067            5.964\n",
       "137                  0.375847            3.875"
      ]
     },
     "execution_count": 10,
     "metadata": {},
     "output_type": "execute_result"
    }
   ],
   "source": [
    "# Show 10 random samples\n",
    "df_happiness_uni.sample(n=10)"
   ]
  },
  {
   "cell_type": "markdown",
   "metadata": {
    "slideshow": {
     "slide_type": "slide"
    }
   },
   "source": [
    "### Data splitting"
   ]
  },
  {
   "cell_type": "code",
   "execution_count": 11,
   "metadata": {
    "slideshow": {
     "slide_type": "-"
    }
   },
   "outputs": [],
   "source": [
    "def split_dataset(df_data, input_features, target_feature):\n",
    "    \"\"\"Split dataset between training and test sets, keeping only selected features\"\"\"\n",
    "    \n",
    "    df_train, df_test = train_test_split(df_data, test_size=0.2)\n",
    "\n",
    "    print(f\"Training dataset: {df_train.shape}\")\n",
    "    print(f\"Test dataset: {df_test.shape}\")\n",
    "\n",
    "    x_train = df_train[input_features].to_numpy()\n",
    "    y_train = df_train[target_feature].to_numpy()\n",
    "\n",
    "    x_test = df_test[input_features].to_numpy()\n",
    "    y_test = df_test[target_feature].to_numpy()\n",
    "\n",
    "    print(f\"Training data: {x_train.shape}, labels: {y_train.shape}\")\n",
    "    print(f\"Test data: {x_test.shape}, labels: {y_test.shape}\")\n",
    "\n",
    "    return x_train, y_train, x_test, y_test"
   ]
  },
  {
   "cell_type": "code",
   "execution_count": 12,
   "metadata": {
    "slideshow": {
     "slide_type": "slide"
    }
   },
   "outputs": [
    {
     "name": "stdout",
     "output_type": "stream",
     "text": [
      "Training dataset: (124, 2)\n",
      "Test dataset: (31, 2)\n",
      "Training data: (124, 1), labels: (124,)\n",
      "Test data: (31, 1), labels: (31,)\n"
     ]
    }
   ],
   "source": [
    "x_train_uni, y_train_uni, x_test_uni, y_test_uni = split_dataset(\n",
    "    df_happiness_uni, input_features_uni, target_feature\n",
    ")"
   ]
  },
  {
   "cell_type": "markdown",
   "metadata": {
    "slideshow": {
     "slide_type": "slide"
    }
   },
   "source": [
    "### Data plotting"
   ]
  },
  {
   "cell_type": "code",
   "execution_count": 13,
   "metadata": {
    "slideshow": {
     "slide_type": "-"
    }
   },
   "outputs": [],
   "source": [
    "def plot_univariate(x, y, input_features, target_features, model=None):\n",
    "    \"\"\"2D plot of features and target, including model prediction if defined\"\"\"\n",
    "    \n",
    "    plt.scatter(x, y, label=\"Actual\")\n",
    "    \n",
    "    if model is not None:\n",
    "        predictions_count = 100\n",
    "        x_pred = np.linspace(x.min(), x.max(), predictions_count).reshape(predictions_count, 1);\n",
    "        y_pred = model.predict(x_pred)\n",
    "        plt.plot(x_pred, y_pred, 'r', label='Prediction')\n",
    "    \n",
    "    plt.xlabel(input_features)\n",
    "    plt.ylabel(target_feature)\n",
    "    plt.title('Countries Happiness')\n",
    "    plt.legend()"
   ]
  },
  {
   "cell_type": "code",
   "execution_count": 14,
   "metadata": {
    "slideshow": {
     "slide_type": "slide"
    }
   },
   "outputs": [],
   "source": [
    "# Plot training data\n",
    "plot_univariate(x_train_uni, y_train_uni, input_features_uni, target_feature)"
   ]
  },
  {
   "cell_type": "markdown",
   "metadata": {
    "slideshow": {
     "slide_type": "slide"
    }
   },
   "source": [
    "## Analytical approach: normal equation"
   ]
  },
  {
   "cell_type": "markdown",
   "metadata": {
    "slideshow": {
     "slide_type": "slide"
    }
   },
   "source": [
    "### Problem formulation\n",
    "\n",
    "- $\\pmb{x}^{(i)}$: $i$th data sample, vector of $n+1$ features $x^{(i)}_j$ with $x^{(i)}_0 = 1$.\n",
    "- $\\pmb{\\theta}$: parameters of the linear model, vector of $n+1$ values $\\theta_j$.\n",
    "- $\\mathcal{h}_\\theta$: hypothesis function (relationship between inputs and targets).\n",
    "- $y'^{(i)}$: model output for the $i$th sample.\n",
    "\n",
    "$$\\pmb{x}^{(i)} = \\begin{pmatrix}\n",
    "       \\ x^{(i)}_0 \\\\\n",
    "       \\ x^{(i)}_1 \\\\\n",
    "       \\ \\vdots \\\\\n",
    "       \\ x^{(i)}_n\n",
    "     \\end{pmatrix} \\in \\pmb{R}^{n+1}\n",
    "\\;\\;\\;\n",
    "\\pmb{\\theta} = \\begin{pmatrix}\n",
    "       \\ \\theta_0 \\\\\n",
    "       \\ \\theta_1 \\\\\n",
    "       \\ \\vdots \\\\\n",
    "       \\ \\theta_n\n",
    "     \\end{pmatrix} \\in \\pmb{R}^{n+1}$$\n",
    "\n",
    "$$y'^{(i)} = \\mathcal{h}_\\theta(x^{(i)}) = \\theta_0 + \\theta_1x^{(i)}_1 + \\dotsc + \\theta_nx^{(i)}_n = \\pmb{\\theta}^T\\pmb{x}^{(i)}$$"
   ]
  },
  {
   "cell_type": "markdown",
   "metadata": {
    "slideshow": {
     "slide_type": "slide"
    }
   },
   "source": [
    "### Loss function\n",
    "\n",
    "We use the Mean Squared Error (MSE). RMSE is also a possible choice.\n",
    "\n",
    "$$\\mathcal{L}(\\theta) = \\frac{1}{m}\\sum_{i=1}^m (y'^{(i)} - y^{(i)})^2 = \\frac{1}{m}\\sum_{i=1}^m (\\mathcal{h}_\\theta(x^{(i)}) - y^{(i)})^2$$"
   ]
  },
  {
   "cell_type": "markdown",
   "metadata": {
    "slideshow": {
     "slide_type": "slide"
    }
   },
   "source": [
    "### Analytical solution\n",
    "\n",
    "- Technique for computing the regression coefficients $\\theta_i$ analytically (by calculus).\n",
    "- One-step learning algorithm (no iterations).\n",
    "- Also called *Ordinary Least Squares*.\n",
    "\n",
    "$$\\pmb{\\theta^{*}} = (\\pmb{X}^T\\pmb{X})^{-1}\\pmb{X}^T\\pmb{y}$$\n",
    "\n",
    "- $\\pmb{\\theta^*}$ is the parameter vector that minimizes the loss function $\\mathcal{L}(\\theta)$.\n",
    "- This result is called the **Normal Equation**."
   ]
  },
  {
   "cell_type": "markdown",
   "metadata": {
    "slideshow": {
     "slide_type": "subslide"
    }
   },
   "source": [
    "### Math proof (optional)\n",
    "\n",
    "(Inspired by [Derivation of the Normal Equation for linear regression](https://eli.thegreenplace.net/2014/derivation-of-the-normal-equation-for-linear-regression/) and [ML From Scratch, Part 1: Linear Regression](http://www.oranlooney.com/post/ml-from-scratch-part-1-linear-regression/))"
   ]
  },
  {
   "cell_type": "markdown",
   "metadata": {
    "slideshow": {
     "slide_type": "subslide"
    }
   },
   "source": [
    "#### Vectorized notation\n",
    "\n",
    "- $\\pmb{X}$: matrix of input data (*design matrix*). Each line corresponds to a sample.\n",
    "- $\\pmb{y}$: vector of target values.\n",
    "\n",
    "$$\\pmb{X} = \\begin{bmatrix}\n",
    "       \\ x^{(0)T} \\\\\n",
    "       \\ x^{(1)T} \\\\\n",
    "       \\ \\vdots \\\\\n",
    "       \\ x^{(m)T} \\\\\n",
    "     \\end{bmatrix} =\n",
    "\\begin{bmatrix}\n",
    "       \\ x^{(1)}_0 & x^{(1)}_1 & \\cdots & x^{(1)}_n \\\\\n",
    "       \\ x^{(2)}_0 & x^{(2)}_1 & \\cdots & x^{(2)}_n \\\\\n",
    "       \\ \\vdots & \\vdots & \\ddots & \\vdots \\\\\n",
    "       \\ x^{(m)}_0 & x^{(m)}_1 & \\cdots & x^{(m)}_n\n",
    "     \\end{bmatrix}\\;\\;\\;\n",
    "\\pmb{y} = \\begin{pmatrix}\n",
    "       \\ y^{(1)} \\\\\n",
    "       \\ y^{(2)} \\\\\n",
    "       \\ \\vdots \\\\\n",
    "       \\ y^{(m)}\n",
    "     \\end{pmatrix}$$\n",
    "     \n",
    "$$\\pmb{X}\\pmb{\\theta} =\n",
    "\\begin{pmatrix}\n",
    "       \\ \\theta_0 + \\theta_1x^{(1)}_1 + \\dotsc + \\theta_nx^{(1)}_n \\\\\n",
    "       \\ \\theta_0 + \\theta_1x^{(2)}_1 + \\dotsc + \\theta_nx^{(2)}_n \\\\\n",
    "       \\ \\vdots \\\\\n",
    "       \\ \\theta_0 + \\theta_1x^{(m)}_1 + \\dotsc + \\theta_nx^{(m)}_n\n",
    "     \\end{pmatrix} = \n",
    "\\begin{pmatrix}\n",
    "       \\ \\mathcal{h}_\\theta(x^{(1)}) \\\\\n",
    "       \\ \\mathcal{h}_\\theta(x^{(2)}) \\\\\n",
    "       \\ \\vdots \\\\\n",
    "       \\ \\mathcal{h}_\\theta(x^{(m)})\n",
    "     \\end{pmatrix}$$"
   ]
  },
  {
   "cell_type": "markdown",
   "metadata": {
    "slideshow": {
     "slide_type": "subslide"
    }
   },
   "source": [
    "#### Vectorized loss\n",
    "\n",
    "The loss can also be expressed using a vectorized notation.\n",
    "\n",
    "$$\\mathcal{L}(\\theta) = \\frac{1}{m}\\sum_{i=1}^m (\\mathcal{h}_\\theta(x^{(i)}) - y^{(i)})^2 = \\frac{1}{m}\\lVert{\\pmb{X}\\pmb{\\theta} - \\pmb{y}}\\rVert^2$$\n",
    "\n",
    "The squared norm of a vector $\\pmb{v}$ is the inner product of that vector with its transpose: $\\sum_{i=1}^n v_i^2 = \\pmb{v}^T \\pmb{v}$.\n",
    "\n",
    "$$\\mathcal{L}(\\theta) = \\frac{1}{m}(\\pmb{X}\\pmb{\\theta} - \\pmb{y})^T(\\pmb{X}\\pmb{\\theta} - \\pmb{y})$$"
   ]
  },
  {
   "cell_type": "markdown",
   "metadata": {
    "slideshow": {
     "slide_type": "subslide"
    }
   },
   "source": [
    "The previous expression can be developped.\n",
    "\n",
    "$$\\mathcal{L}(\\theta) = \\frac{1}{m}\\left((\\pmb{X}\\pmb{\\theta})^T - \\pmb{y}^T)(\\pmb{X}\\pmb{\\theta} - \\pmb{y}\\right) = \\frac{1}{m}\\left((\\pmb{X}\\pmb{\\theta})^T\\pmb{X}\\pmb{\\theta} - (\\pmb{X}\\pmb{\\theta})^T\\pmb{y} - \\pmb{y}^T(\\pmb{X}\\pmb{\\theta}) + \\pmb{y}^T\\pmb{y}\\right)$$\n",
    "\n",
    "Since $\\pmb{X}\\pmb{\\theta}$ and $\\pmb{y}$ are vectors, $(\\pmb{X}\\pmb{\\theta})^T\\pmb{y} = \\pmb{y}^T(\\pmb{X}\\pmb{\\theta})$.\n",
    "\n",
    "$$\\mathcal{L}(\\theta) = \\frac{1}{m}\\left(\\pmb{\\theta}^T\\pmb{X}^T\\pmb{X}\\pmb{\\theta} - 2(\\pmb{X}\\pmb{\\theta})^T\\pmb{y} + \\pmb{y}^T\\pmb{y}\\right)$$"
   ]
  },
  {
   "cell_type": "markdown",
   "metadata": {
    "slideshow": {
     "slide_type": "subslide"
    }
   },
   "source": [
    "#### Loss gradient\n",
    "\n",
    "We must find the $\\pmb{\\theta^*}$ vector that minimizes the loss function $\\mathcal{L}(\\theta)$.\n",
    "\n",
    "$$\\pmb{\\theta^*} = \\underset{\\theta}{\\mathrm{argmin}}\\;\\mathcal{L}(\\theta)$$\n",
    "\n",
    "Since the loss function is continuous, convex and differentiable everywhere (in simplest termes: bowl-shaped), it admits one unique global minimum, for which the gradient vector $\\nabla_{\\theta}\\mathcal{L}(\\pmb{\\theta})$ is equal to $\\vec{0}$.\n",
    "\n",
    "$$\\nabla_{\\theta}\\mathcal{L}(\\pmb{\\theta}) = \\begin{pmatrix}\n",
    "       \\ \\frac{\\partial}{\\partial \\theta_0} \\mathcal{L}(\\boldsymbol{\\theta}) \\\\\n",
    "       \\ \\frac{\\partial}{\\partial \\theta_1} \\mathcal{L}(\\boldsymbol{\\theta}) \\\\\n",
    "       \\ \\vdots \\\\\n",
    "       \\ \\frac{\\partial}{\\partial \\theta_n} \\mathcal{L}(\\boldsymbol{\\theta})\n",
    "     \\end{pmatrix} = \\nabla_{\\theta}\\left(\\frac{1}{m}(\\pmb{\\theta}^T\\pmb{X}^T\\pmb{X}\\pmb{\\theta} - 2(\\pmb{X}\\pmb{\\theta})^T\\pmb{y} + \\pmb{y}^T\\pmb{y})\\right)$$"
   ]
  },
  {
   "cell_type": "markdown",
   "metadata": {
    "slideshow": {
     "slide_type": "subslide"
    }
   },
   "source": [
    "#### Computation of loss gradient terms\n",
    "\n",
    "Since $\\pmb{y}^T\\pmb{y}$ is constant w.r.t. $\\pmb{\\theta}$, $\\nabla_{\\theta}(\\pmb{y}^T\\pmb{y}) = \\vec{0}$.\n",
    "\n",
    "$$2(\\pmb{X}\\pmb{\\theta})^T\\pmb{y} = 2\\;\\begin{pmatrix}\n",
    "       \\ \\theta_0 + \\theta_1x^{(1)}_1 + \\dotsc + \\theta_nx^{(1)}_n \\\\\n",
    "       \\ \\theta_0 + \\theta_1x^{(2)}_1 + \\dotsc + \\theta_nx^{(2)}_n \\\\\n",
    "       \\ \\vdots \\\\\n",
    "       \\ \\theta_0 + \\theta_1x^{(m)}_1 + \\dotsc + \\theta_nx^{(m)}_n\n",
    "     \\end{pmatrix}^T\\begin{pmatrix}\n",
    "       \\ y^{(1)} \\\\\n",
    "       \\ y^{(2)} \\\\\n",
    "       \\ \\vdots \\\\\n",
    "       \\ y^{(m)}\n",
    "     \\end{pmatrix} = 2\\sum_{i=1}^m y^{(i)}(\\theta_0 + \\theta_1x^{(i)}_1 + \\dotsc + \\theta_nx^{(i)}_n) $$\n",
    "     \n",
    "Reminder: $\\forall i \\in [1..m], x_0^{(i)} = 1$.\n",
    "\n",
    "$$2(\\pmb{X}\\pmb{\\theta})^T\\pmb{y} =2\\sum_{i=1}^m y^{(i)}\\sum_{j=0}^n x_j^{(i)}\\theta_j$$"
   ]
  },
  {
   "cell_type": "markdown",
   "metadata": {
    "slideshow": {
     "slide_type": "subslide"
    }
   },
   "source": [
    "$$\\nabla_{\\theta}\\left(2(\\pmb{X}\\pmb{\\theta})^T\\pmb{y}\\right) = \n",
    "\\begin{pmatrix}\n",
    "       \\ \\frac{\\partial}{\\partial \\theta_0} \\left(2(\\pmb{X}\\pmb{\\theta})^T\\pmb{y}\\right)  \\\\\n",
    "       \\ \\frac{\\partial}{\\partial \\theta_1} \\left(2(\\pmb{X}\\pmb{\\theta})^T\\pmb{y}\\right) \\\\\n",
    "       \\ \\vdots \\\\\n",
    "       \\ \\frac{\\partial}{\\partial \\theta_n} \\left(2(\\pmb{X}\\pmb{\\theta})^T\\pmb{y}\\right)\n",
    "     \\end{pmatrix} =\n",
    "2\\begin{pmatrix}\n",
    "       \\ \\sum_{i=1}^m y^{(i)}x_0^{(i)} \\\\\n",
    "       \\ \\sum_{i=1}^m y^{(i)}x_1^{(i)} \\\\\n",
    "       \\ \\vdots \\\\\n",
    "       \\ \\sum_{i=1}^m y^{(i)}x_n^{(i)}\n",
    "     \\end{pmatrix} = 2 \\pmb{X}^T\\pmb{y}$$"
   ]
  },
  {
   "cell_type": "markdown",
   "metadata": {
    "slideshow": {
     "slide_type": "subslide"
    }
   },
   "source": [
    "$\\pmb{X}^T\\pmb{X}$ is a square and symmetric matrix called $\\pmb{A}$ here for simplicity of notation.\n",
    "\n",
    "$$\\pmb{X}^T\\pmb{X} = \\begin{bmatrix}\n",
    "       \\ x^{(1)}_0 & x^{(2)}_0 & \\cdots & x^{(m)}_0 \\\\\n",
    "       \\ x^{(1)}_1 & x^{(2)}_1 & \\cdots & x^{(m)}_1 \\\\\n",
    "       \\ \\vdots & \\vdots & \\ddots & \\vdots \\\\\n",
    "       \\ x^{(1)}_n & x^{(2)}_n & \\cdots & x^{(m)}_n\n",
    "     \\end{bmatrix}\n",
    "\\begin{bmatrix}\n",
    "       \\ x^{(1)}_0 & x^{(1)}_1 & \\cdots & x^{(1)}_n \\\\\n",
    "       \\ x^{(2)}_0 & x^{(2)}_1 & \\cdots & x^{(2)}_n \\\\\n",
    "       \\ \\vdots & \\vdots & \\ddots & \\vdots \\\\\n",
    "       \\ x^{(m)}_0 & x^{(m)}_1 & \\cdots & x^{(m)}_n\n",
    "     \\end{bmatrix} = \\pmb{A} \\in \\pmb{R}^{n+1 \\times n+1}$$"
   ]
  },
  {
   "cell_type": "markdown",
   "metadata": {
    "slideshow": {
     "slide_type": "subslide"
    }
   },
   "source": [
    "$$\\pmb{\\theta}^T\\pmb{X}^T\\pmb{X}\\pmb{\\theta} = \\begin{pmatrix}\n",
    "       \\ \\theta_0 \\\\\n",
    "       \\ \\theta_1 \\\\\n",
    "       \\ \\vdots \\\\\n",
    "       \\ \\theta_n\n",
    "     \\end{pmatrix}^T\n",
    "     \\begin{bmatrix}\n",
    "       \\ a_{00} & a_{01} & \\cdots & a_{0n} \\\\\n",
    "       \\ a_{10} & a_{11} & \\cdots & a_{1n} \\\\\n",
    "       \\ \\vdots & \\vdots & \\ddots & \\vdots \\\\\n",
    "       \\ a_{n0} & a_{n1} & \\cdots & a_{nn}\n",
    "     \\end{bmatrix}\n",
    "     \\begin{pmatrix}\n",
    "       \\ \\theta_0 \\\\\n",
    "       \\ \\theta_1 \\\\\n",
    "       \\ \\vdots \\\\\n",
    "       \\ \\theta_n\n",
    "     \\end{pmatrix} = \n",
    "     \\begin{pmatrix}\n",
    "       \\ \\theta_0 \\\\\n",
    "       \\ \\theta_1 \\\\\n",
    "       \\ \\vdots \\\\\n",
    "       \\ \\theta_n\n",
    "     \\end{pmatrix}^T\n",
    "     \\begin{pmatrix}\n",
    "       \\ a_{00}\\theta_0 + a_{01}\\theta_1 + \\dotsc + a_{0n}\\theta_n \\\\\n",
    "       \\ a_{10}\\theta_0 + a_{11}\\theta_1 + \\dotsc + a_{1n}\\theta_n \\\\\n",
    "       \\ \\vdots \\\\\n",
    "       \\ a_{n0}\\theta_0 + a_{n1}\\theta_1 + \\dotsc + a_{nn}\\theta_n\n",
    "     \\end{pmatrix}$$\n",
    "     \n",
    "$$\\pmb{\\theta}^T\\pmb{X}^T\\pmb{X}\\pmb{\\theta} = \\theta_0(a_{00}\\theta_0 + a_{01}\\theta_1 + \\dotsc + a_{0n}\\theta_n) + \\theta_1(a_{10}\\theta_0 + a_{11}\\theta_1 + \\dotsc + a_{1n}\\theta_n) + \\dotsc + \\theta_n(a_{n0}\\theta_0 + a_{n1}\\theta_1 + \\dotsc + a_{nn}\\theta_n)$$"
   ]
  },
  {
   "cell_type": "markdown",
   "metadata": {
    "slideshow": {
     "slide_type": "subslide"
    }
   },
   "source": [
    "$$\\frac{\\partial}{\\partial \\theta_0} \\left(\\pmb{\\theta}^T\\pmb{X}^T\\pmb{X}\\pmb{\\theta}\\right) =\n",
    "2a_{00}\\theta_0 + a_{01}\\theta_1 + \\dotsc + a_{0n}\\theta_n + a_{10}\\theta_1 + a_{20}\\theta_2 + \\dotsc + a_{n0}\\theta_n$$\n",
    "\n",
    "Since $\\pmb{A}$ is symmetric, $\\forall i,j \\in [1..n,1..n], a_{ij} = a_{ji}$.\n",
    "\n",
    "$$\\frac{\\partial}{\\partial \\theta_0} \\left(\\pmb{\\theta}^T\\pmb{X}^T\\pmb{X}\\pmb{\\theta}\\right) =\n",
    "2(a_{00}\\theta_0 + a_{01}\\theta_1 + \\dotsc + a_{0n}\\theta_n) =\n",
    "2\\sum_{j=0}^n a_{0j}\\theta_j$$\n",
    "\n",
    "$$\\nabla_{\\theta}\\left(\\pmb{\\theta}^T\\pmb{X}^T\\pmb{X}\\pmb{\\theta}\\right)=\n",
    "\\begin{pmatrix}\n",
    "       \\ \\frac{\\partial}{\\partial \\theta_0} \\left(\\pmb{\\theta}^T\\pmb{X}^T\\pmb{X}\\pmb{\\theta}\\right)  \\\\\n",
    "       \\ \\frac{\\partial}{\\partial \\theta_1} \\left(\\pmb{\\theta}^T\\pmb{X}^T\\pmb{X}\\pmb{\\theta}\\right) \\\\\n",
    "       \\ \\vdots \\\\\n",
    "       \\ \\frac{\\partial}{\\partial \\theta_n} \\left(\\pmb{\\theta}^T\\pmb{X}^T\\pmb{X}\\pmb{\\theta}\\right)\n",
    "     \\end{pmatrix} =\n",
    "     2\\begin{pmatrix}\n",
    "       \\ \\sum_{j=0}^n a_{0j}\\theta_j  \\\\\n",
    "       \\ \\sum_{j=0}^n a_{1j}\\theta_j \\\\\n",
    "       \\ \\vdots \\\\\n",
    "       \\ \\sum_{j=0}^n a_{nj}\\theta_j\n",
    "     \\end{pmatrix}=\n",
    "     2\\pmb{A}\\pmb{\\theta} = 2\\pmb{X}^T\\pmb{X}\\pmb{\\theta}$$"
   ]
  },
  {
   "cell_type": "markdown",
   "metadata": {
    "slideshow": {
     "slide_type": "subslide"
    }
   },
   "source": [
    "#### Final gradient expression\n",
    "\n",
    "We can finally express the gradient of the loss function w.r.t. the model parameters:\n",
    "\n",
    "$$\\nabla_{\\theta}\\mathcal{L}(\\pmb{\\theta}) = \\nabla_{\\theta}\\left(\\frac{1}{m}(\\pmb{\\theta}^T\\pmb{X}^T\\pmb{X}\\pmb{\\theta} - 2(\\pmb{X}\\pmb{\\theta})^T\\pmb{y} + \\pmb{y}^T\\pmb{y})\\right) = \\frac{1}{m}\\left(2\\pmb{X}^T\\pmb{X}\\pmb{\\theta} - 2\\pmb{X}^T\\pmb{y}\\right)$$\n",
    "\n",
    "$$\\nabla_{\\theta}\\mathcal{L}(\\pmb{\\theta}) = \\frac{2}{m}\\pmb{X}^T\\left(\\pmb{X}\\pmb{\\theta} - y\\right)$$"
   ]
  },
  {
   "cell_type": "markdown",
   "metadata": {
    "slideshow": {
     "slide_type": "subslide"
    }
   },
   "source": [
    "#### Loss minimization\n",
    "\n",
    "The $\\pmb{\\theta^*}$ vector that minimizes the loss is such as the gradient is equal to $\\vec{0}$. In other terms:\n",
    "\n",
    "$$\\pmb{X}^T\\pmb{X}\\pmb{\\theta^{*}} - \\pmb{X}^T\\pmb{y} = \\vec{0}$$\n",
    "\n",
    "$$\\pmb{X}^T\\pmb{X}\\pmb{\\theta^{*}} = \\pmb{X}^T\\pmb{y}$$\n",
    "\n",
    "If $\\pmb{X}^T\\pmb{X}$ is an inversible matrix, the result is given by:\n",
    "\n",
    "$$\\pmb{\\theta^{*}} = (\\pmb{X}^T\\pmb{X})^{-1}\\pmb{X}^T\\pmb{y}$$\n",
    "\n",
    "Which is exactly the Normal Equation we were expecting to see!"
   ]
  },
  {
   "cell_type": "markdown",
   "metadata": {
    "slideshow": {
     "slide_type": "slide"
    }
   },
   "source": [
    "### Example: applying Normal Equation to predict country happiness"
   ]
  },
  {
   "cell_type": "code",
   "execution_count": 15,
   "metadata": {},
   "outputs": [],
   "source": [
    "def train_model(model, x, y):\n",
    "    model.fit(x, y)\n",
    "    print(f\"Model weights: {model.coef_}, bias: {model.intercept_}\")\n",
    "\n",
    "    error = mean_squared_error(y, model.predict(x))\n",
    "    print(f\"Training error: {error:.05f}\")\n",
    "\n",
    "\n",
    "def test_model(model, x, y):\n",
    "    error = mean_squared_error(y, model.predict(x))\n",
    "    print(f\"Test error: {error:.05f}\")"
   ]
  },
  {
   "cell_type": "code",
   "execution_count": 16,
   "metadata": {
    "slideshow": {
     "slide_type": "slide"
    }
   },
   "outputs": [
    {
     "name": "stdout",
     "output_type": "stream",
     "text": [
      "Model weights: [2.16957294], bias: 3.2000956805232263\n",
      "Training error: 0.43707\n",
      "Test error: 0.41420\n"
     ]
    }
   ],
   "source": [
    "# Create a Linear Regression model (based on Normal Equation)\n",
    "lr_model = LinearRegression()\n",
    "\n",
    "# Train and test the model on univariate data\n",
    "train_model(lr_model, x_train_uni, y_train_uni)\n",
    "test_model(lr_model, x_test_uni, y_test_uni)"
   ]
  },
  {
   "cell_type": "code",
   "execution_count": 17,
   "metadata": {
    "slideshow": {
     "slide_type": "slide"
    }
   },
   "outputs": [],
   "source": [
    "# Plot data and model prediction\n",
    "plot_univariate(x_train_uni, y_train_uni, input_features_uni, target_feature, lr_model)"
   ]
  },
  {
   "cell_type": "markdown",
   "metadata": {
    "slideshow": {
     "slide_type": "slide"
    }
   },
   "source": [
    "### Multivariate regression\n",
    "\n",
    "General case: several features are used by the model.\n",
    "\n",
    "$$y' = \\theta_0 + \\theta_1x_1 + \\dotsc + \\theta_nx_n$$"
   ]
  },
  {
   "cell_type": "code",
   "execution_count": 18,
   "metadata": {
    "slideshow": {
     "slide_type": "slide"
    }
   },
   "outputs": [
    {
     "name": "stdout",
     "output_type": "stream",
     "text": [
      "Training dataset: (124, 12)\n",
      "Test dataset: (31, 12)\n",
      "Training data: (124, 2), labels: (124,)\n",
      "Test data: (31, 2), labels: (31,)\n"
     ]
    }
   ],
   "source": [
    "# Using two input features: GDP and degree of freedom\n",
    "input_features_multi = [\"Economy..GDP.per.Capita.\", \"Freedom\"]\n",
    "\n",
    "x_train_multi, y_train_multi, x_test_multi, y_test_multi = split_dataset(\n",
    "    df_happiness, input_features_multi, target_feature\n",
    ")"
   ]
  },
  {
   "cell_type": "code",
   "execution_count": 19,
   "metadata": {
    "slideshow": {
     "slide_type": "skip"
    }
   },
   "outputs": [],
   "source": [
    "def plot_multivariate(x, y, input_features, target_features, model=None):\n",
    "    \"\"\"3D plot of features and target, including model prediction if defined\"\"\"\n",
    "    \n",
    "    # Configure the plot with training dataset\n",
    "    plot_training_trace = go.Scatter3d(\n",
    "        x=x[:, 0].flatten(),\n",
    "        y=x[:, 1].flatten(),\n",
    "        z=y.flatten(),\n",
    "        name=\"Actual\",\n",
    "        mode=\"markers\",\n",
    "        marker={\n",
    "            \"size\": 10,\n",
    "            \"opacity\": 1,\n",
    "            \"line\": {\"color\": \"rgb(255, 255, 255)\", \"width\": 1},\n",
    "        },\n",
    "    )\n",
    "\n",
    "    plot_data = plot_training_trace\n",
    "\n",
    "    if model is not None:\n",
    "        # Generate different combinations of X and Y sets to build a predictions plane.\n",
    "        predictions_count = 10\n",
    "\n",
    "        # Find min and max values along X and Y axes.\n",
    "        x_min = x[:, 0].min()\n",
    "        x_max = x[:, 0].max()\n",
    "\n",
    "        y_min = x[:, 1].min()\n",
    "        y_max = x[:, 1].max()\n",
    "\n",
    "        # Generate predefined numbe of values for eaxh axis betwing correspondent min and max values.\n",
    "        x_axis = np.linspace(x_min, x_max, predictions_count)\n",
    "        y_axis = np.linspace(y_min, y_max, predictions_count)\n",
    "\n",
    "        # Create empty vectors for X and Y axes predictions\n",
    "        # We're going to find cartesian product of all possible X and Y values.\n",
    "        x_pred = np.zeros((predictions_count * predictions_count, 1))\n",
    "        y_pred = np.zeros((predictions_count * predictions_count, 1))\n",
    "\n",
    "        # Find cartesian product of all X and Y values.\n",
    "        x_y_index = 0\n",
    "        for x_index, x_value in enumerate(x_axis):\n",
    "            for y_index, y_value in enumerate(y_axis):\n",
    "                x_pred[x_y_index] = x_value\n",
    "                y_pred[x_y_index] = y_value\n",
    "                x_y_index += 1\n",
    "\n",
    "        # Predict Z value for all X and Y pairs.\n",
    "        z_pred = model.predict(np.hstack((x_pred, y_pred)))\n",
    "\n",
    "        # Plot training data with predictions.\n",
    "\n",
    "        # Configure the plot with test dataset.\n",
    "        plot_predictions_trace = go.Scatter3d(\n",
    "            x=x_pred.flatten(),\n",
    "            y=y_pred.flatten(),\n",
    "            z=z_pred.flatten(),\n",
    "            name=\"Prediction Plane\",\n",
    "            mode=\"markers\",\n",
    "            marker={\"size\": 1,},\n",
    "            opacity=0.8,\n",
    "            surfaceaxis=2,\n",
    "        )\n",
    "\n",
    "        plot_data = [plot_training_trace, plot_predictions_trace]\n",
    "\n",
    "    # Configure the layout.\n",
    "    plot_layout = go.Layout(\n",
    "        title=\"Date Sets\",\n",
    "        scene={\n",
    "            \"xaxis\": {\"title\": input_features[0]},\n",
    "            \"yaxis\": {\"title\": input_features[1]},\n",
    "            \"zaxis\": {\"title\": target_feature},\n",
    "        },\n",
    "        margin={\"l\": 0, \"r\": 0, \"b\": 0, \"t\": 0},\n",
    "    )\n",
    "\n",
    "    plot_figure = go.Figure(data=plot_data, layout=plot_layout)\n",
    "\n",
    "    # Render 3D scatter plot.\n",
    "    plotly.offline.iplot(plot_figure)"
   ]
  },
  {
   "cell_type": "code",
   "execution_count": 20,
   "metadata": {
    "slideshow": {
     "slide_type": "slide"
    }
   },
   "outputs": [
    {
     "data": {
      "application/vnd.plotly.v1+json": {
       "config": {
        "linkText": "Export to plot.ly",
        "plotlyServerURL": "https://plot.ly",
        "showLink": false
       },
       "data": [
        {
         "marker": {
          "line": {
           "color": "rgb(255, 255, 255)",
           "width": 1
          },
          "opacity": 1,
          "size": 10
         },
         "mode": "markers",
         "name": "Actual",
         "type": "scatter3d",
         "x": [
          0.9910123944282528,
          1.5357066392898602,
          1.0272358655929599,
          1.1307767629623402,
          0.0921023488044739,
          1.74194359779358,
          1.1018030643463101,
          1.40570604801178,
          1.09186446666718,
          1.3559380769729599,
          0.716249227523804,
          1.40167844295502,
          1.1982102394104,
          0.09162256866693501,
          1.8707656860351598,
          1.15655755996704,
          1.34327983856201,
          0.479309022426605,
          1.1027104854583702,
          0.85769921541214,
          0.737299203872681,
          0.777153134346008,
          1.55167484283447,
          0.964434325695038,
          1.00082039833069,
          1.05469870567322,
          0.6595166921615601,
          1.1531838178634601,
          1.12786877155304,
          1.28948748111725,
          1.22255623340607,
          0.786441087722778,
          0.560479462146759,
          0.872001945972443,
          0.6017650961875921,
          0.30544471740722695,
          0.925579309463501,
          1.2845562696456898,
          0.23430564999580397,
          0.339233845472336,
          1.44163393974304,
          1.12112903594971,
          0.7288706302642819,
          1.6263433694839498,
          1.1982743740081798,
          1.29121541976929,
          0.564305365085602,
          0.511135876178741,
          0.8584281802177429,
          1.4637807607650801,
          0.8089642524719242,
          1.49438726902008,
          0.35022771358490007,
          0.368745893239975,
          0.982409417629242,
          1.41691517829895,
          0.521021246910095,
          1.12843120098114,
          0.5962200760841371,
          0.9097844958305359,
          1.25278460979462,
          1.6164631843566901,
          1.00985014438629,
          1.4870972633361799,
          1.53062355518341,
          1.48238301277161,
          0.8781145811080929,
          1.48792338371277,
          0.6030489206314089,
          1.3469113111496,
          0.368610262870789,
          1.10970628261566,
          1.50394463539124,
          0.7922212481498722,
          0.89465194940567,
          1.3950666189193701,
          0.11904179304838199,
          0.783756256103516,
          0.7268835306167599,
          0.24454993009567302,
          0.989701807498932,
          0.833756566047668,
          1.2860119342803997,
          0.996192753314972,
          0.951484382152557,
          1.08116579055786,
          1.3753824234008798,
          0.43801298737525896,
          1.35268235206604,
          1.15687310695648,
          0.7885475754737851,
          1.12209415435791,
          0.667224824428558,
          0.730573117733002,
          1.4336265325546298,
          1.06457793712616,
          0,
          0.305808693170547,
          0.36842092871666,
          1.36135590076447,
          1.4884122610092199,
          0.586682975292206,
          0.5916834473609921,
          0.885416388511658,
          1.07062232494354,
          1.29178786277771,
          0.381430715322495,
          0.36711055040359497,
          1.38439786434174,
          0.524713635444641,
          1.54625928401947,
          1.2175596952438401,
          0.401477217674255,
          1.00726580619812,
          1.28177809715271,
          0.6484572887420649,
          1.3208793401718102,
          1.18529546260834,
          1.1893955469131499,
          1.06931757926941,
          1.44357192516327,
          1.69227766990662,
          1.4844149351120002,
          0.900596737861633
         ],
         "y": [
          0.418421149253845,
          0.5731103420257571,
          0.39414396882057207,
          0.41827192902565,
          0.235961347818375,
          0.59662789106369,
          0.465733230113983,
          0.6140621304512021,
          0.233335807919502,
          0.35511153936386103,
          0.25471106171608,
          0.257921665906906,
          0.31232857704162603,
          0.0599007532000542,
          0.604130983352661,
          0.295400261878967,
          0.588767051696777,
          0.37792226672172496,
          0.288555532693863,
          0.585214674472809,
          0.447551846504211,
          0.0815394446253777,
          0.490968644618988,
          0.520303547382355,
          0.4551981985569,
          0.479246735572815,
          0.0149958552792668,
          0.412730008363724,
          0.580200731754303,
          0.0957312509417534,
          0.255772292613983,
          0.6582486629486078,
          0.45276376605033897,
          0.5313106179237371,
          0.633375823497772,
          0.38042613863945,
          0.474307239055634,
          0.43745428323745705,
          0.48079109191894503,
          0.408842742443085,
          0.508190035820007,
          0.194989055395126,
          0.24072904884815197,
          0.60834527015686,
          0.300740599632263,
          0.40226498246192893,
          0.430388748645782,
          0.390017777681351,
          0,
          0.5397707223892211,
          0.4350258708000179,
          0.612924098968506,
          0.32436785101890603,
          0.5818438529968261,
          0.204403176903725,
          0.505625545978546,
          0.390661299228668,
          0.15399712324142498,
          0.454943388700485,
          0.432452529668808,
          0.376895278692245,
          0.635422587394714,
          0.561213254928589,
          0.567766189575195,
          0.449750572443008,
          0.626006722450256,
          0.408158332109451,
          0.562511384487152,
          0.4477061927318571,
          0.47120362520217896,
          0.0303698573261499,
          0.580131649971008,
          0.5853844881057739,
          0.469987004995346,
          0.12297477573156401,
          0.256450712680817,
          0.33288118243217496,
          0.394952565431595,
          0.23521526157856,
          0.348587512969971,
          0.28211015462875394,
          0.5587329268455511,
          0.17586351931095098,
          0.381498634815216,
          0.260287940502167,
          0.47278770804405196,
          0.40598860383033797,
          0.16234202682972002,
          0.49094617366790794,
          0.24932260811328896,
          0.571055591106415,
          0.505196332931519,
          0.423026293516159,
          0.348079860210419,
          0.361466586589813,
          0.325905978679657,
          0.270842045545578,
          0.18919676542282102,
          0.318697690963745,
          0.518630743026733,
          0.536746919155121,
          0.478356659412384,
          0.24946372210979503,
          0.5015376806259161,
          0.47748741507530196,
          0.520342111587524,
          0.443185955286026,
          0.514492034912109,
          0.408781230449677,
          0.47156670689582797,
          0.505740523338318,
          0.5793922543525699,
          0.106179520487785,
          0.289680689573288,
          0.373783111572266,
          0.0960980430245399,
          0.479131430387497,
          0.49451920390129106,
          0.491247326135635,
          0.20871552824974102,
          0.6179508566856379,
          0.549840569496155,
          0.601607382297516,
          0.198303267359734
         ],
         "z": [
          5.33599996566772,
          6.9770002365112305,
          4.95499992370605,
          5.82200002670288,
          4.2800002098083505,
          6.86299991607666,
          5.525000095367429,
          7.31400012969971,
          5.872000217437741,
          5.62099981307983,
          4.77500009536743,
          5.837999820709231,
          4.46500015258789,
          2.90499997138977,
          6.375,
          5.5689997673034695,
          6.52699995040894,
          4.53499984741211,
          4.49700021743774,
          5.42999982833862,
          6.07100009918213,
          3.46199989318848,
          5.47200012207031,
          4.57399988174438,
          6.00799989700317,
          4.8289999961853,
          4.138999938964839,
          6.57800006866455,
          6.4239997863769505,
          5.2270002365112305,
          5.2930002212524405,
          5.97100019454956,
          4.55299997329712,
          6.4539999961853,
          4.1680002212524405,
          3.4949998855590803,
          5.31099987030029,
          5.8189997673034695,
          4.550000190734861,
          4.46000003814697,
          6.71400022506714,
          5.23699998855591,
          5.837999820709231,
          6.6479997634887695,
          5.5,
          6.08400011062622,
          4.69500017166138,
          3.34899997711182,
          3.79500007629395,
          6.89099979400635,
          4.29099988937378,
          7.28399991989136,
          4.03200006484985,
          3.47099995613098,
          5.18200016021729,
          5.92000007629395,
          3.80800008773804,
          5.25,
          5.0040001869201705,
          6.002999782562259,
          6.65199995040894,
          7.537000179290769,
          4.44000005722046,
          7.00600004196167,
          6.343999862670901,
          7.52199983596802,
          5.2350001335144,
          6.9510002136230495,
          4.17999982833862,
          5.80999994277954,
          3.6029999256133998,
          7.0789999961853,
          7.3769998550415,
          4.31500005722046,
          4.09600019454956,
          5.96400022506714,
          3.5329999923706095,
          5.07399988174438,
          5.26900005340576,
          3.50699996948242,
          4.7350001335144,
          5.82299995422363,
          5.32399988174438,
          4.64400005340576,
          5.27899980545044,
          5.2729997634887695,
          7.212999820709231,
          3.9360001087188703,
          6.60900020599365,
          4.69199991226196,
          5.07399988174438,
          3.7660000324249303,
          4.11999988555908,
          5.1810002326965305,
          6.42199993133545,
          5.175000190734861,
          2.69300007820129,
          3.64400005340576,
          4.70900011062622,
          6.1680002212524405,
          6.08699989318848,
          4.60799980163574,
          3.59299993515015,
          5.01100015640259,
          6.35699987411499,
          5.97300004959106,
          4.08099985122681,
          4.54500007629395,
          6.40299987792969,
          5.04099988937378,
          6.993000030517581,
          6.4539999961853,
          3.7939999103546103,
          4.80499982833862,
          5.962999820709231,
          4.29199981689453,
          5.61100006103516,
          6.59899997711182,
          5.62900018692017,
          5.39499998092651,
          7.468999862670901,
          6.57200002670288,
          7.28399991989136,
          4.37599992752075
         ]
        }
       ],
       "layout": {
        "margin": {
         "b": 0,
         "l": 0,
         "r": 0,
         "t": 0
        },
        "scene": {
         "xaxis": {
          "title": {
           "text": "Economy..GDP.per.Capita."
          }
         },
         "yaxis": {
          "title": {
           "text": "Freedom"
          }
         },
         "zaxis": {
          "title": {
           "text": "Happiness.Score"
          }
         }
        },
        "template": {
         "data": {
          "bar": [
           {
            "error_x": {
             "color": "#2a3f5f"
            },
            "error_y": {
             "color": "#2a3f5f"
            },
            "marker": {
             "line": {
              "color": "#E5ECF6",
              "width": 0.5
             }
            },
            "type": "bar"
           }
          ],
          "barpolar": [
           {
            "marker": {
             "line": {
              "color": "#E5ECF6",
              "width": 0.5
             }
            },
            "type": "barpolar"
           }
          ],
          "carpet": [
           {
            "aaxis": {
             "endlinecolor": "#2a3f5f",
             "gridcolor": "white",
             "linecolor": "white",
             "minorgridcolor": "white",
             "startlinecolor": "#2a3f5f"
            },
            "baxis": {
             "endlinecolor": "#2a3f5f",
             "gridcolor": "white",
             "linecolor": "white",
             "minorgridcolor": "white",
             "startlinecolor": "#2a3f5f"
            },
            "type": "carpet"
           }
          ],
          "choropleth": [
           {
            "colorbar": {
             "outlinewidth": 0,
             "ticks": ""
            },
            "type": "choropleth"
           }
          ],
          "contour": [
           {
            "colorbar": {
             "outlinewidth": 0,
             "ticks": ""
            },
            "colorscale": [
             [
              0,
              "#0d0887"
             ],
             [
              0.1111111111111111,
              "#46039f"
             ],
             [
              0.2222222222222222,
              "#7201a8"
             ],
             [
              0.3333333333333333,
              "#9c179e"
             ],
             [
              0.4444444444444444,
              "#bd3786"
             ],
             [
              0.5555555555555556,
              "#d8576b"
             ],
             [
              0.6666666666666666,
              "#ed7953"
             ],
             [
              0.7777777777777778,
              "#fb9f3a"
             ],
             [
              0.8888888888888888,
              "#fdca26"
             ],
             [
              1,
              "#f0f921"
             ]
            ],
            "type": "contour"
           }
          ],
          "contourcarpet": [
           {
            "colorbar": {
             "outlinewidth": 0,
             "ticks": ""
            },
            "type": "contourcarpet"
           }
          ],
          "heatmap": [
           {
            "colorbar": {
             "outlinewidth": 0,
             "ticks": ""
            },
            "colorscale": [
             [
              0,
              "#0d0887"
             ],
             [
              0.1111111111111111,
              "#46039f"
             ],
             [
              0.2222222222222222,
              "#7201a8"
             ],
             [
              0.3333333333333333,
              "#9c179e"
             ],
             [
              0.4444444444444444,
              "#bd3786"
             ],
             [
              0.5555555555555556,
              "#d8576b"
             ],
             [
              0.6666666666666666,
              "#ed7953"
             ],
             [
              0.7777777777777778,
              "#fb9f3a"
             ],
             [
              0.8888888888888888,
              "#fdca26"
             ],
             [
              1,
              "#f0f921"
             ]
            ],
            "type": "heatmap"
           }
          ],
          "heatmapgl": [
           {
            "colorbar": {
             "outlinewidth": 0,
             "ticks": ""
            },
            "colorscale": [
             [
              0,
              "#0d0887"
             ],
             [
              0.1111111111111111,
              "#46039f"
             ],
             [
              0.2222222222222222,
              "#7201a8"
             ],
             [
              0.3333333333333333,
              "#9c179e"
             ],
             [
              0.4444444444444444,
              "#bd3786"
             ],
             [
              0.5555555555555556,
              "#d8576b"
             ],
             [
              0.6666666666666666,
              "#ed7953"
             ],
             [
              0.7777777777777778,
              "#fb9f3a"
             ],
             [
              0.8888888888888888,
              "#fdca26"
             ],
             [
              1,
              "#f0f921"
             ]
            ],
            "type": "heatmapgl"
           }
          ],
          "histogram": [
           {
            "marker": {
             "colorbar": {
              "outlinewidth": 0,
              "ticks": ""
             }
            },
            "type": "histogram"
           }
          ],
          "histogram2d": [
           {
            "colorbar": {
             "outlinewidth": 0,
             "ticks": ""
            },
            "colorscale": [
             [
              0,
              "#0d0887"
             ],
             [
              0.1111111111111111,
              "#46039f"
             ],
             [
              0.2222222222222222,
              "#7201a8"
             ],
             [
              0.3333333333333333,
              "#9c179e"
             ],
             [
              0.4444444444444444,
              "#bd3786"
             ],
             [
              0.5555555555555556,
              "#d8576b"
             ],
             [
              0.6666666666666666,
              "#ed7953"
             ],
             [
              0.7777777777777778,
              "#fb9f3a"
             ],
             [
              0.8888888888888888,
              "#fdca26"
             ],
             [
              1,
              "#f0f921"
             ]
            ],
            "type": "histogram2d"
           }
          ],
          "histogram2dcontour": [
           {
            "colorbar": {
             "outlinewidth": 0,
             "ticks": ""
            },
            "colorscale": [
             [
              0,
              "#0d0887"
             ],
             [
              0.1111111111111111,
              "#46039f"
             ],
             [
              0.2222222222222222,
              "#7201a8"
             ],
             [
              0.3333333333333333,
              "#9c179e"
             ],
             [
              0.4444444444444444,
              "#bd3786"
             ],
             [
              0.5555555555555556,
              "#d8576b"
             ],
             [
              0.6666666666666666,
              "#ed7953"
             ],
             [
              0.7777777777777778,
              "#fb9f3a"
             ],
             [
              0.8888888888888888,
              "#fdca26"
             ],
             [
              1,
              "#f0f921"
             ]
            ],
            "type": "histogram2dcontour"
           }
          ],
          "mesh3d": [
           {
            "colorbar": {
             "outlinewidth": 0,
             "ticks": ""
            },
            "type": "mesh3d"
           }
          ],
          "parcoords": [
           {
            "line": {
             "colorbar": {
              "outlinewidth": 0,
              "ticks": ""
             }
            },
            "type": "parcoords"
           }
          ],
          "pie": [
           {
            "automargin": true,
            "type": "pie"
           }
          ],
          "scatter": [
           {
            "marker": {
             "colorbar": {
              "outlinewidth": 0,
              "ticks": ""
             }
            },
            "type": "scatter"
           }
          ],
          "scatter3d": [
           {
            "line": {
             "colorbar": {
              "outlinewidth": 0,
              "ticks": ""
             }
            },
            "marker": {
             "colorbar": {
              "outlinewidth": 0,
              "ticks": ""
             }
            },
            "type": "scatter3d"
           }
          ],
          "scattercarpet": [
           {
            "marker": {
             "colorbar": {
              "outlinewidth": 0,
              "ticks": ""
             }
            },
            "type": "scattercarpet"
           }
          ],
          "scattergeo": [
           {
            "marker": {
             "colorbar": {
              "outlinewidth": 0,
              "ticks": ""
             }
            },
            "type": "scattergeo"
           }
          ],
          "scattergl": [
           {
            "marker": {
             "colorbar": {
              "outlinewidth": 0,
              "ticks": ""
             }
            },
            "type": "scattergl"
           }
          ],
          "scattermapbox": [
           {
            "marker": {
             "colorbar": {
              "outlinewidth": 0,
              "ticks": ""
             }
            },
            "type": "scattermapbox"
           }
          ],
          "scatterpolar": [
           {
            "marker": {
             "colorbar": {
              "outlinewidth": 0,
              "ticks": ""
             }
            },
            "type": "scatterpolar"
           }
          ],
          "scatterpolargl": [
           {
            "marker": {
             "colorbar": {
              "outlinewidth": 0,
              "ticks": ""
             }
            },
            "type": "scatterpolargl"
           }
          ],
          "scatterternary": [
           {
            "marker": {
             "colorbar": {
              "outlinewidth": 0,
              "ticks": ""
             }
            },
            "type": "scatterternary"
           }
          ],
          "surface": [
           {
            "colorbar": {
             "outlinewidth": 0,
             "ticks": ""
            },
            "colorscale": [
             [
              0,
              "#0d0887"
             ],
             [
              0.1111111111111111,
              "#46039f"
             ],
             [
              0.2222222222222222,
              "#7201a8"
             ],
             [
              0.3333333333333333,
              "#9c179e"
             ],
             [
              0.4444444444444444,
              "#bd3786"
             ],
             [
              0.5555555555555556,
              "#d8576b"
             ],
             [
              0.6666666666666666,
              "#ed7953"
             ],
             [
              0.7777777777777778,
              "#fb9f3a"
             ],
             [
              0.8888888888888888,
              "#fdca26"
             ],
             [
              1,
              "#f0f921"
             ]
            ],
            "type": "surface"
           }
          ],
          "table": [
           {
            "cells": {
             "fill": {
              "color": "#EBF0F8"
             },
             "line": {
              "color": "white"
             }
            },
            "header": {
             "fill": {
              "color": "#C8D4E3"
             },
             "line": {
              "color": "white"
             }
            },
            "type": "table"
           }
          ]
         },
         "layout": {
          "annotationdefaults": {
           "arrowcolor": "#2a3f5f",
           "arrowhead": 0,
           "arrowwidth": 1
          },
          "coloraxis": {
           "colorbar": {
            "outlinewidth": 0,
            "ticks": ""
           }
          },
          "colorscale": {
           "diverging": [
            [
             0,
             "#8e0152"
            ],
            [
             0.1,
             "#c51b7d"
            ],
            [
             0.2,
             "#de77ae"
            ],
            [
             0.3,
             "#f1b6da"
            ],
            [
             0.4,
             "#fde0ef"
            ],
            [
             0.5,
             "#f7f7f7"
            ],
            [
             0.6,
             "#e6f5d0"
            ],
            [
             0.7,
             "#b8e186"
            ],
            [
             0.8,
             "#7fbc41"
            ],
            [
             0.9,
             "#4d9221"
            ],
            [
             1,
             "#276419"
            ]
           ],
           "sequential": [
            [
             0,
             "#0d0887"
            ],
            [
             0.1111111111111111,
             "#46039f"
            ],
            [
             0.2222222222222222,
             "#7201a8"
            ],
            [
             0.3333333333333333,
             "#9c179e"
            ],
            [
             0.4444444444444444,
             "#bd3786"
            ],
            [
             0.5555555555555556,
             "#d8576b"
            ],
            [
             0.6666666666666666,
             "#ed7953"
            ],
            [
             0.7777777777777778,
             "#fb9f3a"
            ],
            [
             0.8888888888888888,
             "#fdca26"
            ],
            [
             1,
             "#f0f921"
            ]
           ],
           "sequentialminus": [
            [
             0,
             "#0d0887"
            ],
            [
             0.1111111111111111,
             "#46039f"
            ],
            [
             0.2222222222222222,
             "#7201a8"
            ],
            [
             0.3333333333333333,
             "#9c179e"
            ],
            [
             0.4444444444444444,
             "#bd3786"
            ],
            [
             0.5555555555555556,
             "#d8576b"
            ],
            [
             0.6666666666666666,
             "#ed7953"
            ],
            [
             0.7777777777777778,
             "#fb9f3a"
            ],
            [
             0.8888888888888888,
             "#fdca26"
            ],
            [
             1,
             "#f0f921"
            ]
           ]
          },
          "colorway": [
           "#636efa",
           "#EF553B",
           "#00cc96",
           "#ab63fa",
           "#FFA15A",
           "#19d3f3",
           "#FF6692",
           "#B6E880",
           "#FF97FF",
           "#FECB52"
          ],
          "font": {
           "color": "#2a3f5f"
          },
          "geo": {
           "bgcolor": "white",
           "lakecolor": "white",
           "landcolor": "#E5ECF6",
           "showlakes": true,
           "showland": true,
           "subunitcolor": "white"
          },
          "hoverlabel": {
           "align": "left"
          },
          "hovermode": "closest",
          "mapbox": {
           "style": "light"
          },
          "paper_bgcolor": "white",
          "plot_bgcolor": "#E5ECF6",
          "polar": {
           "angularaxis": {
            "gridcolor": "white",
            "linecolor": "white",
            "ticks": ""
           },
           "bgcolor": "#E5ECF6",
           "radialaxis": {
            "gridcolor": "white",
            "linecolor": "white",
            "ticks": ""
           }
          },
          "scene": {
           "xaxis": {
            "backgroundcolor": "#E5ECF6",
            "gridcolor": "white",
            "gridwidth": 2,
            "linecolor": "white",
            "showbackground": true,
            "ticks": "",
            "zerolinecolor": "white"
           },
           "yaxis": {
            "backgroundcolor": "#E5ECF6",
            "gridcolor": "white",
            "gridwidth": 2,
            "linecolor": "white",
            "showbackground": true,
            "ticks": "",
            "zerolinecolor": "white"
           },
           "zaxis": {
            "backgroundcolor": "#E5ECF6",
            "gridcolor": "white",
            "gridwidth": 2,
            "linecolor": "white",
            "showbackground": true,
            "ticks": "",
            "zerolinecolor": "white"
           }
          },
          "shapedefaults": {
           "line": {
            "color": "#2a3f5f"
           }
          },
          "ternary": {
           "aaxis": {
            "gridcolor": "white",
            "linecolor": "white",
            "ticks": ""
           },
           "baxis": {
            "gridcolor": "white",
            "linecolor": "white",
            "ticks": ""
           },
           "bgcolor": "#E5ECF6",
           "caxis": {
            "gridcolor": "white",
            "linecolor": "white",
            "ticks": ""
           }
          },
          "title": {
           "x": 0.05
          },
          "xaxis": {
           "automargin": true,
           "gridcolor": "white",
           "linecolor": "white",
           "ticks": "",
           "title": {
            "standoff": 15
           },
           "zerolinecolor": "white",
           "zerolinewidth": 2
          },
          "yaxis": {
           "automargin": true,
           "gridcolor": "white",
           "linecolor": "white",
           "ticks": "",
           "title": {
            "standoff": 15
           },
           "zerolinecolor": "white",
           "zerolinewidth": 2
          }
         }
        },
        "title": {
         "text": "Date Sets"
        }
       }
      },
      "text/html": [
       "<div>                            <div id=\"26b15b59-49f1-4bf2-9aca-61f1c2beaedf\" class=\"plotly-graph-div\" style=\"height:525px; width:100%;\"></div>            <script type=\"text/javascript\">                require([\"plotly\"], function(Plotly) {                    window.PLOTLYENV=window.PLOTLYENV || {};                                    if (document.getElementById(\"26b15b59-49f1-4bf2-9aca-61f1c2beaedf\")) {                    Plotly.newPlot(                        \"26b15b59-49f1-4bf2-9aca-61f1c2beaedf\",                        [{\"marker\": {\"line\": {\"color\": \"rgb(255, 255, 255)\", \"width\": 1}, \"opacity\": 1, \"size\": 10}, \"mode\": \"markers\", \"name\": \"Actual\", \"type\": \"scatter3d\", \"x\": [0.9910123944282528, 1.5357066392898602, 1.0272358655929599, 1.1307767629623402, 0.0921023488044739, 1.74194359779358, 1.1018030643463101, 1.40570604801178, 1.09186446666718, 1.3559380769729599, 0.716249227523804, 1.40167844295502, 1.1982102394104, 0.09162256866693501, 1.8707656860351598, 1.15655755996704, 1.34327983856201, 0.479309022426605, 1.1027104854583702, 0.85769921541214, 0.737299203872681, 0.777153134346008, 1.55167484283447, 0.964434325695038, 1.00082039833069, 1.05469870567322, 0.6595166921615601, 1.1531838178634601, 1.12786877155304, 1.28948748111725, 1.22255623340607, 0.786441087722778, 0.560479462146759, 0.872001945972443, 0.6017650961875921, 0.30544471740722695, 0.925579309463501, 1.2845562696456898, 0.23430564999580397, 0.339233845472336, 1.44163393974304, 1.12112903594971, 0.7288706302642819, 1.6263433694839498, 1.1982743740081798, 1.29121541976929, 0.564305365085602, 0.511135876178741, 0.8584281802177429, 1.4637807607650801, 0.8089642524719242, 1.49438726902008, 0.35022771358490007, 0.368745893239975, 0.982409417629242, 1.41691517829895, 0.521021246910095, 1.12843120098114, 0.5962200760841371, 0.9097844958305359, 1.25278460979462, 1.6164631843566901, 1.00985014438629, 1.4870972633361799, 1.53062355518341, 1.48238301277161, 0.8781145811080929, 1.48792338371277, 0.6030489206314089, 1.3469113111496, 0.368610262870789, 1.10970628261566, 1.50394463539124, 0.7922212481498722, 0.89465194940567, 1.3950666189193701, 0.11904179304838199, 0.783756256103516, 0.7268835306167599, 0.24454993009567302, 0.989701807498932, 0.833756566047668, 1.2860119342803997, 0.996192753314972, 0.951484382152557, 1.08116579055786, 1.3753824234008798, 0.43801298737525896, 1.35268235206604, 1.15687310695648, 0.7885475754737851, 1.12209415435791, 0.667224824428558, 0.730573117733002, 1.4336265325546298, 1.06457793712616, 0.0, 0.305808693170547, 0.36842092871666, 1.36135590076447, 1.4884122610092199, 0.586682975292206, 0.5916834473609921, 0.885416388511658, 1.07062232494354, 1.29178786277771, 0.381430715322495, 0.36711055040359497, 1.38439786434174, 0.524713635444641, 1.54625928401947, 1.2175596952438401, 0.401477217674255, 1.00726580619812, 1.28177809715271, 0.6484572887420649, 1.3208793401718102, 1.18529546260834, 1.1893955469131499, 1.06931757926941, 1.44357192516327, 1.69227766990662, 1.4844149351120002, 0.900596737861633], \"y\": [0.418421149253845, 0.5731103420257571, 0.39414396882057207, 0.41827192902565, 0.235961347818375, 0.59662789106369, 0.465733230113983, 0.6140621304512021, 0.233335807919502, 0.35511153936386103, 0.25471106171608, 0.257921665906906, 0.31232857704162603, 0.0599007532000542, 0.604130983352661, 0.295400261878967, 0.588767051696777, 0.37792226672172496, 0.288555532693863, 0.585214674472809, 0.447551846504211, 0.0815394446253777, 0.490968644618988, 0.520303547382355, 0.4551981985569, 0.479246735572815, 0.0149958552792668, 0.412730008363724, 0.580200731754303, 0.0957312509417534, 0.255772292613983, 0.6582486629486078, 0.45276376605033897, 0.5313106179237371, 0.633375823497772, 0.38042613863945, 0.474307239055634, 0.43745428323745705, 0.48079109191894503, 0.408842742443085, 0.508190035820007, 0.194989055395126, 0.24072904884815197, 0.60834527015686, 0.300740599632263, 0.40226498246192893, 0.430388748645782, 0.390017777681351, 0.0, 0.5397707223892211, 0.4350258708000179, 0.612924098968506, 0.32436785101890603, 0.5818438529968261, 0.204403176903725, 0.505625545978546, 0.390661299228668, 0.15399712324142498, 0.454943388700485, 0.432452529668808, 0.376895278692245, 0.635422587394714, 0.561213254928589, 0.567766189575195, 0.449750572443008, 0.626006722450256, 0.408158332109451, 0.562511384487152, 0.4477061927318571, 0.47120362520217896, 0.0303698573261499, 0.580131649971008, 0.5853844881057739, 0.469987004995346, 0.12297477573156401, 0.256450712680817, 0.33288118243217496, 0.394952565431595, 0.23521526157856, 0.348587512969971, 0.28211015462875394, 0.5587329268455511, 0.17586351931095098, 0.381498634815216, 0.260287940502167, 0.47278770804405196, 0.40598860383033797, 0.16234202682972002, 0.49094617366790794, 0.24932260811328896, 0.571055591106415, 0.505196332931519, 0.423026293516159, 0.348079860210419, 0.361466586589813, 0.325905978679657, 0.270842045545578, 0.18919676542282102, 0.318697690963745, 0.518630743026733, 0.536746919155121, 0.478356659412384, 0.24946372210979503, 0.5015376806259161, 0.47748741507530196, 0.520342111587524, 0.443185955286026, 0.514492034912109, 0.408781230449677, 0.47156670689582797, 0.505740523338318, 0.5793922543525699, 0.106179520487785, 0.289680689573288, 0.373783111572266, 0.0960980430245399, 0.479131430387497, 0.49451920390129106, 0.491247326135635, 0.20871552824974102, 0.6179508566856379, 0.549840569496155, 0.601607382297516, 0.198303267359734], \"z\": [5.33599996566772, 6.9770002365112305, 4.95499992370605, 5.82200002670288, 4.2800002098083505, 6.86299991607666, 5.525000095367429, 7.31400012969971, 5.872000217437741, 5.62099981307983, 4.77500009536743, 5.837999820709231, 4.46500015258789, 2.90499997138977, 6.375, 5.5689997673034695, 6.52699995040894, 4.53499984741211, 4.49700021743774, 5.42999982833862, 6.07100009918213, 3.46199989318848, 5.47200012207031, 4.57399988174438, 6.00799989700317, 4.8289999961853, 4.138999938964839, 6.57800006866455, 6.4239997863769505, 5.2270002365112305, 5.2930002212524405, 5.97100019454956, 4.55299997329712, 6.4539999961853, 4.1680002212524405, 3.4949998855590803, 5.31099987030029, 5.8189997673034695, 4.550000190734861, 4.46000003814697, 6.71400022506714, 5.23699998855591, 5.837999820709231, 6.6479997634887695, 5.5, 6.08400011062622, 4.69500017166138, 3.34899997711182, 3.79500007629395, 6.89099979400635, 4.29099988937378, 7.28399991989136, 4.03200006484985, 3.47099995613098, 5.18200016021729, 5.92000007629395, 3.80800008773804, 5.25, 5.0040001869201705, 6.002999782562259, 6.65199995040894, 7.537000179290769, 4.44000005722046, 7.00600004196167, 6.343999862670901, 7.52199983596802, 5.2350001335144, 6.9510002136230495, 4.17999982833862, 5.80999994277954, 3.6029999256133998, 7.0789999961853, 7.3769998550415, 4.31500005722046, 4.09600019454956, 5.96400022506714, 3.5329999923706095, 5.07399988174438, 5.26900005340576, 3.50699996948242, 4.7350001335144, 5.82299995422363, 5.32399988174438, 4.64400005340576, 5.27899980545044, 5.2729997634887695, 7.212999820709231, 3.9360001087188703, 6.60900020599365, 4.69199991226196, 5.07399988174438, 3.7660000324249303, 4.11999988555908, 5.1810002326965305, 6.42199993133545, 5.175000190734861, 2.69300007820129, 3.64400005340576, 4.70900011062622, 6.1680002212524405, 6.08699989318848, 4.60799980163574, 3.59299993515015, 5.01100015640259, 6.35699987411499, 5.97300004959106, 4.08099985122681, 4.54500007629395, 6.40299987792969, 5.04099988937378, 6.993000030517581, 6.4539999961853, 3.7939999103546103, 4.80499982833862, 5.962999820709231, 4.29199981689453, 5.61100006103516, 6.59899997711182, 5.62900018692017, 5.39499998092651, 7.468999862670901, 6.57200002670288, 7.28399991989136, 4.37599992752075]}],                        {\"margin\": {\"b\": 0, \"l\": 0, \"r\": 0, \"t\": 0}, \"scene\": {\"xaxis\": {\"title\": {\"text\": \"Economy..GDP.per.Capita.\"}}, \"yaxis\": {\"title\": {\"text\": \"Freedom\"}}, \"zaxis\": {\"title\": {\"text\": \"Happiness.Score\"}}}, \"template\": {\"data\": {\"bar\": [{\"error_x\": {\"color\": \"#2a3f5f\"}, \"error_y\": {\"color\": \"#2a3f5f\"}, \"marker\": {\"line\": {\"color\": \"#E5ECF6\", \"width\": 0.5}}, \"type\": \"bar\"}], \"barpolar\": [{\"marker\": {\"line\": {\"color\": \"#E5ECF6\", \"width\": 0.5}}, \"type\": \"barpolar\"}], \"carpet\": [{\"aaxis\": {\"endlinecolor\": \"#2a3f5f\", \"gridcolor\": \"white\", \"linecolor\": \"white\", \"minorgridcolor\": \"white\", \"startlinecolor\": \"#2a3f5f\"}, \"baxis\": {\"endlinecolor\": \"#2a3f5f\", \"gridcolor\": \"white\", \"linecolor\": \"white\", \"minorgridcolor\": \"white\", \"startlinecolor\": \"#2a3f5f\"}, \"type\": \"carpet\"}], \"choropleth\": [{\"colorbar\": {\"outlinewidth\": 0, \"ticks\": \"\"}, \"type\": \"choropleth\"}], \"contour\": [{\"colorbar\": {\"outlinewidth\": 0, \"ticks\": \"\"}, \"colorscale\": [[0.0, \"#0d0887\"], [0.1111111111111111, \"#46039f\"], [0.2222222222222222, \"#7201a8\"], [0.3333333333333333, \"#9c179e\"], [0.4444444444444444, \"#bd3786\"], [0.5555555555555556, \"#d8576b\"], [0.6666666666666666, \"#ed7953\"], [0.7777777777777778, \"#fb9f3a\"], [0.8888888888888888, \"#fdca26\"], [1.0, \"#f0f921\"]], \"type\": \"contour\"}], \"contourcarpet\": [{\"colorbar\": {\"outlinewidth\": 0, \"ticks\": \"\"}, \"type\": \"contourcarpet\"}], \"heatmap\": [{\"colorbar\": {\"outlinewidth\": 0, \"ticks\": \"\"}, \"colorscale\": [[0.0, \"#0d0887\"], [0.1111111111111111, \"#46039f\"], [0.2222222222222222, \"#7201a8\"], [0.3333333333333333, \"#9c179e\"], [0.4444444444444444, \"#bd3786\"], [0.5555555555555556, \"#d8576b\"], [0.6666666666666666, \"#ed7953\"], [0.7777777777777778, \"#fb9f3a\"], [0.8888888888888888, \"#fdca26\"], [1.0, \"#f0f921\"]], \"type\": \"heatmap\"}], \"heatmapgl\": [{\"colorbar\": {\"outlinewidth\": 0, \"ticks\": \"\"}, \"colorscale\": [[0.0, \"#0d0887\"], [0.1111111111111111, \"#46039f\"], [0.2222222222222222, \"#7201a8\"], [0.3333333333333333, \"#9c179e\"], [0.4444444444444444, \"#bd3786\"], [0.5555555555555556, \"#d8576b\"], [0.6666666666666666, \"#ed7953\"], [0.7777777777777778, \"#fb9f3a\"], [0.8888888888888888, \"#fdca26\"], [1.0, \"#f0f921\"]], \"type\": \"heatmapgl\"}], \"histogram\": [{\"marker\": {\"colorbar\": {\"outlinewidth\": 0, \"ticks\": \"\"}}, \"type\": \"histogram\"}], \"histogram2d\": [{\"colorbar\": {\"outlinewidth\": 0, \"ticks\": \"\"}, \"colorscale\": [[0.0, \"#0d0887\"], [0.1111111111111111, \"#46039f\"], [0.2222222222222222, \"#7201a8\"], [0.3333333333333333, \"#9c179e\"], [0.4444444444444444, \"#bd3786\"], [0.5555555555555556, \"#d8576b\"], [0.6666666666666666, \"#ed7953\"], [0.7777777777777778, \"#fb9f3a\"], [0.8888888888888888, \"#fdca26\"], [1.0, \"#f0f921\"]], \"type\": \"histogram2d\"}], \"histogram2dcontour\": [{\"colorbar\": {\"outlinewidth\": 0, \"ticks\": \"\"}, \"colorscale\": [[0.0, \"#0d0887\"], [0.1111111111111111, \"#46039f\"], [0.2222222222222222, \"#7201a8\"], [0.3333333333333333, \"#9c179e\"], [0.4444444444444444, \"#bd3786\"], [0.5555555555555556, \"#d8576b\"], [0.6666666666666666, \"#ed7953\"], [0.7777777777777778, \"#fb9f3a\"], [0.8888888888888888, \"#fdca26\"], [1.0, \"#f0f921\"]], \"type\": \"histogram2dcontour\"}], \"mesh3d\": [{\"colorbar\": {\"outlinewidth\": 0, \"ticks\": \"\"}, \"type\": \"mesh3d\"}], \"parcoords\": [{\"line\": {\"colorbar\": {\"outlinewidth\": 0, \"ticks\": \"\"}}, \"type\": \"parcoords\"}], \"pie\": [{\"automargin\": true, \"type\": \"pie\"}], \"scatter\": [{\"marker\": {\"colorbar\": {\"outlinewidth\": 0, \"ticks\": \"\"}}, \"type\": \"scatter\"}], \"scatter3d\": [{\"line\": {\"colorbar\": {\"outlinewidth\": 0, \"ticks\": \"\"}}, \"marker\": {\"colorbar\": {\"outlinewidth\": 0, \"ticks\": \"\"}}, \"type\": \"scatter3d\"}], \"scattercarpet\": [{\"marker\": {\"colorbar\": {\"outlinewidth\": 0, \"ticks\": \"\"}}, \"type\": \"scattercarpet\"}], \"scattergeo\": [{\"marker\": {\"colorbar\": {\"outlinewidth\": 0, \"ticks\": \"\"}}, \"type\": \"scattergeo\"}], \"scattergl\": [{\"marker\": {\"colorbar\": {\"outlinewidth\": 0, \"ticks\": \"\"}}, \"type\": \"scattergl\"}], \"scattermapbox\": [{\"marker\": {\"colorbar\": {\"outlinewidth\": 0, \"ticks\": \"\"}}, \"type\": \"scattermapbox\"}], \"scatterpolar\": [{\"marker\": {\"colorbar\": {\"outlinewidth\": 0, \"ticks\": \"\"}}, \"type\": \"scatterpolar\"}], \"scatterpolargl\": [{\"marker\": {\"colorbar\": {\"outlinewidth\": 0, \"ticks\": \"\"}}, \"type\": \"scatterpolargl\"}], \"scatterternary\": [{\"marker\": {\"colorbar\": {\"outlinewidth\": 0, \"ticks\": \"\"}}, \"type\": \"scatterternary\"}], \"surface\": [{\"colorbar\": {\"outlinewidth\": 0, \"ticks\": \"\"}, \"colorscale\": [[0.0, \"#0d0887\"], [0.1111111111111111, \"#46039f\"], [0.2222222222222222, \"#7201a8\"], [0.3333333333333333, \"#9c179e\"], [0.4444444444444444, \"#bd3786\"], [0.5555555555555556, \"#d8576b\"], [0.6666666666666666, \"#ed7953\"], [0.7777777777777778, \"#fb9f3a\"], [0.8888888888888888, \"#fdca26\"], [1.0, \"#f0f921\"]], \"type\": \"surface\"}], \"table\": [{\"cells\": {\"fill\": {\"color\": \"#EBF0F8\"}, \"line\": {\"color\": \"white\"}}, \"header\": {\"fill\": {\"color\": \"#C8D4E3\"}, \"line\": {\"color\": \"white\"}}, \"type\": \"table\"}]}, \"layout\": {\"annotationdefaults\": {\"arrowcolor\": \"#2a3f5f\", \"arrowhead\": 0, \"arrowwidth\": 1}, \"coloraxis\": {\"colorbar\": {\"outlinewidth\": 0, \"ticks\": \"\"}}, \"colorscale\": {\"diverging\": [[0, \"#8e0152\"], [0.1, \"#c51b7d\"], [0.2, \"#de77ae\"], [0.3, \"#f1b6da\"], [0.4, \"#fde0ef\"], [0.5, \"#f7f7f7\"], [0.6, \"#e6f5d0\"], [0.7, \"#b8e186\"], [0.8, \"#7fbc41\"], [0.9, \"#4d9221\"], [1, \"#276419\"]], \"sequential\": [[0.0, \"#0d0887\"], [0.1111111111111111, \"#46039f\"], [0.2222222222222222, \"#7201a8\"], [0.3333333333333333, \"#9c179e\"], [0.4444444444444444, \"#bd3786\"], [0.5555555555555556, \"#d8576b\"], [0.6666666666666666, \"#ed7953\"], [0.7777777777777778, \"#fb9f3a\"], [0.8888888888888888, \"#fdca26\"], [1.0, \"#f0f921\"]], \"sequentialminus\": [[0.0, \"#0d0887\"], [0.1111111111111111, \"#46039f\"], [0.2222222222222222, \"#7201a8\"], [0.3333333333333333, \"#9c179e\"], [0.4444444444444444, \"#bd3786\"], [0.5555555555555556, \"#d8576b\"], [0.6666666666666666, \"#ed7953\"], [0.7777777777777778, \"#fb9f3a\"], [0.8888888888888888, \"#fdca26\"], [1.0, \"#f0f921\"]]}, \"colorway\": [\"#636efa\", \"#EF553B\", \"#00cc96\", \"#ab63fa\", \"#FFA15A\", \"#19d3f3\", \"#FF6692\", \"#B6E880\", \"#FF97FF\", \"#FECB52\"], \"font\": {\"color\": \"#2a3f5f\"}, \"geo\": {\"bgcolor\": \"white\", \"lakecolor\": \"white\", \"landcolor\": \"#E5ECF6\", \"showlakes\": true, \"showland\": true, \"subunitcolor\": \"white\"}, \"hoverlabel\": {\"align\": \"left\"}, \"hovermode\": \"closest\", \"mapbox\": {\"style\": \"light\"}, \"paper_bgcolor\": \"white\", \"plot_bgcolor\": \"#E5ECF6\", \"polar\": {\"angularaxis\": {\"gridcolor\": \"white\", \"linecolor\": \"white\", \"ticks\": \"\"}, \"bgcolor\": \"#E5ECF6\", \"radialaxis\": {\"gridcolor\": \"white\", \"linecolor\": \"white\", \"ticks\": \"\"}}, \"scene\": {\"xaxis\": {\"backgroundcolor\": \"#E5ECF6\", \"gridcolor\": \"white\", \"gridwidth\": 2, \"linecolor\": \"white\", \"showbackground\": true, \"ticks\": \"\", \"zerolinecolor\": \"white\"}, \"yaxis\": {\"backgroundcolor\": \"#E5ECF6\", \"gridcolor\": \"white\", \"gridwidth\": 2, \"linecolor\": \"white\", \"showbackground\": true, \"ticks\": \"\", \"zerolinecolor\": \"white\"}, \"zaxis\": {\"backgroundcolor\": \"#E5ECF6\", \"gridcolor\": \"white\", \"gridwidth\": 2, \"linecolor\": \"white\", \"showbackground\": true, \"ticks\": \"\", \"zerolinecolor\": \"white\"}}, \"shapedefaults\": {\"line\": {\"color\": \"#2a3f5f\"}}, \"ternary\": {\"aaxis\": {\"gridcolor\": \"white\", \"linecolor\": \"white\", \"ticks\": \"\"}, \"baxis\": {\"gridcolor\": \"white\", \"linecolor\": \"white\", \"ticks\": \"\"}, \"bgcolor\": \"#E5ECF6\", \"caxis\": {\"gridcolor\": \"white\", \"linecolor\": \"white\", \"ticks\": \"\"}}, \"title\": {\"x\": 0.05}, \"xaxis\": {\"automargin\": true, \"gridcolor\": \"white\", \"linecolor\": \"white\", \"ticks\": \"\", \"title\": {\"standoff\": 15}, \"zerolinecolor\": \"white\", \"zerolinewidth\": 2}, \"yaxis\": {\"automargin\": true, \"gridcolor\": \"white\", \"linecolor\": \"white\", \"ticks\": \"\", \"title\": {\"standoff\": 15}, \"zerolinecolor\": \"white\", \"zerolinewidth\": 2}}}, \"title\": {\"text\": \"Date Sets\"}},                        {\"responsive\": true}                    ).then(function(){\n",
       "                            \n",
       "var gd = document.getElementById('26b15b59-49f1-4bf2-9aca-61f1c2beaedf');\n",
       "var x = new MutationObserver(function (mutations, observer) {{\n",
       "        var display = window.getComputedStyle(gd).display;\n",
       "        if (!display || display === 'none') {{\n",
       "            console.log([gd, 'removed!']);\n",
       "            Plotly.purge(gd);\n",
       "            observer.disconnect();\n",
       "        }}\n",
       "}});\n",
       "\n",
       "// Listen for the removal of the full notebook cells\n",
       "var notebookContainer = gd.closest('#notebook-container');\n",
       "if (notebookContainer) {{\n",
       "    x.observe(notebookContainer, {childList: true});\n",
       "}}\n",
       "\n",
       "// Listen for the clearing of the current output cell\n",
       "var outputEl = gd.closest('.output');\n",
       "if (outputEl) {{\n",
       "    x.observe(outputEl, {childList: true});\n",
       "}}\n",
       "\n",
       "                        })                };                });            </script>        </div>"
      ]
     },
     "metadata": {},
     "output_type": "display_data"
    }
   ],
   "source": [
    "# Plot training data\n",
    "plot_multivariate(x_train_multi, y_train_multi, input_features_multi, target_feature)"
   ]
  },
  {
   "cell_type": "code",
   "execution_count": 21,
   "metadata": {
    "slideshow": {
     "slide_type": "slide"
    }
   },
   "outputs": [
    {
     "name": "stdout",
     "output_type": "stream",
     "text": [
      "Model weights: [1.93878479 2.14102592], bias: 2.5656361271050523\n",
      "Training error: 0.33667\n",
      "Test error: 0.28441\n"
     ]
    }
   ],
   "source": [
    "# Create a Linear Regression model (based on Normal Equation)\n",
    "lr_model_multi = LinearRegression()\n",
    "\n",
    "# Train and test the model on multivariate data\n",
    "train_model(lr_model_multi, x_train_multi, y_train_multi)\n",
    "test_model(lr_model_multi, x_test_multi, y_test_multi)"
   ]
  },
  {
   "cell_type": "code",
   "execution_count": 22,
   "metadata": {
    "slideshow": {
     "slide_type": "slide"
    }
   },
   "outputs": [
    {
     "data": {
      "application/vnd.plotly.v1+json": {
       "config": {
        "linkText": "Export to plot.ly",
        "plotlyServerURL": "https://plot.ly",
        "showLink": false
       },
       "data": [
        {
         "marker": {
          "line": {
           "color": "rgb(255, 255, 255)",
           "width": 1
          },
          "opacity": 1,
          "size": 10
         },
         "mode": "markers",
         "name": "Actual",
         "type": "scatter3d",
         "x": [
          0.9910123944282528,
          1.5357066392898602,
          1.0272358655929599,
          1.1307767629623402,
          0.0921023488044739,
          1.74194359779358,
          1.1018030643463101,
          1.40570604801178,
          1.09186446666718,
          1.3559380769729599,
          0.716249227523804,
          1.40167844295502,
          1.1982102394104,
          0.09162256866693501,
          1.8707656860351598,
          1.15655755996704,
          1.34327983856201,
          0.479309022426605,
          1.1027104854583702,
          0.85769921541214,
          0.737299203872681,
          0.777153134346008,
          1.55167484283447,
          0.964434325695038,
          1.00082039833069,
          1.05469870567322,
          0.6595166921615601,
          1.1531838178634601,
          1.12786877155304,
          1.28948748111725,
          1.22255623340607,
          0.786441087722778,
          0.560479462146759,
          0.872001945972443,
          0.6017650961875921,
          0.30544471740722695,
          0.925579309463501,
          1.2845562696456898,
          0.23430564999580397,
          0.339233845472336,
          1.44163393974304,
          1.12112903594971,
          0.7288706302642819,
          1.6263433694839498,
          1.1982743740081798,
          1.29121541976929,
          0.564305365085602,
          0.511135876178741,
          0.8584281802177429,
          1.4637807607650801,
          0.8089642524719242,
          1.49438726902008,
          0.35022771358490007,
          0.368745893239975,
          0.982409417629242,
          1.41691517829895,
          0.521021246910095,
          1.12843120098114,
          0.5962200760841371,
          0.9097844958305359,
          1.25278460979462,
          1.6164631843566901,
          1.00985014438629,
          1.4870972633361799,
          1.53062355518341,
          1.48238301277161,
          0.8781145811080929,
          1.48792338371277,
          0.6030489206314089,
          1.3469113111496,
          0.368610262870789,
          1.10970628261566,
          1.50394463539124,
          0.7922212481498722,
          0.89465194940567,
          1.3950666189193701,
          0.11904179304838199,
          0.783756256103516,
          0.7268835306167599,
          0.24454993009567302,
          0.989701807498932,
          0.833756566047668,
          1.2860119342803997,
          0.996192753314972,
          0.951484382152557,
          1.08116579055786,
          1.3753824234008798,
          0.43801298737525896,
          1.35268235206604,
          1.15687310695648,
          0.7885475754737851,
          1.12209415435791,
          0.667224824428558,
          0.730573117733002,
          1.4336265325546298,
          1.06457793712616,
          0,
          0.305808693170547,
          0.36842092871666,
          1.36135590076447,
          1.4884122610092199,
          0.586682975292206,
          0.5916834473609921,
          0.885416388511658,
          1.07062232494354,
          1.29178786277771,
          0.381430715322495,
          0.36711055040359497,
          1.38439786434174,
          0.524713635444641,
          1.54625928401947,
          1.2175596952438401,
          0.401477217674255,
          1.00726580619812,
          1.28177809715271,
          0.6484572887420649,
          1.3208793401718102,
          1.18529546260834,
          1.1893955469131499,
          1.06931757926941,
          1.44357192516327,
          1.69227766990662,
          1.4844149351120002,
          0.900596737861633
         ],
         "y": [
          0.418421149253845,
          0.5731103420257571,
          0.39414396882057207,
          0.41827192902565,
          0.235961347818375,
          0.59662789106369,
          0.465733230113983,
          0.6140621304512021,
          0.233335807919502,
          0.35511153936386103,
          0.25471106171608,
          0.257921665906906,
          0.31232857704162603,
          0.0599007532000542,
          0.604130983352661,
          0.295400261878967,
          0.588767051696777,
          0.37792226672172496,
          0.288555532693863,
          0.585214674472809,
          0.447551846504211,
          0.0815394446253777,
          0.490968644618988,
          0.520303547382355,
          0.4551981985569,
          0.479246735572815,
          0.0149958552792668,
          0.412730008363724,
          0.580200731754303,
          0.0957312509417534,
          0.255772292613983,
          0.6582486629486078,
          0.45276376605033897,
          0.5313106179237371,
          0.633375823497772,
          0.38042613863945,
          0.474307239055634,
          0.43745428323745705,
          0.48079109191894503,
          0.408842742443085,
          0.508190035820007,
          0.194989055395126,
          0.24072904884815197,
          0.60834527015686,
          0.300740599632263,
          0.40226498246192893,
          0.430388748645782,
          0.390017777681351,
          0,
          0.5397707223892211,
          0.4350258708000179,
          0.612924098968506,
          0.32436785101890603,
          0.5818438529968261,
          0.204403176903725,
          0.505625545978546,
          0.390661299228668,
          0.15399712324142498,
          0.454943388700485,
          0.432452529668808,
          0.376895278692245,
          0.635422587394714,
          0.561213254928589,
          0.567766189575195,
          0.449750572443008,
          0.626006722450256,
          0.408158332109451,
          0.562511384487152,
          0.4477061927318571,
          0.47120362520217896,
          0.0303698573261499,
          0.580131649971008,
          0.5853844881057739,
          0.469987004995346,
          0.12297477573156401,
          0.256450712680817,
          0.33288118243217496,
          0.394952565431595,
          0.23521526157856,
          0.348587512969971,
          0.28211015462875394,
          0.5587329268455511,
          0.17586351931095098,
          0.381498634815216,
          0.260287940502167,
          0.47278770804405196,
          0.40598860383033797,
          0.16234202682972002,
          0.49094617366790794,
          0.24932260811328896,
          0.571055591106415,
          0.505196332931519,
          0.423026293516159,
          0.348079860210419,
          0.361466586589813,
          0.325905978679657,
          0.270842045545578,
          0.18919676542282102,
          0.318697690963745,
          0.518630743026733,
          0.536746919155121,
          0.478356659412384,
          0.24946372210979503,
          0.5015376806259161,
          0.47748741507530196,
          0.520342111587524,
          0.443185955286026,
          0.514492034912109,
          0.408781230449677,
          0.47156670689582797,
          0.505740523338318,
          0.5793922543525699,
          0.106179520487785,
          0.289680689573288,
          0.373783111572266,
          0.0960980430245399,
          0.479131430387497,
          0.49451920390129106,
          0.491247326135635,
          0.20871552824974102,
          0.6179508566856379,
          0.549840569496155,
          0.601607382297516,
          0.198303267359734
         ],
         "z": [
          5.33599996566772,
          6.9770002365112305,
          4.95499992370605,
          5.82200002670288,
          4.2800002098083505,
          6.86299991607666,
          5.525000095367429,
          7.31400012969971,
          5.872000217437741,
          5.62099981307983,
          4.77500009536743,
          5.837999820709231,
          4.46500015258789,
          2.90499997138977,
          6.375,
          5.5689997673034695,
          6.52699995040894,
          4.53499984741211,
          4.49700021743774,
          5.42999982833862,
          6.07100009918213,
          3.46199989318848,
          5.47200012207031,
          4.57399988174438,
          6.00799989700317,
          4.8289999961853,
          4.138999938964839,
          6.57800006866455,
          6.4239997863769505,
          5.2270002365112305,
          5.2930002212524405,
          5.97100019454956,
          4.55299997329712,
          6.4539999961853,
          4.1680002212524405,
          3.4949998855590803,
          5.31099987030029,
          5.8189997673034695,
          4.550000190734861,
          4.46000003814697,
          6.71400022506714,
          5.23699998855591,
          5.837999820709231,
          6.6479997634887695,
          5.5,
          6.08400011062622,
          4.69500017166138,
          3.34899997711182,
          3.79500007629395,
          6.89099979400635,
          4.29099988937378,
          7.28399991989136,
          4.03200006484985,
          3.47099995613098,
          5.18200016021729,
          5.92000007629395,
          3.80800008773804,
          5.25,
          5.0040001869201705,
          6.002999782562259,
          6.65199995040894,
          7.537000179290769,
          4.44000005722046,
          7.00600004196167,
          6.343999862670901,
          7.52199983596802,
          5.2350001335144,
          6.9510002136230495,
          4.17999982833862,
          5.80999994277954,
          3.6029999256133998,
          7.0789999961853,
          7.3769998550415,
          4.31500005722046,
          4.09600019454956,
          5.96400022506714,
          3.5329999923706095,
          5.07399988174438,
          5.26900005340576,
          3.50699996948242,
          4.7350001335144,
          5.82299995422363,
          5.32399988174438,
          4.64400005340576,
          5.27899980545044,
          5.2729997634887695,
          7.212999820709231,
          3.9360001087188703,
          6.60900020599365,
          4.69199991226196,
          5.07399988174438,
          3.7660000324249303,
          4.11999988555908,
          5.1810002326965305,
          6.42199993133545,
          5.175000190734861,
          2.69300007820129,
          3.64400005340576,
          4.70900011062622,
          6.1680002212524405,
          6.08699989318848,
          4.60799980163574,
          3.59299993515015,
          5.01100015640259,
          6.35699987411499,
          5.97300004959106,
          4.08099985122681,
          4.54500007629395,
          6.40299987792969,
          5.04099988937378,
          6.993000030517581,
          6.4539999961853,
          3.7939999103546103,
          4.80499982833862,
          5.962999820709231,
          4.29199981689453,
          5.61100006103516,
          6.59899997711182,
          5.62900018692017,
          5.39499998092651,
          7.468999862670901,
          6.57200002670288,
          7.28399991989136,
          4.37599992752075
         ]
        },
        {
         "marker": {
          "size": 1
         },
         "mode": "markers",
         "name": "Prediction Plane",
         "opacity": 0.8,
         "surfaceaxis": 2,
         "type": "scatter3d",
         "x": [
          0,
          0,
          0,
          0,
          0,
          0,
          0,
          0,
          0,
          0,
          0.20786285400390664,
          0.20786285400390664,
          0.20786285400390664,
          0.20786285400390664,
          0.20786285400390664,
          0.20786285400390664,
          0.20786285400390664,
          0.20786285400390664,
          0.20786285400390664,
          0.20786285400390664,
          0.4157257080078133,
          0.4157257080078133,
          0.4157257080078133,
          0.4157257080078133,
          0.4157257080078133,
          0.4157257080078133,
          0.4157257080078133,
          0.4157257080078133,
          0.4157257080078133,
          0.4157257080078133,
          0.6235885620117199,
          0.6235885620117199,
          0.6235885620117199,
          0.6235885620117199,
          0.6235885620117199,
          0.6235885620117199,
          0.6235885620117199,
          0.6235885620117199,
          0.6235885620117199,
          0.6235885620117199,
          0.8314514160156266,
          0.8314514160156266,
          0.8314514160156266,
          0.8314514160156266,
          0.8314514160156266,
          0.8314514160156266,
          0.8314514160156266,
          0.8314514160156266,
          0.8314514160156266,
          0.8314514160156266,
          1.0393142700195332,
          1.0393142700195332,
          1.0393142700195332,
          1.0393142700195332,
          1.0393142700195332,
          1.0393142700195332,
          1.0393142700195332,
          1.0393142700195332,
          1.0393142700195332,
          1.0393142700195332,
          1.2471771240234397,
          1.2471771240234397,
          1.2471771240234397,
          1.2471771240234397,
          1.2471771240234397,
          1.2471771240234397,
          1.2471771240234397,
          1.2471771240234397,
          1.2471771240234397,
          1.2471771240234397,
          1.4550399780273464,
          1.4550399780273464,
          1.4550399780273464,
          1.4550399780273464,
          1.4550399780273464,
          1.4550399780273464,
          1.4550399780273464,
          1.4550399780273464,
          1.4550399780273464,
          1.4550399780273464,
          1.662902832031253,
          1.662902832031253,
          1.662902832031253,
          1.662902832031253,
          1.662902832031253,
          1.662902832031253,
          1.662902832031253,
          1.662902832031253,
          1.662902832031253,
          1.662902832031253,
          1.8707656860351598,
          1.8707656860351598,
          1.8707656860351598,
          1.8707656860351598,
          1.8707656860351598,
          1.8707656860351598,
          1.8707656860351598,
          1.8707656860351598,
          1.8707656860351598,
          1.8707656860351598
         ],
         "y": [
          0,
          0.07313874032762309,
          0.14627748065524618,
          0.21941622098286928,
          0.29255496131049236,
          0.36569370163811543,
          0.43883244196573856,
          0.5119711822933616,
          0.5851099226209847,
          0.6582486629486078,
          0,
          0.07313874032762309,
          0.14627748065524618,
          0.21941622098286928,
          0.29255496131049236,
          0.36569370163811543,
          0.43883244196573856,
          0.5119711822933616,
          0.5851099226209847,
          0.6582486629486078,
          0,
          0.07313874032762309,
          0.14627748065524618,
          0.21941622098286928,
          0.29255496131049236,
          0.36569370163811543,
          0.43883244196573856,
          0.5119711822933616,
          0.5851099226209847,
          0.6582486629486078,
          0,
          0.07313874032762309,
          0.14627748065524618,
          0.21941622098286928,
          0.29255496131049236,
          0.36569370163811543,
          0.43883244196573856,
          0.5119711822933616,
          0.5851099226209847,
          0.6582486629486078,
          0,
          0.07313874032762309,
          0.14627748065524618,
          0.21941622098286928,
          0.29255496131049236,
          0.36569370163811543,
          0.43883244196573856,
          0.5119711822933616,
          0.5851099226209847,
          0.6582486629486078,
          0,
          0.07313874032762309,
          0.14627748065524618,
          0.21941622098286928,
          0.29255496131049236,
          0.36569370163811543,
          0.43883244196573856,
          0.5119711822933616,
          0.5851099226209847,
          0.6582486629486078,
          0,
          0.07313874032762309,
          0.14627748065524618,
          0.21941622098286928,
          0.29255496131049236,
          0.36569370163811543,
          0.43883244196573856,
          0.5119711822933616,
          0.5851099226209847,
          0.6582486629486078,
          0,
          0.07313874032762309,
          0.14627748065524618,
          0.21941622098286928,
          0.29255496131049236,
          0.36569370163811543,
          0.43883244196573856,
          0.5119711822933616,
          0.5851099226209847,
          0.6582486629486078,
          0,
          0.07313874032762309,
          0.14627748065524618,
          0.21941622098286928,
          0.29255496131049236,
          0.36569370163811543,
          0.43883244196573856,
          0.5119711822933616,
          0.5851099226209847,
          0.6582486629486078,
          0,
          0.07313874032762309,
          0.14627748065524618,
          0.21941622098286928,
          0.29255496131049236,
          0.36569370163811543,
          0.43883244196573856,
          0.5119711822933616,
          0.5851099226209847,
          0.6582486629486078
         ],
         "z": [
          2.5656361271050523,
          2.7222280657483178,
          2.878820004391583,
          3.0354119430348483,
          3.1920038816781133,
          3.348595820321379,
          3.5051877589646443,
          3.6617796976079093,
          3.818371636251175,
          3.9749635748944403,
          2.968637467679175,
          3.1252294063224406,
          3.2818213449657057,
          3.438413283608971,
          3.5950052222522366,
          3.7515971608955017,
          3.908189099538767,
          4.064781038182033,
          4.221372976825298,
          4.377964915468564,
          3.3716388082532984,
          3.528230746896564,
          3.684822685539829,
          3.841414624183094,
          3.9980065628263595,
          4.154598501469625,
          4.31119044011289,
          4.467782378756155,
          4.624374317399421,
          4.780966256042686,
          3.7746401488274213,
          3.9312320874706863,
          4.087824026113951,
          4.244415964757217,
          4.401007903400482,
          4.557599842043747,
          4.714191780687013,
          4.870783719330278,
          5.027375657973543,
          5.183967596616808,
          4.177641489401545,
          4.33423342804481,
          4.490825366688075,
          4.64741730533134,
          4.804009243974606,
          4.960601182617871,
          5.117193121261137,
          5.273785059904402,
          5.430376998547667,
          5.586968937190932,
          4.580642829975668,
          4.737234768618933,
          4.893826707262198,
          5.050418645905463,
          5.207010584548729,
          5.363602523191994,
          5.52019446183526,
          5.676786400478525,
          5.83337833912179,
          5.989970277765055,
          4.983644170549789,
          5.140236109193055,
          5.29682804783632,
          5.453419986479586,
          5.610011925122851,
          5.766603863766116,
          5.923195802409381,
          6.079787741052646,
          6.236379679695912,
          6.392971618339177,
          5.386645511123913,
          5.543237449767179,
          5.699829388410444,
          5.8564213270537095,
          6.013013265696975,
          6.16960520434024,
          6.326197142983505,
          6.48278908162677,
          6.639381020270036,
          6.795972958913301,
          5.789646851698036,
          5.946238790341302,
          6.102830728984567,
          6.259422667627833,
          6.416014606271098,
          6.572606544914363,
          6.729198483557628,
          6.885790422200894,
          7.042382360844159,
          7.198974299487424,
          6.192648192272159,
          6.349240130915424,
          6.505832069558689,
          6.662424008201955,
          6.81901594684522,
          6.975607885488485,
          7.132199824131751,
          7.288791762775016,
          7.445383701418282,
          7.601975640061547
         ]
        }
       ],
       "layout": {
        "margin": {
         "b": 0,
         "l": 0,
         "r": 0,
         "t": 0
        },
        "scene": {
         "xaxis": {
          "title": {
           "text": "Economy..GDP.per.Capita."
          }
         },
         "yaxis": {
          "title": {
           "text": "Freedom"
          }
         },
         "zaxis": {
          "title": {
           "text": "Happiness.Score"
          }
         }
        },
        "template": {
         "data": {
          "bar": [
           {
            "error_x": {
             "color": "#2a3f5f"
            },
            "error_y": {
             "color": "#2a3f5f"
            },
            "marker": {
             "line": {
              "color": "#E5ECF6",
              "width": 0.5
             }
            },
            "type": "bar"
           }
          ],
          "barpolar": [
           {
            "marker": {
             "line": {
              "color": "#E5ECF6",
              "width": 0.5
             }
            },
            "type": "barpolar"
           }
          ],
          "carpet": [
           {
            "aaxis": {
             "endlinecolor": "#2a3f5f",
             "gridcolor": "white",
             "linecolor": "white",
             "minorgridcolor": "white",
             "startlinecolor": "#2a3f5f"
            },
            "baxis": {
             "endlinecolor": "#2a3f5f",
             "gridcolor": "white",
             "linecolor": "white",
             "minorgridcolor": "white",
             "startlinecolor": "#2a3f5f"
            },
            "type": "carpet"
           }
          ],
          "choropleth": [
           {
            "colorbar": {
             "outlinewidth": 0,
             "ticks": ""
            },
            "type": "choropleth"
           }
          ],
          "contour": [
           {
            "colorbar": {
             "outlinewidth": 0,
             "ticks": ""
            },
            "colorscale": [
             [
              0,
              "#0d0887"
             ],
             [
              0.1111111111111111,
              "#46039f"
             ],
             [
              0.2222222222222222,
              "#7201a8"
             ],
             [
              0.3333333333333333,
              "#9c179e"
             ],
             [
              0.4444444444444444,
              "#bd3786"
             ],
             [
              0.5555555555555556,
              "#d8576b"
             ],
             [
              0.6666666666666666,
              "#ed7953"
             ],
             [
              0.7777777777777778,
              "#fb9f3a"
             ],
             [
              0.8888888888888888,
              "#fdca26"
             ],
             [
              1,
              "#f0f921"
             ]
            ],
            "type": "contour"
           }
          ],
          "contourcarpet": [
           {
            "colorbar": {
             "outlinewidth": 0,
             "ticks": ""
            },
            "type": "contourcarpet"
           }
          ],
          "heatmap": [
           {
            "colorbar": {
             "outlinewidth": 0,
             "ticks": ""
            },
            "colorscale": [
             [
              0,
              "#0d0887"
             ],
             [
              0.1111111111111111,
              "#46039f"
             ],
             [
              0.2222222222222222,
              "#7201a8"
             ],
             [
              0.3333333333333333,
              "#9c179e"
             ],
             [
              0.4444444444444444,
              "#bd3786"
             ],
             [
              0.5555555555555556,
              "#d8576b"
             ],
             [
              0.6666666666666666,
              "#ed7953"
             ],
             [
              0.7777777777777778,
              "#fb9f3a"
             ],
             [
              0.8888888888888888,
              "#fdca26"
             ],
             [
              1,
              "#f0f921"
             ]
            ],
            "type": "heatmap"
           }
          ],
          "heatmapgl": [
           {
            "colorbar": {
             "outlinewidth": 0,
             "ticks": ""
            },
            "colorscale": [
             [
              0,
              "#0d0887"
             ],
             [
              0.1111111111111111,
              "#46039f"
             ],
             [
              0.2222222222222222,
              "#7201a8"
             ],
             [
              0.3333333333333333,
              "#9c179e"
             ],
             [
              0.4444444444444444,
              "#bd3786"
             ],
             [
              0.5555555555555556,
              "#d8576b"
             ],
             [
              0.6666666666666666,
              "#ed7953"
             ],
             [
              0.7777777777777778,
              "#fb9f3a"
             ],
             [
              0.8888888888888888,
              "#fdca26"
             ],
             [
              1,
              "#f0f921"
             ]
            ],
            "type": "heatmapgl"
           }
          ],
          "histogram": [
           {
            "marker": {
             "colorbar": {
              "outlinewidth": 0,
              "ticks": ""
             }
            },
            "type": "histogram"
           }
          ],
          "histogram2d": [
           {
            "colorbar": {
             "outlinewidth": 0,
             "ticks": ""
            },
            "colorscale": [
             [
              0,
              "#0d0887"
             ],
             [
              0.1111111111111111,
              "#46039f"
             ],
             [
              0.2222222222222222,
              "#7201a8"
             ],
             [
              0.3333333333333333,
              "#9c179e"
             ],
             [
              0.4444444444444444,
              "#bd3786"
             ],
             [
              0.5555555555555556,
              "#d8576b"
             ],
             [
              0.6666666666666666,
              "#ed7953"
             ],
             [
              0.7777777777777778,
              "#fb9f3a"
             ],
             [
              0.8888888888888888,
              "#fdca26"
             ],
             [
              1,
              "#f0f921"
             ]
            ],
            "type": "histogram2d"
           }
          ],
          "histogram2dcontour": [
           {
            "colorbar": {
             "outlinewidth": 0,
             "ticks": ""
            },
            "colorscale": [
             [
              0,
              "#0d0887"
             ],
             [
              0.1111111111111111,
              "#46039f"
             ],
             [
              0.2222222222222222,
              "#7201a8"
             ],
             [
              0.3333333333333333,
              "#9c179e"
             ],
             [
              0.4444444444444444,
              "#bd3786"
             ],
             [
              0.5555555555555556,
              "#d8576b"
             ],
             [
              0.6666666666666666,
              "#ed7953"
             ],
             [
              0.7777777777777778,
              "#fb9f3a"
             ],
             [
              0.8888888888888888,
              "#fdca26"
             ],
             [
              1,
              "#f0f921"
             ]
            ],
            "type": "histogram2dcontour"
           }
          ],
          "mesh3d": [
           {
            "colorbar": {
             "outlinewidth": 0,
             "ticks": ""
            },
            "type": "mesh3d"
           }
          ],
          "parcoords": [
           {
            "line": {
             "colorbar": {
              "outlinewidth": 0,
              "ticks": ""
             }
            },
            "type": "parcoords"
           }
          ],
          "pie": [
           {
            "automargin": true,
            "type": "pie"
           }
          ],
          "scatter": [
           {
            "marker": {
             "colorbar": {
              "outlinewidth": 0,
              "ticks": ""
             }
            },
            "type": "scatter"
           }
          ],
          "scatter3d": [
           {
            "line": {
             "colorbar": {
              "outlinewidth": 0,
              "ticks": ""
             }
            },
            "marker": {
             "colorbar": {
              "outlinewidth": 0,
              "ticks": ""
             }
            },
            "type": "scatter3d"
           }
          ],
          "scattercarpet": [
           {
            "marker": {
             "colorbar": {
              "outlinewidth": 0,
              "ticks": ""
             }
            },
            "type": "scattercarpet"
           }
          ],
          "scattergeo": [
           {
            "marker": {
             "colorbar": {
              "outlinewidth": 0,
              "ticks": ""
             }
            },
            "type": "scattergeo"
           }
          ],
          "scattergl": [
           {
            "marker": {
             "colorbar": {
              "outlinewidth": 0,
              "ticks": ""
             }
            },
            "type": "scattergl"
           }
          ],
          "scattermapbox": [
           {
            "marker": {
             "colorbar": {
              "outlinewidth": 0,
              "ticks": ""
             }
            },
            "type": "scattermapbox"
           }
          ],
          "scatterpolar": [
           {
            "marker": {
             "colorbar": {
              "outlinewidth": 0,
              "ticks": ""
             }
            },
            "type": "scatterpolar"
           }
          ],
          "scatterpolargl": [
           {
            "marker": {
             "colorbar": {
              "outlinewidth": 0,
              "ticks": ""
             }
            },
            "type": "scatterpolargl"
           }
          ],
          "scatterternary": [
           {
            "marker": {
             "colorbar": {
              "outlinewidth": 0,
              "ticks": ""
             }
            },
            "type": "scatterternary"
           }
          ],
          "surface": [
           {
            "colorbar": {
             "outlinewidth": 0,
             "ticks": ""
            },
            "colorscale": [
             [
              0,
              "#0d0887"
             ],
             [
              0.1111111111111111,
              "#46039f"
             ],
             [
              0.2222222222222222,
              "#7201a8"
             ],
             [
              0.3333333333333333,
              "#9c179e"
             ],
             [
              0.4444444444444444,
              "#bd3786"
             ],
             [
              0.5555555555555556,
              "#d8576b"
             ],
             [
              0.6666666666666666,
              "#ed7953"
             ],
             [
              0.7777777777777778,
              "#fb9f3a"
             ],
             [
              0.8888888888888888,
              "#fdca26"
             ],
             [
              1,
              "#f0f921"
             ]
            ],
            "type": "surface"
           }
          ],
          "table": [
           {
            "cells": {
             "fill": {
              "color": "#EBF0F8"
             },
             "line": {
              "color": "white"
             }
            },
            "header": {
             "fill": {
              "color": "#C8D4E3"
             },
             "line": {
              "color": "white"
             }
            },
            "type": "table"
           }
          ]
         },
         "layout": {
          "annotationdefaults": {
           "arrowcolor": "#2a3f5f",
           "arrowhead": 0,
           "arrowwidth": 1
          },
          "coloraxis": {
           "colorbar": {
            "outlinewidth": 0,
            "ticks": ""
           }
          },
          "colorscale": {
           "diverging": [
            [
             0,
             "#8e0152"
            ],
            [
             0.1,
             "#c51b7d"
            ],
            [
             0.2,
             "#de77ae"
            ],
            [
             0.3,
             "#f1b6da"
            ],
            [
             0.4,
             "#fde0ef"
            ],
            [
             0.5,
             "#f7f7f7"
            ],
            [
             0.6,
             "#e6f5d0"
            ],
            [
             0.7,
             "#b8e186"
            ],
            [
             0.8,
             "#7fbc41"
            ],
            [
             0.9,
             "#4d9221"
            ],
            [
             1,
             "#276419"
            ]
           ],
           "sequential": [
            [
             0,
             "#0d0887"
            ],
            [
             0.1111111111111111,
             "#46039f"
            ],
            [
             0.2222222222222222,
             "#7201a8"
            ],
            [
             0.3333333333333333,
             "#9c179e"
            ],
            [
             0.4444444444444444,
             "#bd3786"
            ],
            [
             0.5555555555555556,
             "#d8576b"
            ],
            [
             0.6666666666666666,
             "#ed7953"
            ],
            [
             0.7777777777777778,
             "#fb9f3a"
            ],
            [
             0.8888888888888888,
             "#fdca26"
            ],
            [
             1,
             "#f0f921"
            ]
           ],
           "sequentialminus": [
            [
             0,
             "#0d0887"
            ],
            [
             0.1111111111111111,
             "#46039f"
            ],
            [
             0.2222222222222222,
             "#7201a8"
            ],
            [
             0.3333333333333333,
             "#9c179e"
            ],
            [
             0.4444444444444444,
             "#bd3786"
            ],
            [
             0.5555555555555556,
             "#d8576b"
            ],
            [
             0.6666666666666666,
             "#ed7953"
            ],
            [
             0.7777777777777778,
             "#fb9f3a"
            ],
            [
             0.8888888888888888,
             "#fdca26"
            ],
            [
             1,
             "#f0f921"
            ]
           ]
          },
          "colorway": [
           "#636efa",
           "#EF553B",
           "#00cc96",
           "#ab63fa",
           "#FFA15A",
           "#19d3f3",
           "#FF6692",
           "#B6E880",
           "#FF97FF",
           "#FECB52"
          ],
          "font": {
           "color": "#2a3f5f"
          },
          "geo": {
           "bgcolor": "white",
           "lakecolor": "white",
           "landcolor": "#E5ECF6",
           "showlakes": true,
           "showland": true,
           "subunitcolor": "white"
          },
          "hoverlabel": {
           "align": "left"
          },
          "hovermode": "closest",
          "mapbox": {
           "style": "light"
          },
          "paper_bgcolor": "white",
          "plot_bgcolor": "#E5ECF6",
          "polar": {
           "angularaxis": {
            "gridcolor": "white",
            "linecolor": "white",
            "ticks": ""
           },
           "bgcolor": "#E5ECF6",
           "radialaxis": {
            "gridcolor": "white",
            "linecolor": "white",
            "ticks": ""
           }
          },
          "scene": {
           "xaxis": {
            "backgroundcolor": "#E5ECF6",
            "gridcolor": "white",
            "gridwidth": 2,
            "linecolor": "white",
            "showbackground": true,
            "ticks": "",
            "zerolinecolor": "white"
           },
           "yaxis": {
            "backgroundcolor": "#E5ECF6",
            "gridcolor": "white",
            "gridwidth": 2,
            "linecolor": "white",
            "showbackground": true,
            "ticks": "",
            "zerolinecolor": "white"
           },
           "zaxis": {
            "backgroundcolor": "#E5ECF6",
            "gridcolor": "white",
            "gridwidth": 2,
            "linecolor": "white",
            "showbackground": true,
            "ticks": "",
            "zerolinecolor": "white"
           }
          },
          "shapedefaults": {
           "line": {
            "color": "#2a3f5f"
           }
          },
          "ternary": {
           "aaxis": {
            "gridcolor": "white",
            "linecolor": "white",
            "ticks": ""
           },
           "baxis": {
            "gridcolor": "white",
            "linecolor": "white",
            "ticks": ""
           },
           "bgcolor": "#E5ECF6",
           "caxis": {
            "gridcolor": "white",
            "linecolor": "white",
            "ticks": ""
           }
          },
          "title": {
           "x": 0.05
          },
          "xaxis": {
           "automargin": true,
           "gridcolor": "white",
           "linecolor": "white",
           "ticks": "",
           "title": {
            "standoff": 15
           },
           "zerolinecolor": "white",
           "zerolinewidth": 2
          },
          "yaxis": {
           "automargin": true,
           "gridcolor": "white",
           "linecolor": "white",
           "ticks": "",
           "title": {
            "standoff": 15
           },
           "zerolinecolor": "white",
           "zerolinewidth": 2
          }
         }
        },
        "title": {
         "text": "Date Sets"
        }
       }
      },
      "text/html": [
       "<div>                            <div id=\"fd4169f9-0169-4fd5-bee1-741aeecd7dbb\" class=\"plotly-graph-div\" style=\"height:525px; width:100%;\"></div>            <script type=\"text/javascript\">                require([\"plotly\"], function(Plotly) {                    window.PLOTLYENV=window.PLOTLYENV || {};                                    if (document.getElementById(\"fd4169f9-0169-4fd5-bee1-741aeecd7dbb\")) {                    Plotly.newPlot(                        \"fd4169f9-0169-4fd5-bee1-741aeecd7dbb\",                        [{\"marker\": {\"line\": {\"color\": \"rgb(255, 255, 255)\", \"width\": 1}, \"opacity\": 1, \"size\": 10}, \"mode\": \"markers\", \"name\": \"Actual\", \"type\": \"scatter3d\", \"x\": [0.9910123944282528, 1.5357066392898602, 1.0272358655929599, 1.1307767629623402, 0.0921023488044739, 1.74194359779358, 1.1018030643463101, 1.40570604801178, 1.09186446666718, 1.3559380769729599, 0.716249227523804, 1.40167844295502, 1.1982102394104, 0.09162256866693501, 1.8707656860351598, 1.15655755996704, 1.34327983856201, 0.479309022426605, 1.1027104854583702, 0.85769921541214, 0.737299203872681, 0.777153134346008, 1.55167484283447, 0.964434325695038, 1.00082039833069, 1.05469870567322, 0.6595166921615601, 1.1531838178634601, 1.12786877155304, 1.28948748111725, 1.22255623340607, 0.786441087722778, 0.560479462146759, 0.872001945972443, 0.6017650961875921, 0.30544471740722695, 0.925579309463501, 1.2845562696456898, 0.23430564999580397, 0.339233845472336, 1.44163393974304, 1.12112903594971, 0.7288706302642819, 1.6263433694839498, 1.1982743740081798, 1.29121541976929, 0.564305365085602, 0.511135876178741, 0.8584281802177429, 1.4637807607650801, 0.8089642524719242, 1.49438726902008, 0.35022771358490007, 0.368745893239975, 0.982409417629242, 1.41691517829895, 0.521021246910095, 1.12843120098114, 0.5962200760841371, 0.9097844958305359, 1.25278460979462, 1.6164631843566901, 1.00985014438629, 1.4870972633361799, 1.53062355518341, 1.48238301277161, 0.8781145811080929, 1.48792338371277, 0.6030489206314089, 1.3469113111496, 0.368610262870789, 1.10970628261566, 1.50394463539124, 0.7922212481498722, 0.89465194940567, 1.3950666189193701, 0.11904179304838199, 0.783756256103516, 0.7268835306167599, 0.24454993009567302, 0.989701807498932, 0.833756566047668, 1.2860119342803997, 0.996192753314972, 0.951484382152557, 1.08116579055786, 1.3753824234008798, 0.43801298737525896, 1.35268235206604, 1.15687310695648, 0.7885475754737851, 1.12209415435791, 0.667224824428558, 0.730573117733002, 1.4336265325546298, 1.06457793712616, 0.0, 0.305808693170547, 0.36842092871666, 1.36135590076447, 1.4884122610092199, 0.586682975292206, 0.5916834473609921, 0.885416388511658, 1.07062232494354, 1.29178786277771, 0.381430715322495, 0.36711055040359497, 1.38439786434174, 0.524713635444641, 1.54625928401947, 1.2175596952438401, 0.401477217674255, 1.00726580619812, 1.28177809715271, 0.6484572887420649, 1.3208793401718102, 1.18529546260834, 1.1893955469131499, 1.06931757926941, 1.44357192516327, 1.69227766990662, 1.4844149351120002, 0.900596737861633], \"y\": [0.418421149253845, 0.5731103420257571, 0.39414396882057207, 0.41827192902565, 0.235961347818375, 0.59662789106369, 0.465733230113983, 0.6140621304512021, 0.233335807919502, 0.35511153936386103, 0.25471106171608, 0.257921665906906, 0.31232857704162603, 0.0599007532000542, 0.604130983352661, 0.295400261878967, 0.588767051696777, 0.37792226672172496, 0.288555532693863, 0.585214674472809, 0.447551846504211, 0.0815394446253777, 0.490968644618988, 0.520303547382355, 0.4551981985569, 0.479246735572815, 0.0149958552792668, 0.412730008363724, 0.580200731754303, 0.0957312509417534, 0.255772292613983, 0.6582486629486078, 0.45276376605033897, 0.5313106179237371, 0.633375823497772, 0.38042613863945, 0.474307239055634, 0.43745428323745705, 0.48079109191894503, 0.408842742443085, 0.508190035820007, 0.194989055395126, 0.24072904884815197, 0.60834527015686, 0.300740599632263, 0.40226498246192893, 0.430388748645782, 0.390017777681351, 0.0, 0.5397707223892211, 0.4350258708000179, 0.612924098968506, 0.32436785101890603, 0.5818438529968261, 0.204403176903725, 0.505625545978546, 0.390661299228668, 0.15399712324142498, 0.454943388700485, 0.432452529668808, 0.376895278692245, 0.635422587394714, 0.561213254928589, 0.567766189575195, 0.449750572443008, 0.626006722450256, 0.408158332109451, 0.562511384487152, 0.4477061927318571, 0.47120362520217896, 0.0303698573261499, 0.580131649971008, 0.5853844881057739, 0.469987004995346, 0.12297477573156401, 0.256450712680817, 0.33288118243217496, 0.394952565431595, 0.23521526157856, 0.348587512969971, 0.28211015462875394, 0.5587329268455511, 0.17586351931095098, 0.381498634815216, 0.260287940502167, 0.47278770804405196, 0.40598860383033797, 0.16234202682972002, 0.49094617366790794, 0.24932260811328896, 0.571055591106415, 0.505196332931519, 0.423026293516159, 0.348079860210419, 0.361466586589813, 0.325905978679657, 0.270842045545578, 0.18919676542282102, 0.318697690963745, 0.518630743026733, 0.536746919155121, 0.478356659412384, 0.24946372210979503, 0.5015376806259161, 0.47748741507530196, 0.520342111587524, 0.443185955286026, 0.514492034912109, 0.408781230449677, 0.47156670689582797, 0.505740523338318, 0.5793922543525699, 0.106179520487785, 0.289680689573288, 0.373783111572266, 0.0960980430245399, 0.479131430387497, 0.49451920390129106, 0.491247326135635, 0.20871552824974102, 0.6179508566856379, 0.549840569496155, 0.601607382297516, 0.198303267359734], \"z\": [5.33599996566772, 6.9770002365112305, 4.95499992370605, 5.82200002670288, 4.2800002098083505, 6.86299991607666, 5.525000095367429, 7.31400012969971, 5.872000217437741, 5.62099981307983, 4.77500009536743, 5.837999820709231, 4.46500015258789, 2.90499997138977, 6.375, 5.5689997673034695, 6.52699995040894, 4.53499984741211, 4.49700021743774, 5.42999982833862, 6.07100009918213, 3.46199989318848, 5.47200012207031, 4.57399988174438, 6.00799989700317, 4.8289999961853, 4.138999938964839, 6.57800006866455, 6.4239997863769505, 5.2270002365112305, 5.2930002212524405, 5.97100019454956, 4.55299997329712, 6.4539999961853, 4.1680002212524405, 3.4949998855590803, 5.31099987030029, 5.8189997673034695, 4.550000190734861, 4.46000003814697, 6.71400022506714, 5.23699998855591, 5.837999820709231, 6.6479997634887695, 5.5, 6.08400011062622, 4.69500017166138, 3.34899997711182, 3.79500007629395, 6.89099979400635, 4.29099988937378, 7.28399991989136, 4.03200006484985, 3.47099995613098, 5.18200016021729, 5.92000007629395, 3.80800008773804, 5.25, 5.0040001869201705, 6.002999782562259, 6.65199995040894, 7.537000179290769, 4.44000005722046, 7.00600004196167, 6.343999862670901, 7.52199983596802, 5.2350001335144, 6.9510002136230495, 4.17999982833862, 5.80999994277954, 3.6029999256133998, 7.0789999961853, 7.3769998550415, 4.31500005722046, 4.09600019454956, 5.96400022506714, 3.5329999923706095, 5.07399988174438, 5.26900005340576, 3.50699996948242, 4.7350001335144, 5.82299995422363, 5.32399988174438, 4.64400005340576, 5.27899980545044, 5.2729997634887695, 7.212999820709231, 3.9360001087188703, 6.60900020599365, 4.69199991226196, 5.07399988174438, 3.7660000324249303, 4.11999988555908, 5.1810002326965305, 6.42199993133545, 5.175000190734861, 2.69300007820129, 3.64400005340576, 4.70900011062622, 6.1680002212524405, 6.08699989318848, 4.60799980163574, 3.59299993515015, 5.01100015640259, 6.35699987411499, 5.97300004959106, 4.08099985122681, 4.54500007629395, 6.40299987792969, 5.04099988937378, 6.993000030517581, 6.4539999961853, 3.7939999103546103, 4.80499982833862, 5.962999820709231, 4.29199981689453, 5.61100006103516, 6.59899997711182, 5.62900018692017, 5.39499998092651, 7.468999862670901, 6.57200002670288, 7.28399991989136, 4.37599992752075]}, {\"marker\": {\"size\": 1}, \"mode\": \"markers\", \"name\": \"Prediction Plane\", \"opacity\": 0.8, \"surfaceaxis\": 2, \"type\": \"scatter3d\", \"x\": [0.0, 0.0, 0.0, 0.0, 0.0, 0.0, 0.0, 0.0, 0.0, 0.0, 0.20786285400390664, 0.20786285400390664, 0.20786285400390664, 0.20786285400390664, 0.20786285400390664, 0.20786285400390664, 0.20786285400390664, 0.20786285400390664, 0.20786285400390664, 0.20786285400390664, 0.4157257080078133, 0.4157257080078133, 0.4157257080078133, 0.4157257080078133, 0.4157257080078133, 0.4157257080078133, 0.4157257080078133, 0.4157257080078133, 0.4157257080078133, 0.4157257080078133, 0.6235885620117199, 0.6235885620117199, 0.6235885620117199, 0.6235885620117199, 0.6235885620117199, 0.6235885620117199, 0.6235885620117199, 0.6235885620117199, 0.6235885620117199, 0.6235885620117199, 0.8314514160156266, 0.8314514160156266, 0.8314514160156266, 0.8314514160156266, 0.8314514160156266, 0.8314514160156266, 0.8314514160156266, 0.8314514160156266, 0.8314514160156266, 0.8314514160156266, 1.0393142700195332, 1.0393142700195332, 1.0393142700195332, 1.0393142700195332, 1.0393142700195332, 1.0393142700195332, 1.0393142700195332, 1.0393142700195332, 1.0393142700195332, 1.0393142700195332, 1.2471771240234397, 1.2471771240234397, 1.2471771240234397, 1.2471771240234397, 1.2471771240234397, 1.2471771240234397, 1.2471771240234397, 1.2471771240234397, 1.2471771240234397, 1.2471771240234397, 1.4550399780273464, 1.4550399780273464, 1.4550399780273464, 1.4550399780273464, 1.4550399780273464, 1.4550399780273464, 1.4550399780273464, 1.4550399780273464, 1.4550399780273464, 1.4550399780273464, 1.662902832031253, 1.662902832031253, 1.662902832031253, 1.662902832031253, 1.662902832031253, 1.662902832031253, 1.662902832031253, 1.662902832031253, 1.662902832031253, 1.662902832031253, 1.8707656860351598, 1.8707656860351598, 1.8707656860351598, 1.8707656860351598, 1.8707656860351598, 1.8707656860351598, 1.8707656860351598, 1.8707656860351598, 1.8707656860351598, 1.8707656860351598], \"y\": [0.0, 0.07313874032762309, 0.14627748065524618, 0.21941622098286928, 0.29255496131049236, 0.36569370163811543, 0.43883244196573856, 0.5119711822933616, 0.5851099226209847, 0.6582486629486078, 0.0, 0.07313874032762309, 0.14627748065524618, 0.21941622098286928, 0.29255496131049236, 0.36569370163811543, 0.43883244196573856, 0.5119711822933616, 0.5851099226209847, 0.6582486629486078, 0.0, 0.07313874032762309, 0.14627748065524618, 0.21941622098286928, 0.29255496131049236, 0.36569370163811543, 0.43883244196573856, 0.5119711822933616, 0.5851099226209847, 0.6582486629486078, 0.0, 0.07313874032762309, 0.14627748065524618, 0.21941622098286928, 0.29255496131049236, 0.36569370163811543, 0.43883244196573856, 0.5119711822933616, 0.5851099226209847, 0.6582486629486078, 0.0, 0.07313874032762309, 0.14627748065524618, 0.21941622098286928, 0.29255496131049236, 0.36569370163811543, 0.43883244196573856, 0.5119711822933616, 0.5851099226209847, 0.6582486629486078, 0.0, 0.07313874032762309, 0.14627748065524618, 0.21941622098286928, 0.29255496131049236, 0.36569370163811543, 0.43883244196573856, 0.5119711822933616, 0.5851099226209847, 0.6582486629486078, 0.0, 0.07313874032762309, 0.14627748065524618, 0.21941622098286928, 0.29255496131049236, 0.36569370163811543, 0.43883244196573856, 0.5119711822933616, 0.5851099226209847, 0.6582486629486078, 0.0, 0.07313874032762309, 0.14627748065524618, 0.21941622098286928, 0.29255496131049236, 0.36569370163811543, 0.43883244196573856, 0.5119711822933616, 0.5851099226209847, 0.6582486629486078, 0.0, 0.07313874032762309, 0.14627748065524618, 0.21941622098286928, 0.29255496131049236, 0.36569370163811543, 0.43883244196573856, 0.5119711822933616, 0.5851099226209847, 0.6582486629486078, 0.0, 0.07313874032762309, 0.14627748065524618, 0.21941622098286928, 0.29255496131049236, 0.36569370163811543, 0.43883244196573856, 0.5119711822933616, 0.5851099226209847, 0.6582486629486078], \"z\": [2.5656361271050523, 2.7222280657483178, 2.878820004391583, 3.0354119430348483, 3.1920038816781133, 3.348595820321379, 3.5051877589646443, 3.6617796976079093, 3.818371636251175, 3.9749635748944403, 2.968637467679175, 3.1252294063224406, 3.2818213449657057, 3.438413283608971, 3.5950052222522366, 3.7515971608955017, 3.908189099538767, 4.064781038182033, 4.221372976825298, 4.377964915468564, 3.3716388082532984, 3.528230746896564, 3.684822685539829, 3.841414624183094, 3.9980065628263595, 4.154598501469625, 4.31119044011289, 4.467782378756155, 4.624374317399421, 4.780966256042686, 3.7746401488274213, 3.9312320874706863, 4.087824026113951, 4.244415964757217, 4.401007903400482, 4.557599842043747, 4.714191780687013, 4.870783719330278, 5.027375657973543, 5.183967596616808, 4.177641489401545, 4.33423342804481, 4.490825366688075, 4.64741730533134, 4.804009243974606, 4.960601182617871, 5.117193121261137, 5.273785059904402, 5.430376998547667, 5.586968937190932, 4.580642829975668, 4.737234768618933, 4.893826707262198, 5.050418645905463, 5.207010584548729, 5.363602523191994, 5.52019446183526, 5.676786400478525, 5.83337833912179, 5.989970277765055, 4.983644170549789, 5.140236109193055, 5.29682804783632, 5.453419986479586, 5.610011925122851, 5.766603863766116, 5.923195802409381, 6.079787741052646, 6.236379679695912, 6.392971618339177, 5.386645511123913, 5.543237449767179, 5.699829388410444, 5.8564213270537095, 6.013013265696975, 6.16960520434024, 6.326197142983505, 6.48278908162677, 6.639381020270036, 6.795972958913301, 5.789646851698036, 5.946238790341302, 6.102830728984567, 6.259422667627833, 6.416014606271098, 6.572606544914363, 6.729198483557628, 6.885790422200894, 7.042382360844159, 7.198974299487424, 6.192648192272159, 6.349240130915424, 6.505832069558689, 6.662424008201955, 6.81901594684522, 6.975607885488485, 7.132199824131751, 7.288791762775016, 7.445383701418282, 7.601975640061547]}],                        {\"margin\": {\"b\": 0, \"l\": 0, \"r\": 0, \"t\": 0}, \"scene\": {\"xaxis\": {\"title\": {\"text\": \"Economy..GDP.per.Capita.\"}}, \"yaxis\": {\"title\": {\"text\": \"Freedom\"}}, \"zaxis\": {\"title\": {\"text\": \"Happiness.Score\"}}}, \"template\": {\"data\": {\"bar\": [{\"error_x\": {\"color\": \"#2a3f5f\"}, \"error_y\": {\"color\": \"#2a3f5f\"}, \"marker\": {\"line\": {\"color\": \"#E5ECF6\", \"width\": 0.5}}, \"type\": \"bar\"}], \"barpolar\": [{\"marker\": {\"line\": {\"color\": \"#E5ECF6\", \"width\": 0.5}}, \"type\": \"barpolar\"}], \"carpet\": [{\"aaxis\": {\"endlinecolor\": \"#2a3f5f\", \"gridcolor\": \"white\", \"linecolor\": \"white\", \"minorgridcolor\": \"white\", \"startlinecolor\": \"#2a3f5f\"}, \"baxis\": {\"endlinecolor\": \"#2a3f5f\", \"gridcolor\": \"white\", \"linecolor\": \"white\", \"minorgridcolor\": \"white\", \"startlinecolor\": \"#2a3f5f\"}, \"type\": \"carpet\"}], \"choropleth\": [{\"colorbar\": {\"outlinewidth\": 0, \"ticks\": \"\"}, \"type\": \"choropleth\"}], \"contour\": [{\"colorbar\": {\"outlinewidth\": 0, \"ticks\": \"\"}, \"colorscale\": [[0.0, \"#0d0887\"], [0.1111111111111111, \"#46039f\"], [0.2222222222222222, \"#7201a8\"], [0.3333333333333333, \"#9c179e\"], [0.4444444444444444, \"#bd3786\"], [0.5555555555555556, \"#d8576b\"], [0.6666666666666666, \"#ed7953\"], [0.7777777777777778, \"#fb9f3a\"], [0.8888888888888888, \"#fdca26\"], [1.0, \"#f0f921\"]], \"type\": \"contour\"}], \"contourcarpet\": [{\"colorbar\": {\"outlinewidth\": 0, \"ticks\": \"\"}, \"type\": \"contourcarpet\"}], \"heatmap\": [{\"colorbar\": {\"outlinewidth\": 0, \"ticks\": \"\"}, \"colorscale\": [[0.0, \"#0d0887\"], [0.1111111111111111, \"#46039f\"], [0.2222222222222222, \"#7201a8\"], [0.3333333333333333, \"#9c179e\"], [0.4444444444444444, \"#bd3786\"], [0.5555555555555556, \"#d8576b\"], [0.6666666666666666, \"#ed7953\"], [0.7777777777777778, \"#fb9f3a\"], [0.8888888888888888, \"#fdca26\"], [1.0, \"#f0f921\"]], \"type\": \"heatmap\"}], \"heatmapgl\": [{\"colorbar\": {\"outlinewidth\": 0, \"ticks\": \"\"}, \"colorscale\": [[0.0, \"#0d0887\"], [0.1111111111111111, \"#46039f\"], [0.2222222222222222, \"#7201a8\"], [0.3333333333333333, \"#9c179e\"], [0.4444444444444444, \"#bd3786\"], [0.5555555555555556, \"#d8576b\"], [0.6666666666666666, \"#ed7953\"], [0.7777777777777778, \"#fb9f3a\"], [0.8888888888888888, \"#fdca26\"], [1.0, \"#f0f921\"]], \"type\": \"heatmapgl\"}], \"histogram\": [{\"marker\": {\"colorbar\": {\"outlinewidth\": 0, \"ticks\": \"\"}}, \"type\": \"histogram\"}], \"histogram2d\": [{\"colorbar\": {\"outlinewidth\": 0, \"ticks\": \"\"}, \"colorscale\": [[0.0, \"#0d0887\"], [0.1111111111111111, \"#46039f\"], [0.2222222222222222, \"#7201a8\"], [0.3333333333333333, \"#9c179e\"], [0.4444444444444444, \"#bd3786\"], [0.5555555555555556, \"#d8576b\"], [0.6666666666666666, \"#ed7953\"], [0.7777777777777778, \"#fb9f3a\"], [0.8888888888888888, \"#fdca26\"], [1.0, \"#f0f921\"]], \"type\": \"histogram2d\"}], \"histogram2dcontour\": [{\"colorbar\": {\"outlinewidth\": 0, \"ticks\": \"\"}, \"colorscale\": [[0.0, \"#0d0887\"], [0.1111111111111111, \"#46039f\"], [0.2222222222222222, \"#7201a8\"], [0.3333333333333333, \"#9c179e\"], [0.4444444444444444, \"#bd3786\"], [0.5555555555555556, \"#d8576b\"], [0.6666666666666666, \"#ed7953\"], [0.7777777777777778, \"#fb9f3a\"], [0.8888888888888888, \"#fdca26\"], [1.0, \"#f0f921\"]], \"type\": \"histogram2dcontour\"}], \"mesh3d\": [{\"colorbar\": {\"outlinewidth\": 0, \"ticks\": \"\"}, \"type\": \"mesh3d\"}], \"parcoords\": [{\"line\": {\"colorbar\": {\"outlinewidth\": 0, \"ticks\": \"\"}}, \"type\": \"parcoords\"}], \"pie\": [{\"automargin\": true, \"type\": \"pie\"}], \"scatter\": [{\"marker\": {\"colorbar\": {\"outlinewidth\": 0, \"ticks\": \"\"}}, \"type\": \"scatter\"}], \"scatter3d\": [{\"line\": {\"colorbar\": {\"outlinewidth\": 0, \"ticks\": \"\"}}, \"marker\": {\"colorbar\": {\"outlinewidth\": 0, \"ticks\": \"\"}}, \"type\": \"scatter3d\"}], \"scattercarpet\": [{\"marker\": {\"colorbar\": {\"outlinewidth\": 0, \"ticks\": \"\"}}, \"type\": \"scattercarpet\"}], \"scattergeo\": [{\"marker\": {\"colorbar\": {\"outlinewidth\": 0, \"ticks\": \"\"}}, \"type\": \"scattergeo\"}], \"scattergl\": [{\"marker\": {\"colorbar\": {\"outlinewidth\": 0, \"ticks\": \"\"}}, \"type\": \"scattergl\"}], \"scattermapbox\": [{\"marker\": {\"colorbar\": {\"outlinewidth\": 0, \"ticks\": \"\"}}, \"type\": \"scattermapbox\"}], \"scatterpolar\": [{\"marker\": {\"colorbar\": {\"outlinewidth\": 0, \"ticks\": \"\"}}, \"type\": \"scatterpolar\"}], \"scatterpolargl\": [{\"marker\": {\"colorbar\": {\"outlinewidth\": 0, \"ticks\": \"\"}}, \"type\": \"scatterpolargl\"}], \"scatterternary\": [{\"marker\": {\"colorbar\": {\"outlinewidth\": 0, \"ticks\": \"\"}}, \"type\": \"scatterternary\"}], \"surface\": [{\"colorbar\": {\"outlinewidth\": 0, \"ticks\": \"\"}, \"colorscale\": [[0.0, \"#0d0887\"], [0.1111111111111111, \"#46039f\"], [0.2222222222222222, \"#7201a8\"], [0.3333333333333333, \"#9c179e\"], [0.4444444444444444, \"#bd3786\"], [0.5555555555555556, \"#d8576b\"], [0.6666666666666666, \"#ed7953\"], [0.7777777777777778, \"#fb9f3a\"], [0.8888888888888888, \"#fdca26\"], [1.0, \"#f0f921\"]], \"type\": \"surface\"}], \"table\": [{\"cells\": {\"fill\": {\"color\": \"#EBF0F8\"}, \"line\": {\"color\": \"white\"}}, \"header\": {\"fill\": {\"color\": \"#C8D4E3\"}, \"line\": {\"color\": \"white\"}}, \"type\": \"table\"}]}, \"layout\": {\"annotationdefaults\": {\"arrowcolor\": \"#2a3f5f\", \"arrowhead\": 0, \"arrowwidth\": 1}, \"coloraxis\": {\"colorbar\": {\"outlinewidth\": 0, \"ticks\": \"\"}}, \"colorscale\": {\"diverging\": [[0, \"#8e0152\"], [0.1, \"#c51b7d\"], [0.2, \"#de77ae\"], [0.3, \"#f1b6da\"], [0.4, \"#fde0ef\"], [0.5, \"#f7f7f7\"], [0.6, \"#e6f5d0\"], [0.7, \"#b8e186\"], [0.8, \"#7fbc41\"], [0.9, \"#4d9221\"], [1, \"#276419\"]], \"sequential\": [[0.0, \"#0d0887\"], [0.1111111111111111, \"#46039f\"], [0.2222222222222222, \"#7201a8\"], [0.3333333333333333, \"#9c179e\"], [0.4444444444444444, \"#bd3786\"], [0.5555555555555556, \"#d8576b\"], [0.6666666666666666, \"#ed7953\"], [0.7777777777777778, \"#fb9f3a\"], [0.8888888888888888, \"#fdca26\"], [1.0, \"#f0f921\"]], \"sequentialminus\": [[0.0, \"#0d0887\"], [0.1111111111111111, \"#46039f\"], [0.2222222222222222, \"#7201a8\"], [0.3333333333333333, \"#9c179e\"], [0.4444444444444444, \"#bd3786\"], [0.5555555555555556, \"#d8576b\"], [0.6666666666666666, \"#ed7953\"], [0.7777777777777778, \"#fb9f3a\"], [0.8888888888888888, \"#fdca26\"], [1.0, \"#f0f921\"]]}, \"colorway\": [\"#636efa\", \"#EF553B\", \"#00cc96\", \"#ab63fa\", \"#FFA15A\", \"#19d3f3\", \"#FF6692\", \"#B6E880\", \"#FF97FF\", \"#FECB52\"], \"font\": {\"color\": \"#2a3f5f\"}, \"geo\": {\"bgcolor\": \"white\", \"lakecolor\": \"white\", \"landcolor\": \"#E5ECF6\", \"showlakes\": true, \"showland\": true, \"subunitcolor\": \"white\"}, \"hoverlabel\": {\"align\": \"left\"}, \"hovermode\": \"closest\", \"mapbox\": {\"style\": \"light\"}, \"paper_bgcolor\": \"white\", \"plot_bgcolor\": \"#E5ECF6\", \"polar\": {\"angularaxis\": {\"gridcolor\": \"white\", \"linecolor\": \"white\", \"ticks\": \"\"}, \"bgcolor\": \"#E5ECF6\", \"radialaxis\": {\"gridcolor\": \"white\", \"linecolor\": \"white\", \"ticks\": \"\"}}, \"scene\": {\"xaxis\": {\"backgroundcolor\": \"#E5ECF6\", \"gridcolor\": \"white\", \"gridwidth\": 2, \"linecolor\": \"white\", \"showbackground\": true, \"ticks\": \"\", \"zerolinecolor\": \"white\"}, \"yaxis\": {\"backgroundcolor\": \"#E5ECF6\", \"gridcolor\": \"white\", \"gridwidth\": 2, \"linecolor\": \"white\", \"showbackground\": true, \"ticks\": \"\", \"zerolinecolor\": \"white\"}, \"zaxis\": {\"backgroundcolor\": \"#E5ECF6\", \"gridcolor\": \"white\", \"gridwidth\": 2, \"linecolor\": \"white\", \"showbackground\": true, \"ticks\": \"\", \"zerolinecolor\": \"white\"}}, \"shapedefaults\": {\"line\": {\"color\": \"#2a3f5f\"}}, \"ternary\": {\"aaxis\": {\"gridcolor\": \"white\", \"linecolor\": \"white\", \"ticks\": \"\"}, \"baxis\": {\"gridcolor\": \"white\", \"linecolor\": \"white\", \"ticks\": \"\"}, \"bgcolor\": \"#E5ECF6\", \"caxis\": {\"gridcolor\": \"white\", \"linecolor\": \"white\", \"ticks\": \"\"}}, \"title\": {\"x\": 0.05}, \"xaxis\": {\"automargin\": true, \"gridcolor\": \"white\", \"linecolor\": \"white\", \"ticks\": \"\", \"title\": {\"standoff\": 15}, \"zerolinecolor\": \"white\", \"zerolinewidth\": 2}, \"yaxis\": {\"automargin\": true, \"gridcolor\": \"white\", \"linecolor\": \"white\", \"ticks\": \"\", \"title\": {\"standoff\": 15}, \"zerolinecolor\": \"white\", \"zerolinewidth\": 2}}}, \"title\": {\"text\": \"Date Sets\"}},                        {\"responsive\": true}                    ).then(function(){\n",
       "                            \n",
       "var gd = document.getElementById('fd4169f9-0169-4fd5-bee1-741aeecd7dbb');\n",
       "var x = new MutationObserver(function (mutations, observer) {{\n",
       "        var display = window.getComputedStyle(gd).display;\n",
       "        if (!display || display === 'none') {{\n",
       "            console.log([gd, 'removed!']);\n",
       "            Plotly.purge(gd);\n",
       "            observer.disconnect();\n",
       "        }}\n",
       "}});\n",
       "\n",
       "// Listen for the removal of the full notebook cells\n",
       "var notebookContainer = gd.closest('#notebook-container');\n",
       "if (notebookContainer) {{\n",
       "    x.observe(notebookContainer, {childList: true});\n",
       "}}\n",
       "\n",
       "// Listen for the clearing of the current output cell\n",
       "var outputEl = gd.closest('.output');\n",
       "if (outputEl) {{\n",
       "    x.observe(outputEl, {childList: true});\n",
       "}}\n",
       "\n",
       "                        })                };                });            </script>        </div>"
      ]
     },
     "metadata": {},
     "output_type": "display_data"
    }
   ],
   "source": [
    "plot_multivariate(x_train_multi, y_train_multi, input_features_multi, target_feature, lr_model_multi)"
   ]
  },
  {
   "cell_type": "markdown",
   "metadata": {
    "slideshow": {
     "slide_type": "slide"
    }
   },
   "source": [
    "### Pros/cons of analytical approach\n",
    "\n",
    "Pros:\n",
    "\n",
    "- Computed in one step.\n",
    "- Exact solution.\n",
    "\n",
    "Cons:\n",
    "\n",
    "- Computation of $(\\pmb{X}^T\\pmb{X})^{-1}$ is slow when the number of features is large ($n > 10^4$).\n",
    "- Doesn't work if $\\pmb{X}^T\\pmb{X}$ is not inversible.\n"
   ]
  },
  {
   "cell_type": "markdown",
   "metadata": {
    "slideshow": {
     "slide_type": "slide"
    }
   },
   "source": [
    "## Iterative approach: gradient descent"
   ]
  },
  {
   "cell_type": "code",
   "execution_count": 23,
   "metadata": {},
   "outputs": [
    {
     "name": "stdout",
     "output_type": "stream",
     "text": [
      "Model weights: [2.57688078], bias: [2.76979405]\n",
      "Training error: 0.46701\n",
      "Test error: 0.43928\n"
     ]
    }
   ],
   "source": [
    "sgd_model_uni = SGDRegressor()\n",
    "\n",
    "train_model(sgd_model_uni, x_train_uni, y_train_uni)\n",
    "test_model(sgd_model_uni, x_test_uni, y_test_uni)"
   ]
  },
  {
   "cell_type": "code",
   "execution_count": 24,
   "metadata": {},
   "outputs": [],
   "source": [
    "plot_univariate(x_train_uni, y_train_uni, input_features_uni, target_feature, sgd_model_uni)"
   ]
  },
  {
   "cell_type": "code",
   "execution_count": 25,
   "metadata": {},
   "outputs": [
    {
     "name": "stdout",
     "output_type": "stream",
     "text": [
      "Model weights: [2.42292259 1.08869323], bias: [2.48175168]\n",
      "Training error: 0.37824\n",
      "Test error: 0.40435\n"
     ]
    }
   ],
   "source": [
    "sgd_model_multi = SGDRegressor()\n",
    "\n",
    "train_model(sgd_model_multi, x_train_multi, y_train_multi)\n",
    "test_model(sgd_model_multi, x_test_multi, y_test_multi)"
   ]
  },
  {
   "cell_type": "markdown",
   "metadata": {
    "slideshow": {
     "slide_type": "slide"
    }
   },
   "source": [
    "\n",
    "\n",
    "- Same objective: find $\\hat{\\theta}$ that minimizes loss.\n",
    "- General idea:\n",
    "  - Start with random values for the $\\theta$ vector.\n",
    "  - Update $\\theta$ in small steps towards the loss minimum.\n",
    "- To know in which direction update $\\theta$, we compute the **gradient** of the loss function w.r.t. $\\theta$ and go into the opposite direction."
   ]
  },
  {
   "cell_type": "markdown",
   "metadata": {
    "slideshow": {
     "slide_type": "slide"
    }
   },
   "source": [
    "[![Gradient descent line graph](images/gradient_descent_line_graph.gif)](https://alykhantejani.github.io/a-brief-introduction-to-gradient-descent/)"
   ]
  },
  {
   "cell_type": "markdown",
   "metadata": {
    "slideshow": {
     "slide_type": "slide"
    }
   },
   "source": [
    "## Computation of gradients\n",
    "\n",
    "$\\mathcal{L}(\\theta) = \\frac{1}{m}\\sum_{i=1}^m (\\theta^T\\cdot x^{(i)} - y^{(i)})^2$\n",
    "\n",
    "$\\frac{\\partial}{\\partial \\theta_j} \\mathcal{L}(\\theta) = \\frac{2}{m}\\sum_{i=1}^m (\\theta^T\\cdot x^{(i)} - y^{(i)})x^{(i)}_j$\n",
    "\n",
    "$$\\nabla_{\\theta}\\mathcal{L}(\\theta) = \\begin{pmatrix}\n",
    "       \\ \\frac{\\partial}{\\partial \\theta_1} \\mathcal{L}(\\theta) \\\\\n",
    "       \\ \\frac{\\partial}{\\partial \\theta_2} \\mathcal{L}(\\theta) \\\\\n",
    "       \\ \\vdots \\\\\n",
    "       \\ \\frac{\\partial}{\\partial \\theta_n} \\mathcal{L}(\\theta)\n",
    "     \\end{pmatrix} =\n",
    "\\frac{2}{m}X^T\\cdot (X\\cdot \\theta - y)$$"
   ]
  },
  {
   "cell_type": "markdown",
   "metadata": {
    "slideshow": {
     "slide_type": "slide"
    }
   },
   "source": [
    "## Parameters update\n",
    "\n",
    "The **_learning rate_** $\\eta$ governs the amplitude of updates.\n",
    "\n",
    "$$\\theta_{next} = \\theta - \\eta\\nabla_{\\theta}\\mathcal{L}(\\theta)$$\n",
    "\n",
    "[![Importance of learning rate](images/learning_rate.png)](https://www.jeremyjordan.me/nn-learning-rate/)"
   ]
  },
  {
   "cell_type": "markdown",
   "metadata": {
    "slideshow": {
     "slide_type": "slide"
    }
   },
   "source": [
    "## Types of gradient descent\n",
    "\n",
    "- *Batch*: use the whole dataset to compute gradients.\n",
    "  - Safe but potentially slow.\n",
    "- *Stochastic*: use only one sample.\n",
    "  - Fast but potentially erratic.\n",
    "- *Mini-Batch*: use a small set of samples (10-1000).\n",
    "  - Good compromise."
   ]
  },
  {
   "cell_type": "markdown",
   "metadata": {
    "slideshow": {
     "slide_type": "slide"
    }
   },
   "source": [
    "## Pros/cons of iterative approach\n",
    "\n",
    "Pros:\n",
    "\n",
    "- Works well with a large number of features.\n",
    "- MSE loss convex => guarantee of a global minimum.\n",
    "\n",
    "Cons:\n",
    "\n",
    "- Convergence depends on learning rate and GD type.\n",
    "- Dependant on feature scaling."
   ]
  },
  {
   "cell_type": "markdown",
   "metadata": {
    "slideshow": {
     "slide_type": "slide"
    }
   },
   "source": [
    "## Polynomial Regression\n",
    "\n",
    "- How can a linear model fit non-linear data?\n",
    "- Solution: add powers of each feature as new features.\n",
    "- The hypothesis function is still linear.\n",
    "\n",
    "[![Polynomial degree examples](images/polynomial_regression.png)](https://github.com/ageron/handson-ml2)"
   ]
  },
  {
   "cell_type": "markdown",
   "metadata": {
    "slideshow": {
     "slide_type": "slide"
    }
   },
   "source": [
    "## Regularization\n",
    "\n",
    "- Solution against overfitting: constraining model parameters.\n",
    "\n",
    "- Ridge regression (using L2 norm): $\\mathcal{L}(\\theta) = MSE(\\theta) + \\frac{\\lambda}{2}\\sum_{i=1}^n \\theta_i^2$\n",
    "\n",
    "- Lasso regression (using L1 norm): $\\mathcal{L}(\\theta) = MSE(\\theta) + \\lambda\\sum_{i=1}^n |\\theta_i|$\n",
    "\n",
    "- $\\lambda$ is called the **regularization rate**."
   ]
  },
  {
   "cell_type": "markdown",
   "metadata": {
    "slideshow": {
     "slide_type": "slide"
    }
   },
   "source": [
    "## Effects of regularization rate\n",
    "\n",
    "(Called $\\alpha$ here)\n",
    "\n",
    "Left: linear model. Right: 10th degree polynomial model.\n",
    "\n",
    "[![Ridge regression example](images/ridge_regression.png)](https://github.com/ageron/handson-ml2)\n"
   ]
  },
  {
   "cell_type": "code",
   "execution_count": null,
   "metadata": {},
   "outputs": [],
   "source": []
  }
 ],
 "metadata": {
  "celltoolbar": "Diaporama",
  "kernelspec": {
   "display_name": "Python 3",
   "language": "python",
   "name": "python3"
  },
  "language_info": {
   "codemirror_mode": {
    "name": "ipython",
    "version": 3
   },
   "file_extension": ".py",
   "mimetype": "text/x-python",
   "name": "python",
   "nbconvert_exporter": "python",
   "pygments_lexer": "ipython3",
   "version": "3.7.5"
  }
 },
 "nbformat": 4,
 "nbformat_minor": 4
}
