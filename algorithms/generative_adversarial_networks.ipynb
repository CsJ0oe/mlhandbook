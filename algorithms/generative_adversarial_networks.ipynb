{
 "cells": [
  {
   "cell_type": "markdown",
   "metadata": {
    "slideshow": {
     "slide_type": "slide"
    }
   },
   "source": [
    "# Generative Adversarial Networks"
   ]
  },
  {
   "cell_type": "markdown",
   "metadata": {
    "slideshow": {
     "slide_type": "slide"
    }
   },
   "source": [
    "## Summary\n",
    "\n",
    "- Introduction\n",
    "- GAN flavours\n",
    "- Deep Convolutional GANs\n",
    "- StyleGANs"
   ]
  },
  {
   "cell_type": "markdown",
   "metadata": {
    "slideshow": {
     "slide_type": "slide"
    }
   },
   "source": [
    "## Introduction"
   ]
  },
  {
   "cell_type": "markdown",
   "metadata": {
    "slideshow": {
     "slide_type": "slide"
    }
   },
   "source": [
    "### GAN in a nutshell\n",
    "\n",
    "- Simultaneously train two models:\n",
    "  - One tries to generate realistic data.\n",
    "  - The other tries to discriminate between real and generated data.\n",
    "- Each model is trained to best the other.\n",
    "- First described in [Generative Adversarial Nets\n",
    "](https://papers.nips.cc/paper/5423-generative-adversarial-nets.pdf) by Goodfellow et al. (2014).\n",
    "- [NIPS 2016 Tutorial](https://arxiv.org/abs/1701.00160).\n"
   ]
  },
  {
   "cell_type": "markdown",
   "metadata": {
    "slideshow": {
     "slide_type": "slide"
    }
   },
   "source": [
    "[![GAN overview](images/gan1.png)](https://www.tensorflow.org/tutorials/generative/dcgan)"
   ]
  },
  {
   "cell_type": "markdown",
   "metadata": {
    "slideshow": {
     "slide_type": "slide"
    }
   },
   "source": [
    "[![GAN process](images/gan2.png)](https://www.tensorflow.org/tutorials/generative/dcgan)"
   ]
  },
  {
   "cell_type": "markdown",
   "metadata": {
    "slideshow": {
     "slide_type": "slide"
    }
   },
   "source": [
    "### Training process\n",
    "\n",
    "Multiple iterations, each consisting of:\n",
    "\n",
    "- Phase 1\n",
    "  - The generator creates images from random noise (typically a Gaussian distribution).\n",
    "  - Generated images are mixed with real ones.\n",
    "  - The discriminator is trained to distinguish fake vs. real images.\n",
    "- Phase 2\n",
    "  - Another batch of images is produced by the generator.\n",
    "  - The generator is trained so that the discriminator classifies these generated images as real."
   ]
  },
  {
   "cell_type": "markdown",
   "metadata": {
    "slideshow": {
     "slide_type": "slide"
    }
   },
   "source": [
    "### Example: generating fashion images with a basic GAN\n",
    "\n",
    "(Heavily inspired by Chapter 17 of [Hands-On Machine Learning](https://github.com/ageron/handson-ml2) by Aurélien Géron)"
   ]
  },
  {
   "cell_type": "markdown",
   "metadata": {
    "slideshow": {
     "slide_type": "slide"
    }
   },
   "source": [
    "#### Environment setup"
   ]
  },
  {
   "cell_type": "code",
   "execution_count": 1,
   "metadata": {},
   "outputs": [
    {
     "name": "stdout",
     "output_type": "stream",
     "text": [
      "Python version: 3.7.5\n"
     ]
    }
   ],
   "source": [
    "import platform\n",
    "\n",
    "print(f\"Python version: {platform.python_version()}\")\n",
    "assert platform.python_version_tuple() >= (\"3\", \"6\")\n",
    "\n",
    "import numpy as np\n",
    "import matplotlib\n",
    "import matplotlib.pyplot as plt"
   ]
  },
  {
   "cell_type": "code",
   "execution_count": 2,
   "metadata": {
    "slideshow": {
     "slide_type": "slide"
    }
   },
   "outputs": [],
   "source": [
    "# Setup plots\n",
    "%matplotlib inline\n",
    "plt.rcParams[\"figure.figsize\"] = 10, 8\n",
    "%config InlineBackend.figure_format = 'retina'"
   ]
  },
  {
   "cell_type": "code",
   "execution_count": 3,
   "metadata": {
    "slideshow": {
     "slide_type": "slide"
    }
   },
   "outputs": [
    {
     "name": "stdout",
     "output_type": "stream",
     "text": [
      "TensorFlow version: 2.3.1\n",
      "Keras version: 2.4.0\n"
     ]
    }
   ],
   "source": [
    "import tensorflow as tf\n",
    "\n",
    "print(f\"TensorFlow version: {tf.__version__}\")\n",
    "print(f\"Keras version: {tf.keras.__version__}\")\n",
    "\n",
    "from tensorflow.keras import Model\n",
    "from tensorflow.keras.models import Sequential\n",
    "from tensorflow.keras.layers import Dense, Flatten, Reshape\n",
    "from tensorflow.keras.datasets import fashion_mnist"
   ]
  },
  {
   "cell_type": "markdown",
   "metadata": {
    "slideshow": {
     "slide_type": "slide"
    }
   },
   "source": [
    "#### Data loading"
   ]
  },
  {
   "cell_type": "code",
   "execution_count": 4,
   "metadata": {
    "slideshow": {
     "slide_type": "-"
    }
   },
   "outputs": [
    {
     "name": "stdout",
     "output_type": "stream",
     "text": [
      "x_train: (60000, 28, 28)\n"
     ]
    }
   ],
   "source": [
    "# Load the Fashion-MNIST dataset\n",
    "(train_images, _), (_, _) = fashion_mnist.load_data()\n",
    "\n",
    "# Change pixel values from (0, 255) to (0, 1)\n",
    "x_train = train_images.astype(\"float32\") / 255\n",
    "\n",
    "print(f\"x_train: {x_train.shape}\")"
   ]
  },
  {
   "cell_type": "code",
   "execution_count": 5,
   "metadata": {
    "slideshow": {
     "slide_type": "skip"
    },
    "tags": [
     "hide-input"
    ]
   },
   "outputs": [],
   "source": [
    "def plot_multiple_images(images, n_cols=None):\n",
    "    n_cols = n_cols or len(images)\n",
    "    n_rows = (len(images) - 1) // n_cols + 1\n",
    "    if images.shape[-1] == 1:\n",
    "        images = np.squeeze(images, axis=-1)\n",
    "    plt.figure(figsize=(n_cols * 1.5, n_rows * 1.5))\n",
    "    for index, image in enumerate(images):\n",
    "        plt.subplot(n_rows, n_cols, index + 1)\n",
    "        plt.imshow(image, cmap=\"binary\")\n",
    "        plt.axis(\"off\")"
   ]
  },
  {
   "cell_type": "markdown",
   "metadata": {
    "slideshow": {
     "slide_type": "slide"
    }
   },
   "source": [
    "#### Model definition"
   ]
  },
  {
   "cell_type": "code",
   "execution_count": 6,
   "metadata": {
    "slideshow": {
     "slide_type": "-"
    }
   },
   "outputs": [],
   "source": [
    "# Input dimensionality for generator\n",
    "codings_size = 30\n",
    "\n",
    "generator = Sequential(\n",
    "    [\n",
    "        Dense(100, activation=\"selu\", input_shape=(codings_size,)),\n",
    "        Dense(150, activation=\"selu\"),\n",
    "        Dense(28 * 28, activation=\"sigmoid\"),\n",
    "        Reshape((28, 28)),\n",
    "    ],\n",
    "    name=\"generator\"\n",
    ")\n",
    "discriminator = Sequential(\n",
    "    [\n",
    "        Flatten(input_shape=(28, 28)),\n",
    "        Dense(150, activation=\"selu\"),\n",
    "        Dense(100, activation=\"selu\"),\n",
    "        Dense(1, activation=\"sigmoid\"),\n",
    "    ],\n",
    "    name=\"discriminator\"\n",
    ")\n",
    "gan = Sequential([generator, discriminator])"
   ]
  },
  {
   "cell_type": "code",
   "execution_count": 7,
   "metadata": {
    "slideshow": {
     "slide_type": "slide"
    }
   },
   "outputs": [
    {
     "name": "stdout",
     "output_type": "stream",
     "text": [
      "Model: \"sequential\"\n",
      "_________________________________________________________________\n",
      "Layer (type)                 Output Shape              Param #   \n",
      "=================================================================\n",
      "generator (Sequential)       (None, 28, 28)            136634    \n",
      "_________________________________________________________________\n",
      "discriminator (Sequential)   (None, 1)                 132951    \n",
      "=================================================================\n",
      "Total params: 269,585\n",
      "Trainable params: 269,585\n",
      "Non-trainable params: 0\n",
      "_________________________________________________________________\n"
     ]
    }
   ],
   "source": [
    "# Print GAN model summary\n",
    "gan.summary()"
   ]
  },
  {
   "cell_type": "code",
   "execution_count": 8,
   "metadata": {
    "slideshow": {
     "slide_type": "slide"
    }
   },
   "outputs": [],
   "source": [
    "# The generator is trained through the GAN model: no need to compile it\n",
    "\n",
    "discriminator.compile(loss=\"binary_crossentropy\", optimizer=\"rmsprop\")\n",
    "discriminator.trainable = False\n",
    "\n",
    "gan.compile(loss=\"binary_crossentropy\", optimizer=\"rmsprop\")"
   ]
  },
  {
   "cell_type": "markdown",
   "metadata": {
    "slideshow": {
     "slide_type": "slide"
    }
   },
   "source": [
    "#### Model training"
   ]
  },
  {
   "cell_type": "code",
   "execution_count": 9,
   "metadata": {
    "slideshow": {
     "slide_type": "-"
    }
   },
   "outputs": [],
   "source": [
    "def train_gan(gan, dataset, batch_size, codings_size, n_epochs=50):\n",
    "    generator, discriminator = gan.layers\n",
    "    for epoch in range(n_epochs):\n",
    "        print(f\"Epoch [{epoch+1}/{n_epochs}]...\")\n",
    "        for x_batch in dataset:\n",
    "            # Phase 1 - training the discriminator\n",
    "            noise = tf.random.normal(shape=(batch_size, codings_size))\n",
    "            generated_images = generator(noise)\n",
    "            # Gather an equal number of generated (y=0) and real (y=1) images\n",
    "            x_discr = tf.concat([generated_images, x_batch], axis=0)\n",
    "            y_discr = tf.constant([[0.0]] * batch_size + [[1.0]] * batch_size)\n",
    "            discriminator.trainable = True\n",
    "            # https://stackoverflow.com/a/49100617\n",
    "            discriminator.train_on_batch(x_discr, y_discr)\n",
    "            \n",
    "            # Phase 2 - training the generator\n",
    "            noise = tf.random.normal(shape=(batch_size, codings_size))\n",
    "            # Generated images should be labeled \"real\" by the discriminator\n",
    "            y_gen = tf.constant([[1.0]] * batch_size)\n",
    "            # Update only the generator weights\n",
    "            discriminator.trainable = False\n",
    "            gan.train_on_batch(noise, y_gen)\n",
    "    print(\"Training complete!\")"
   ]
  },
  {
   "cell_type": "code",
   "execution_count": 10,
   "metadata": {
    "slideshow": {
     "slide_type": "slide"
    }
   },
   "outputs": [
    {
     "name": "stdout",
     "output_type": "stream",
     "text": [
      "Epoch [1/5]...\n",
      "Epoch [2/5]...\n",
      "Epoch [3/5]...\n",
      "Epoch [4/5]...\n",
      "Epoch [5/5]...\n",
      "Training complete!\n"
     ]
    }
   ],
   "source": [
    "batch_size = 32\n",
    "\n",
    "# Load images in batches\n",
    "dataset = tf.data.Dataset.from_tensor_slices(x_train).shuffle(1000)\n",
    "dataset = dataset.batch(batch_size, drop_remainder=True).prefetch(1)\n",
    "\n",
    "# Train the GAN model\n",
    "train_gan(gan, dataset, batch_size, codings_size, n_epochs=5)"
   ]
  },
  {
   "cell_type": "markdown",
   "metadata": {
    "slideshow": {
     "slide_type": "slide"
    }
   },
   "source": [
    "#### Generating new images"
   ]
  },
  {
   "cell_type": "code",
   "execution_count": 11,
   "metadata": {
    "slideshow": {
     "slide_type": "-"
    }
   },
   "outputs": [
    {
     "data": {
      "image/png": "[encoded data removed]",
      "text/plain": [
       "<Figure size 864x432 with 32 Axes>"
      ]
     },
     "metadata": {
      "image/png": {
       "height": 340,
       "width": 683
      },
      "needs_background": "light"
     },
     "output_type": "display_data"
    }
   ],
   "source": [
    "noise = tf.random.normal(shape=(batch_size, codings_size))\n",
    "generated_images = generator(noise)\n",
    "plot_multiple_images(generated_images, 8)"
   ]
  },
  {
   "cell_type": "markdown",
   "metadata": {
    "slideshow": {
     "slide_type": "slide"
    }
   },
   "source": [
    "### GAN specificities and gotchas\n",
    "\n",
    "- A GAN is a *dynamic system* that evolves at each training step.\n",
    "- Interestingly, the generator never sees images froms the training set directly: all its informations come from the discriminator.\n",
    "- Training can be tricky with several pitfalls: noisy generated data, vanishing gradients, domination of one side...\n",
    "- GAN convergence theory is an active area of research.\n",
    "- [GAN Open Questions](https://distill.pub/2019/gan-open-problems/)"
   ]
  },
  {
   "cell_type": "markdown",
   "metadata": {
    "slideshow": {
     "slide_type": "slide"
    }
   },
   "source": [
    "## GAN flavours"
   ]
  },
  {
   "cell_type": "markdown",
   "metadata": {
    "slideshow": {
     "slide_type": "slide"
    }
   },
   "source": [
    "### The GAN landscape\n",
    "\n",
    "[![GAN flavours](images/gan_flavours.png)](https://blog.floydhub.com/gans-story-so-far/)"
   ]
  },
  {
   "cell_type": "markdown",
   "metadata": {
    "slideshow": {
     "slide_type": "slide"
    }
   },
   "source": [
    "### GAN progress on face generation\n",
    "\n",
    "[![GAN progress from 2014 to 2018](images/gan_2014_2018.jpg)](https://twitter.com/goodfellow_ian/status/1084973596236144640)"
   ]
  },
  {
   "cell_type": "markdown",
   "metadata": {
    "slideshow": {
     "slide_type": "slide"
    }
   },
   "source": [
    "### GAN use cases: not just images!\n",
    "\n",
    "- Writing a novel \"in the style of an author\".\n",
    "- [Generating music](https://arxiv.org/abs/1805.07848) ([samples](https://www.youtube.com/watch?v=vdxCqNWTpUs)).\n",
    "- Generating realistic passwords for hackers.\n",
    "- Generating videos ([example](https://www.youtube.com/watch?time_continue=3&v=ab64TWzWn40&feature=emb_logo)).\n",
    "- [Generating video game levels](https://arxiv.org/abs/1910.01603).\n",
    "- ..."
   ]
  },
  {
   "cell_type": "markdown",
   "metadata": {
    "slideshow": {
     "slide_type": "slide"
    }
   },
   "source": [
    "## Deep Convolutional GANs"
   ]
  },
  {
   "cell_type": "markdown",
   "metadata": {
    "slideshow": {
     "slide_type": "slide"
    }
   },
   "source": [
    "### Architecture"
   ]
  },
  {
   "cell_type": "markdown",
   "metadata": {
    "slideshow": {
     "slide_type": "slide"
    }
   },
   "source": [
    "### Example: generate handwritten digits with a DCGAN\n",
    "\n",
    "This example trains a Deep Convolutional GAN on the MNIST dataset. Check it out on the [TensorFlow website](https://www.tensorflow.org/tutorials/generative/dcgan)."
   ]
  },
  {
   "cell_type": "markdown",
   "metadata": {
    "slideshow": {
     "slide_type": "slide"
    }
   },
   "source": [
    "## StyleGANs"
   ]
  },
  {
   "cell_type": "code",
   "execution_count": null,
   "metadata": {},
   "outputs": [],
   "source": []
  }
 ],
 "metadata": {
  "celltoolbar": "Diaporama",
  "kernelspec": {
   "display_name": "Python 3",
   "language": "python",
   "name": "python3"
  },
  "language_info": {
   "codemirror_mode": {
    "name": "ipython",
    "version": 3
   },
   "file_extension": ".py",
   "mimetype": "text/x-python",
   "name": "python",
   "nbconvert_exporter": "python",
   "pygments_lexer": "ipython3",
   "version": "3.7.5"
  }
 },
 "nbformat": 4,
 "nbformat_minor": 4
}
