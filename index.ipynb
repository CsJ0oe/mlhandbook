{
 "cells": [
  {
   "cell_type": "markdown",
   "metadata": {},
   "source": [
    "<!--NAVIGATION-->\n",
    "\n",
    "<a href=\"https://colab.research.google.com/github/bpesquet/machine-learning-handbook/blob/master/index.ipynb\"><img align=\"left\" src=\"https://colab.research.google.com/assets/colab-badge.svg\" alt=\"Open in Colab\" title=\"Open in Google Colaboratory\"></a>\n"
   ]
  },
  {
   "cell_type": "markdown",
   "metadata": {},
   "source": [
    "# Machine Learning Handbook\n",
    "\n",
    "An overview of various ML and Deep Learning algorithms."
   ]
  },
  {
   "cell_type": "markdown",
   "metadata": {},
   "source": [
    "\n",
    "## Tools\n",
    "- [Python](tools/Python.ipynb)\n",
    "- [NumPy](tools/NumPy.ipynb)\n",
    "- [Pandas](tools/Pandas.ipynb)\n",
    "- [Matplotlib](tools/Matplotlib.ipynb)\n",
    "\n",
    "## Machine Learning\n",
    "\n",
    "- [Linear Regression](ml-algorithms/Linear_Regression.ipynb)\n",
    "\n",
    "\n",
    "## Deep Learning\n",
    "\n",
    "- [Dense Neural Networks](deep-learning/Dense_Neural_Networks.ipynb)\n",
    "- [Neural Networks Tuning](deep-learning/Neural_Networks_Tuning.ipynb)\n",
    "\n",
    "(More to come)"
   ]
  },
  {
   "cell_type": "code",
   "execution_count": null,
   "metadata": {},
   "outputs": [],
   "source": []
  }
 ],
 "metadata": {
  "kernelspec": {
   "display_name": "Python 3",
   "language": "python",
   "name": "python3"
  },
  "language_info": {
   "codemirror_mode": {
    "name": "ipython",
    "version": 3
   },
   "file_extension": ".py",
   "mimetype": "text/x-python",
   "name": "python",
   "nbconvert_exporter": "python",
   "pygments_lexer": "ipython3",
   "version": "3.6.4"
  }
 },
 "nbformat": 4,
 "nbformat_minor": 2
}
