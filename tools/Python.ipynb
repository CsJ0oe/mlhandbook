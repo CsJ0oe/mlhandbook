{
 "cells": [
  {
   "cell_type": "markdown",
   "metadata": {
    "slideshow": {
     "slide_type": "skip"
    }
   },
   "source": [
    "<!--NAVIGATION-->\n",
    "\n",
    "<a href=\"https://colab.research.google.com/github/bpesquet/machine-learning-handbook/blob/master/tools/Python.ipynb\"><img align=\"left\" src=\"https://colab.research.google.com/assets/colab-badge.svg\" alt=\"Open in Colab\" title=\"Open in Google Colaboratory\"></a>\n"
   ]
  },
  {
   "cell_type": "markdown",
   "metadata": {
    "slideshow": {
     "slide_type": "slide"
    }
   },
   "source": [
    "# Python Syntax Cheatsheet\n",
    "\n",
    "Inspired by Jake VanderPlas' [A Whirlwind Tour of Python](https://jakevdp.github.io/WhirlwindTourOfPython/). "
   ]
  },
  {
   "cell_type": "markdown",
   "metadata": {
    "slideshow": {
     "slide_type": "slide"
    }
   },
   "source": [
    "## Basics"
   ]
  },
  {
   "cell_type": "code",
   "execution_count": 1,
   "metadata": {
    "slideshow": {
     "slide_type": "-"
    }
   },
   "outputs": [
    {
     "name": "stdout",
     "output_type": "stream",
     "text": [
      "Hello World!\n",
      "1 2 3\n",
      "1--2--3\n",
      "I'm happy\n"
     ]
    }
   ],
   "source": [
    "# Print statement\n",
    "print(\"Hello World!\")  # Python 3 - No parentheses in Python 2\n",
    "\n",
    "# Optional separator\n",
    "print(1, 2, 3)  # 1 2 3\n",
    "print(1, 2, 3, sep='--')  # 1--2--3\n",
    "\n",
    "# Variables (dynamically typed)\n",
    "mood = \"happy\"  # or 'happy'\n",
    "\n",
    "print(\"I'm\", mood)"
   ]
  },
  {
   "cell_type": "markdown",
   "metadata": {
    "slideshow": {
     "slide_type": "slide"
    }
   },
   "source": [
    "## String formatting"
   ]
  },
  {
   "cell_type": "code",
   "execution_count": 49,
   "metadata": {
    "slideshow": {
     "slide_type": "-"
    }
   },
   "outputs": [
    {
     "name": "stdout",
     "output_type": "stream",
     "text": [
      "My name is Garance and I'm 11 years old.\n",
      "My name is Garance and I'm 11 years old.\n",
      "My name is Garance and I'm 11 years old.\n"
     ]
    }
   ],
   "source": [
    "# https://realpython.com/python-f-strings/\n",
    "# https://cito.github.io/blog/f-strings/\n",
    "\n",
    "name = \"Garance\"\n",
    "age = 11\n",
    "\n",
    "message = \"My name is %s and I'm %s years old.\" % (name, age)  # Original language syntax\n",
    "print(message)\n",
    "message = \"My name is {} and I'm {} years old.\".format(name, age)  # Python 2.6+\n",
    "print(message)\n",
    "message = f\"My name is {name} and I'm {age} years old.\"  # Python 3.6+\n",
    "print(message)"
   ]
  },
  {
   "cell_type": "markdown",
   "metadata": {
    "slideshow": {
     "slide_type": "slide"
    }
   },
   "source": [
    "## Numbers and arithmetic"
   ]
  },
  {
   "cell_type": "code",
   "execution_count": 98,
   "metadata": {},
   "outputs": [
    {
     "name": "stdout",
     "output_type": "stream",
     "text": [
      "3.14 4\n",
      "6.5\n",
      "6\n",
      "9\n",
      "8\n"
     ]
    }
   ],
   "source": [
    "# Type: int\n",
    "a = 4\n",
    "\n",
    "# Type: float\n",
    "b = 3.14\n",
    "\n",
    "a, b = b, a\n",
    "print(a, b)  # 3.14 4\n",
    "\n",
    "print(13 / 2)  # 6.5\n",
    "print(13 // 2)  # 6\n",
    "\n",
    "# Exponential operator\n",
    "print(3 ** 2)  # 9\n",
    "print(2 ** 3)  # 8"
   ]
  },
  {
   "cell_type": "markdown",
   "metadata": {
    "slideshow": {
     "slide_type": "slide"
    }
   },
   "source": [
    "## Lists"
   ]
  },
  {
   "cell_type": "code",
   "execution_count": 80,
   "metadata": {
    "slideshow": {
     "slide_type": "-"
    }
   },
   "outputs": [
    {
     "name": "stdout",
     "output_type": "stream",
     "text": [
      "3\n",
      "France\n",
      "India\n",
      "['France', 'Belgium', 'India', 'Ecuador']\n"
     ]
    }
   ],
   "source": [
    "countries = [\"France\", \"Belgium\", \"India\"]\n",
    "print(len(countries))  # 3\n",
    "print(countries[0])  # \"France\"\n",
    "print(countries[-1])  # \"India\"\n",
    "\n",
    "# Add element at end of list\n",
    "countries.append(\"Ecuador\")\n",
    "\n",
    "print(countries)"
   ]
  },
  {
   "cell_type": "markdown",
   "metadata": {
    "slideshow": {
     "slide_type": "slide"
    }
   },
   "source": [
    "## Conditions and loops"
   ]
  },
  {
   "cell_type": "code",
   "execution_count": 55,
   "metadata": {
    "slideshow": {
     "slide_type": "-"
    }
   },
   "outputs": [
    {
     "name": "stdout",
     "output_type": "stream",
     "text": [
      "0 is even\n",
      "1 is odd\n",
      "2 is even\n",
      "3 is odd\n",
      "4 is even\n",
      "5 is odd\n",
      "6 is even\n",
      "7 is odd\n",
      "8 is even\n",
      "9 is odd\n"
     ]
    }
   ],
   "source": [
    "for i in range(10):\n",
    "    if i % 2 == 0:\n",
    "        print(f\"{i} is even\")\n",
    "    else:\n",
    "        print(f\"{i} is odd\")"
   ]
  },
  {
   "cell_type": "markdown",
   "metadata": {
    "slideshow": {
     "slide_type": "slide"
    }
   },
   "source": [
    "## Functions"
   ]
  },
  {
   "cell_type": "code",
   "execution_count": 70,
   "metadata": {},
   "outputs": [
    {
     "name": "stdout",
     "output_type": "stream",
     "text": [
      "Help on function square in module __main__:\n",
      "\n",
      "square(x)\n",
      "    Returns the square of x\n",
      "\n",
      "0\n",
      "9\n"
     ]
    }
   ],
   "source": [
    "def square(x):\n",
    "    \"\"\" Returns the square of x \"\"\"\n",
    "    \n",
    "    return x ** 2\n",
    "\n",
    "# Print function docstring\n",
    "help(square)\n",
    "\n",
    "print(square(0))  # 0\n",
    "print(square(3))  # 9"
   ]
  },
  {
   "cell_type": "markdown",
   "metadata": {
    "slideshow": {
     "slide_type": "subslide"
    }
   },
   "source": [
    "## Default function parameters"
   ]
  },
  {
   "cell_type": "code",
   "execution_count": 82,
   "metadata": {},
   "outputs": [
    {
     "name": "stdout",
     "output_type": "stream",
     "text": [
      "[1, 1, 2, 3, 5, 8, 13]\n"
     ]
    }
   ],
   "source": [
    "def fibonacci(n, a=0, b=1):\n",
    "    \"\"\" Returns a list of the n first Fibonacci numbers\"\"\"\n",
    "\n",
    "    l = []\n",
    "    while len(l) < n:\n",
    "        a, b = b, a + b\n",
    "        l.append(a)\n",
    "    return l\n",
    "\n",
    "print(fibonacci(7))  # [1, 1, 2, 3, 5, 8, 13]"
   ]
  },
  {
   "cell_type": "markdown",
   "metadata": {
    "slideshow": {
     "slide_type": "subslide"
    }
   },
   "source": [
    "## Lambda (anonymous) functions"
   ]
  },
  {
   "cell_type": "code",
   "execution_count": 74,
   "metadata": {},
   "outputs": [
    {
     "name": "stdout",
     "output_type": "stream",
     "text": [
      "3\n"
     ]
    }
   ],
   "source": [
    "add = lambda x, y: x + y\n",
    "\n",
    "print(add(1, 2))  # 3"
   ]
  },
  {
   "cell_type": "markdown",
   "metadata": {
    "slideshow": {
     "slide_type": "slide"
    }
   },
   "source": [
    "## Modules and packages"
   ]
  },
  {
   "cell_type": "code",
   "execution_count": 94,
   "metadata": {},
   "outputs": [
    {
     "name": "stdout",
     "output_type": "stream",
     "text": [
      "-1.0\n",
      "-1.0\n",
      "-1.0\n",
      "1.0\n"
     ]
    }
   ],
   "source": [
    "# Importing all module content into a namespace\n",
    "import math\n",
    "print(math.cos(math.pi))  # -1.0\n",
    "\n",
    "# Aliasing an import\n",
    "import numpy as np\n",
    "print(np.cos(np.pi))  # -1.0\n",
    "\n",
    "# Importing specific module content into local namespace\n",
    "from math import cos, pi\n",
    "print(cos(pi))  # -1.0\n",
    "\n",
    "# Importing all module content into local namespace (use with caution)\n",
    "from math import *\n",
    "print(sin(pi) ** 2 + cos(pi) ** 2)  # 1.0"
   ]
  },
  {
   "cell_type": "code",
   "execution_count": null,
   "metadata": {},
   "outputs": [],
   "source": []
  }
 ],
 "metadata": {
  "celltoolbar": "Slideshow",
  "kernelspec": {
   "display_name": "Python 3",
   "language": "python",
   "name": "python3"
  },
  "language_info": {
   "codemirror_mode": {
    "name": "ipython",
    "version": 3
   },
   "file_extension": ".py",
   "mimetype": "text/x-python",
   "name": "python",
   "nbconvert_exporter": "python",
   "pygments_lexer": "ipython3",
   "version": "3.6.4"
  },
  "livereveal": {
   "scroll": true,
   "theme": "white"
  }
 },
 "nbformat": 4,
 "nbformat_minor": 2
}
