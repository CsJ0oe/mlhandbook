{
 "cells": [
  {
   "cell_type": "markdown",
   "metadata": {
    "slideshow": {
     "slide_type": "skip"
    }
   },
   "source": [
    "<!--NAVIGATION-->\n",
    "\n",
    "<a target=\"_blank\" href=\"https://colab.research.google.com/github/bpesquet/machine-learning-handbook/blob/master/notebooks/models/decision_trees_and_random_forests.ipynb\"><img align=\"left\" src=\"https://colab.research.google.com/assets/colab-badge.svg\" alt=\"Open in Colab\" title=\"Open in Google Colaboratory\"></a>\n"
   ]
  },
  {
   "cell_type": "markdown",
   "metadata": {
    "slideshow": {
     "slide_type": "slide"
    }
   },
   "source": [
    "# Decision Trees & Random Forests"
   ]
  },
  {
   "cell_type": "markdown",
   "metadata": {
    "slideshow": {
     "slide_type": "slide"
    }
   },
   "source": [
    "## Summary\n",
    "\n",
    "- Decision Trees\n",
    "- Ensemble learning\n",
    "- Random Forests"
   ]
  },
  {
   "cell_type": "markdown",
   "metadata": {
    "slideshow": {
     "slide_type": "slide"
    }
   },
   "source": [
    "## Decision Trees\n",
    "\n",
    "(Heavily inspired by Chapter 6 of [Hands-On Machine Learning](https://github.com/ageron/handson-ml2) by Aurélien Géron)"
   ]
  },
  {
   "cell_type": "markdown",
   "metadata": {
    "slideshow": {
     "slide_type": "slide"
    }
   },
   "source": [
    "### Decision Trees in a nutshell\n",
    "\n",
    "- Supervised method, used for classification or regression.\n",
    "- Build a tree-like structure based on a series of questions on the data.\n",
    "\n",
    "[![Decision Tree Example](images/dt_pdsh.png)](https://jakevdp.github.io/PythonDataScienceHandbook/05.08-random-forests.html)"
   ]
  },
  {
   "cell_type": "markdown",
   "metadata": {
    "slideshow": {
     "slide_type": "slide"
    }
   },
   "source": [
    "### Example: training a Decision Tree to classify flowers\n",
    "\n",
    "[Iris](https://archive.ics.uci.edu/ml/datasets/iris) is a well-known multiclass dataset. It contains 3 classes of flowers with 50 samples each. There are a total of 4 features for each sample:\n",
    "\n",
    "- sepal length\n",
    "- sepal width\n",
    "- petal length\n",
    "- petal width"
   ]
  },
  {
   "cell_type": "markdown",
   "metadata": {
    "slideshow": {
     "slide_type": "slide"
    }
   },
   "source": [
    "### Environment setup"
   ]
  },
  {
   "cell_type": "code",
   "execution_count": 15,
   "metadata": {},
   "outputs": [
    {
     "name": "stdout",
     "output_type": "stream",
     "text": [
      "Python version: 3.7.5\n"
     ]
    }
   ],
   "source": [
    "import platform\n",
    "\n",
    "print(f\"Python version: {platform.python_version()}\")\n",
    "assert platform.python_version_tuple() >= (\"3\", \"6\")\n",
    "\n",
    "import numpy as np\n",
    "import matplotlib.pyplot as plt\n",
    "from matplotlib.colors import ListedColormap\n",
    "import seaborn as sns\n",
    "import pandas as pd\n",
    "import graphviz"
   ]
  },
  {
   "cell_type": "code",
   "execution_count": 16,
   "metadata": {},
   "outputs": [],
   "source": [
    "# Setup plots\n",
    "%matplotlib inline\n",
    "plt.rcParams[\"figure.figsize\"] = 10, 8\n",
    "%config InlineBackend.figure_format = 'retina'\n",
    "sns.set()"
   ]
  },
  {
   "cell_type": "code",
   "execution_count": 17,
   "metadata": {
    "slideshow": {
     "slide_type": "slide"
    }
   },
   "outputs": [
    {
     "name": "stdout",
     "output_type": "stream",
     "text": [
      "scikit-learn version: 0.22.1\n"
     ]
    }
   ],
   "source": [
    "import sklearn\n",
    "\n",
    "print(f\"scikit-learn version: {sklearn.__version__}\")\n",
    "\n",
    "from sklearn.datasets import load_iris\n",
    "from sklearn.tree import (\n",
    "    DecisionTreeClassifier,\n",
    "    DecisionTreeRegressor,\n",
    "    plot_tree,\n",
    "    export_graphviz,\n",
    ")\n",
    "from sklearn.ensemble import RandomForestClassifier\n",
    "from sklearn.model_selection import cross_val_score"
   ]
  },
  {
   "cell_type": "code",
   "execution_count": 18,
   "metadata": {
    "slideshow": {
     "slide_type": "skip"
    }
   },
   "outputs": [],
   "source": [
    "# Plot the decision boundary for a model using 2 features\n",
    "# Taken from https://github.com/ageron/handson-ml2/blob/master/06_decision_trees.ipynb\n",
    "def plot_iris_decision_boundary(\n",
    "    model, X, y, axes=[0, 7.5, 0, 3], legend=True, plot_training=True\n",
    "):\n",
    "    x1s = np.linspace(axes[0], axes[1], 100)\n",
    "    x2s = np.linspace(axes[2], axes[3], 100)\n",
    "    x1, x2 = np.meshgrid(x1s, x2s)\n",
    "    X_new = np.c_[x1.ravel(), x2.ravel()]\n",
    "    y_pred = model.predict(X_new).reshape(x1.shape)\n",
    "    custom_cmap = ListedColormap([\"#fafab0\", \"#a0faa0\", \"#9898ff\"])\n",
    "    plt.contourf(x1, x2, y_pred, alpha=0.3, cmap=custom_cmap)\n",
    "    if plot_training:\n",
    "        plt.plot(X[:, 0][y == 0], X[:, 1][y == 0], \"yo\", label=\"Iris setosa\")\n",
    "        plt.plot(X[:, 0][y == 1], X[:, 1][y == 1], \"g^\", label=\"Iris versicolor\")\n",
    "        plt.plot(X[:, 0][y == 2], X[:, 1][y == 2], \"bs\", label=\"Iris virginica\")\n",
    "        plt.axis(axes)\n",
    "    plt.xlabel(\"Petal length\", fontsize=14)\n",
    "    plt.ylabel(\"Petal width\", fontsize=14)\n",
    "    if legend:\n",
    "        plt.legend(loc=\"lower right\", fontsize=14)"
   ]
  },
  {
   "cell_type": "code",
   "execution_count": 19,
   "metadata": {
    "slideshow": {
     "slide_type": "slide"
    }
   },
   "outputs": [
    {
     "data": {
      "text/html": [
       "<div>\n",
       "<style scoped>\n",
       "    .dataframe tbody tr th:only-of-type {\n",
       "        vertical-align: middle;\n",
       "    }\n",
       "\n",
       "    .dataframe tbody tr th {\n",
       "        vertical-align: top;\n",
       "    }\n",
       "\n",
       "    .dataframe thead th {\n",
       "        text-align: right;\n",
       "    }\n",
       "</style>\n",
       "<table border=\"1\" class=\"dataframe\">\n",
       "  <thead>\n",
       "    <tr style=\"text-align: right;\">\n",
       "      <th></th>\n",
       "      <th>sepal length (cm)</th>\n",
       "      <th>sepal width (cm)</th>\n",
       "      <th>petal length (cm)</th>\n",
       "      <th>petal width (cm)</th>\n",
       "      <th>target</th>\n",
       "      <th>class</th>\n",
       "    </tr>\n",
       "  </thead>\n",
       "  <tbody>\n",
       "    <tr>\n",
       "      <th>143</th>\n",
       "      <td>6.8</td>\n",
       "      <td>3.2</td>\n",
       "      <td>5.9</td>\n",
       "      <td>2.3</td>\n",
       "      <td>2</td>\n",
       "      <td>virginica</td>\n",
       "    </tr>\n",
       "    <tr>\n",
       "      <th>82</th>\n",
       "      <td>5.8</td>\n",
       "      <td>2.7</td>\n",
       "      <td>3.9</td>\n",
       "      <td>1.2</td>\n",
       "      <td>1</td>\n",
       "      <td>versicolor</td>\n",
       "    </tr>\n",
       "    <tr>\n",
       "      <th>71</th>\n",
       "      <td>6.1</td>\n",
       "      <td>2.8</td>\n",
       "      <td>4.0</td>\n",
       "      <td>1.3</td>\n",
       "      <td>1</td>\n",
       "      <td>versicolor</td>\n",
       "    </tr>\n",
       "    <tr>\n",
       "      <th>35</th>\n",
       "      <td>5.0</td>\n",
       "      <td>3.2</td>\n",
       "      <td>1.2</td>\n",
       "      <td>0.2</td>\n",
       "      <td>0</td>\n",
       "      <td>setosa</td>\n",
       "    </tr>\n",
       "    <tr>\n",
       "      <th>116</th>\n",
       "      <td>6.5</td>\n",
       "      <td>3.0</td>\n",
       "      <td>5.5</td>\n",
       "      <td>1.8</td>\n",
       "      <td>2</td>\n",
       "      <td>virginica</td>\n",
       "    </tr>\n",
       "    <tr>\n",
       "      <th>141</th>\n",
       "      <td>6.9</td>\n",
       "      <td>3.1</td>\n",
       "      <td>5.1</td>\n",
       "      <td>2.3</td>\n",
       "      <td>2</td>\n",
       "      <td>virginica</td>\n",
       "    </tr>\n",
       "    <tr>\n",
       "      <th>53</th>\n",
       "      <td>5.5</td>\n",
       "      <td>2.3</td>\n",
       "      <td>4.0</td>\n",
       "      <td>1.3</td>\n",
       "      <td>1</td>\n",
       "      <td>versicolor</td>\n",
       "    </tr>\n",
       "    <tr>\n",
       "      <th>2</th>\n",
       "      <td>4.7</td>\n",
       "      <td>3.2</td>\n",
       "      <td>1.3</td>\n",
       "      <td>0.2</td>\n",
       "      <td>0</td>\n",
       "      <td>setosa</td>\n",
       "    </tr>\n",
       "    <tr>\n",
       "      <th>130</th>\n",
       "      <td>7.4</td>\n",
       "      <td>2.8</td>\n",
       "      <td>6.1</td>\n",
       "      <td>1.9</td>\n",
       "      <td>2</td>\n",
       "      <td>virginica</td>\n",
       "    </tr>\n",
       "    <tr>\n",
       "      <th>92</th>\n",
       "      <td>5.8</td>\n",
       "      <td>2.6</td>\n",
       "      <td>4.0</td>\n",
       "      <td>1.2</td>\n",
       "      <td>1</td>\n",
       "      <td>versicolor</td>\n",
       "    </tr>\n",
       "  </tbody>\n",
       "</table>\n",
       "</div>"
      ],
      "text/plain": [
       "     sepal length (cm)  sepal width (cm)  petal length (cm)  petal width (cm)  \\\n",
       "143                6.8               3.2                5.9               2.3   \n",
       "82                 5.8               2.7                3.9               1.2   \n",
       "71                 6.1               2.8                4.0               1.3   \n",
       "35                 5.0               3.2                1.2               0.2   \n",
       "116                6.5               3.0                5.5               1.8   \n",
       "141                6.9               3.1                5.1               2.3   \n",
       "53                 5.5               2.3                4.0               1.3   \n",
       "2                  4.7               3.2                1.3               0.2   \n",
       "130                7.4               2.8                6.1               1.9   \n",
       "92                 5.8               2.6                4.0               1.2   \n",
       "\n",
       "     target       class  \n",
       "143       2   virginica  \n",
       "82        1  versicolor  \n",
       "71        1  versicolor  \n",
       "35        0      setosa  \n",
       "116       2   virginica  \n",
       "141       2   virginica  \n",
       "53        1  versicolor  \n",
       "2         0      setosa  \n",
       "130       2   virginica  \n",
       "92        1  versicolor  "
      ]
     },
     "execution_count": 19,
     "metadata": {},
     "output_type": "execute_result"
    }
   ],
   "source": [
    "# Load the Iris dataset\n",
    "iris = load_iris()\n",
    "\n",
    "# Put it into a DataFrame for visualization purposes\n",
    "df_iris = pd.DataFrame(iris.data, columns=iris.feature_names)\n",
    "# Add target and class columns to DataFrame\n",
    "df_iris[\"target\"] = iris.target\n",
    "df_iris[\"class\"] = iris.target_names[iris.target]\n",
    "# Show 10 random samples\n",
    "df_iris.sample(n=10)"
   ]
  },
  {
   "cell_type": "code",
   "execution_count": 20,
   "metadata": {
    "slideshow": {
     "slide_type": "slide"
    }
   },
   "outputs": [
    {
     "name": "stdout",
     "output_type": "stream",
     "text": [
      "x_train: (150, 2)\n",
      "y_train: (150, 2)\n"
     ]
    }
   ],
   "source": [
    "# Use only last two features (petal length and width)\n",
    "# Thus, we can plot a 2D decision boundary\n",
    "\n",
    "x_train_2feat = iris.data[:, 2:]\n",
    "y_train_2feat = iris.target\n",
    "\n",
    "print(f\"x_train: {x_train_2feat.shape}\")\n",
    "print(f\"y_train: {x_train_2feat.shape}\")"
   ]
  },
  {
   "cell_type": "code",
   "execution_count": 21,
   "metadata": {
    "slideshow": {
     "slide_type": "slide"
    }
   },
   "outputs": [
    {
     "name": "stdout",
     "output_type": "stream",
     "text": [
      "Training accuracy: 0.96000\n"
     ]
    }
   ],
   "source": [
    "# Train a DT on the simplified dataset\n",
    "dt_model = DecisionTreeClassifier(max_depth=2, random_state=42)\n",
    "dt_model.fit(x_train_2feat, y_train_2feat)\n",
    "\n",
    "# Compute accuracy on training set\n",
    "acc = dt_model.score(x_train_2feat, y_train_2feat)\n",
    "print(f\"Training accuracy: {acc:.5f}\")"
   ]
  },
  {
   "cell_type": "code",
   "execution_count": 22,
   "metadata": {
    "slideshow": {
     "slide_type": "slide"
    }
   },
   "outputs": [
    {
     "data": {
      "image/svg+xml": [
       "<?xml version=\"1.0\" encoding=\"UTF-8\" standalone=\"no\"?>\n",
       "<!DOCTYPE svg PUBLIC \"-//W3C//DTD SVG 1.1//EN\"\n",
       " \"http://www.w3.org/Graphics/SVG/1.1/DTD/svg11.dtd\">\n",
       "<!-- Generated by graphviz version 2.40.1 (20161225.0304)\n",
       " -->\n",
       "<!-- Title: Tree Pages: 1 -->\n",
       "<svg width=\"355pt\" height=\"314pt\"\n",
       " viewBox=\"0.00 0.00 355.00 314.00\" xmlns=\"http://www.w3.org/2000/svg\" xmlns:xlink=\"http://www.w3.org/1999/xlink\">\n",
       "<g id=\"graph0\" class=\"graph\" transform=\"scale(1 1) rotate(0) translate(4 310)\">\n",
       "<title>Tree</title>\n",
       "<polygon fill=\"#ffffff\" stroke=\"transparent\" points=\"-4,4 -4,-310 351,-310 351,4 -4,4\"/>\n",
       "<!-- 0 -->\n",
       "<g id=\"node1\" class=\"node\">\n",
       "<title>0</title>\n",
       "<path fill=\"#ffffff\" stroke=\"#000000\" d=\"M207.5,-306C207.5,-306 68.5,-306 68.5,-306 62.5,-306 56.5,-300 56.5,-294 56.5,-294 56.5,-235 56.5,-235 56.5,-229 62.5,-223 68.5,-223 68.5,-223 207.5,-223 207.5,-223 213.5,-223 219.5,-229 219.5,-235 219.5,-235 219.5,-294 219.5,-294 219.5,-300 213.5,-306 207.5,-306\"/>\n",
       "<text text-anchor=\"start\" x=\"64.5\" y=\"-290.8\" font-family=\"Helvetica,sans-Serif\" font-size=\"14.00\" fill=\"#000000\">petal length (cm) ≤ 2.45</text>\n",
       "<text text-anchor=\"start\" x=\"101.5\" y=\"-275.8\" font-family=\"Helvetica,sans-Serif\" font-size=\"14.00\" fill=\"#000000\">gini = 0.667</text>\n",
       "<text text-anchor=\"start\" x=\"92\" y=\"-260.8\" font-family=\"Helvetica,sans-Serif\" font-size=\"14.00\" fill=\"#000000\">samples = 150</text>\n",
       "<text text-anchor=\"start\" x=\"78\" y=\"-245.8\" font-family=\"Helvetica,sans-Serif\" font-size=\"14.00\" fill=\"#000000\">value = [50, 50, 50]</text>\n",
       "<text text-anchor=\"start\" x=\"93\" y=\"-230.8\" font-family=\"Helvetica,sans-Serif\" font-size=\"14.00\" fill=\"#000000\">class = setosa</text>\n",
       "</g>\n",
       "<!-- 1 -->\n",
       "<g id=\"node2\" class=\"node\">\n",
       "<title>1</title>\n",
       "<path fill=\"#e58139\" stroke=\"#000000\" d=\"M108,-179.5C108,-179.5 12,-179.5 12,-179.5 6,-179.5 0,-173.5 0,-167.5 0,-167.5 0,-123.5 0,-123.5 0,-117.5 6,-111.5 12,-111.5 12,-111.5 108,-111.5 108,-111.5 114,-111.5 120,-117.5 120,-123.5 120,-123.5 120,-167.5 120,-167.5 120,-173.5 114,-179.5 108,-179.5\"/>\n",
       "<text text-anchor=\"start\" x=\"31\" y=\"-164.3\" font-family=\"Helvetica,sans-Serif\" font-size=\"14.00\" fill=\"#000000\">gini = 0.0</text>\n",
       "<text text-anchor=\"start\" x=\"18\" y=\"-149.3\" font-family=\"Helvetica,sans-Serif\" font-size=\"14.00\" fill=\"#000000\">samples = 50</text>\n",
       "<text text-anchor=\"start\" x=\"8\" y=\"-134.3\" font-family=\"Helvetica,sans-Serif\" font-size=\"14.00\" fill=\"#000000\">value = [50, 0, 0]</text>\n",
       "<text text-anchor=\"start\" x=\"15\" y=\"-119.3\" font-family=\"Helvetica,sans-Serif\" font-size=\"14.00\" fill=\"#000000\">class = setosa</text>\n",
       "</g>\n",
       "<!-- 0&#45;&gt;1 -->\n",
       "<g id=\"edge1\" class=\"edge\">\n",
       "<title>0&#45;&gt;1</title>\n",
       "<path fill=\"none\" stroke=\"#000000\" d=\"M110.7194,-222.8796C103.3677,-211.6636 95.4036,-199.5131 88.0126,-188.2372\"/>\n",
       "<polygon fill=\"#000000\" stroke=\"#000000\" points=\"90.9014,-186.2598 82.4921,-179.8149 85.0469,-190.0972 90.9014,-186.2598\"/>\n",
       "<text text-anchor=\"middle\" x=\"77.3982\" y=\"-200.5905\" font-family=\"Helvetica,sans-Serif\" font-size=\"14.00\" fill=\"#000000\">True</text>\n",
       "</g>\n",
       "<!-- 2 -->\n",
       "<g id=\"node3\" class=\"node\">\n",
       "<title>2</title>\n",
       "<path fill=\"#ffffff\" stroke=\"#000000\" d=\"M284,-187C284,-187 150,-187 150,-187 144,-187 138,-181 138,-175 138,-175 138,-116 138,-116 138,-110 144,-104 150,-104 150,-104 284,-104 284,-104 290,-104 296,-110 296,-116 296,-116 296,-175 296,-175 296,-181 290,-187 284,-187\"/>\n",
       "<text text-anchor=\"start\" x=\"146\" y=\"-171.8\" font-family=\"Helvetica,sans-Serif\" font-size=\"14.00\" fill=\"#000000\">petal width (cm) ≤ 1.75</text>\n",
       "<text text-anchor=\"start\" x=\"188\" y=\"-156.8\" font-family=\"Helvetica,sans-Serif\" font-size=\"14.00\" fill=\"#000000\">gini = 0.5</text>\n",
       "<text text-anchor=\"start\" x=\"171\" y=\"-141.8\" font-family=\"Helvetica,sans-Serif\" font-size=\"14.00\" fill=\"#000000\">samples = 100</text>\n",
       "<text text-anchor=\"start\" x=\"161\" y=\"-126.8\" font-family=\"Helvetica,sans-Serif\" font-size=\"14.00\" fill=\"#000000\">value = [0, 50, 50]</text>\n",
       "<text text-anchor=\"start\" x=\"163\" y=\"-111.8\" font-family=\"Helvetica,sans-Serif\" font-size=\"14.00\" fill=\"#000000\">class = versicolor</text>\n",
       "</g>\n",
       "<!-- 0&#45;&gt;2 -->\n",
       "<g id=\"edge2\" class=\"edge\">\n",
       "<title>0&#45;&gt;2</title>\n",
       "<path fill=\"none\" stroke=\"#000000\" d=\"M165.6304,-222.8796C171.43,-214.1434 177.6059,-204.8404 183.5908,-195.8253\"/>\n",
       "<polygon fill=\"#000000\" stroke=\"#000000\" points=\"186.6368,-197.5652 189.2517,-187.2981 180.8049,-193.6935 186.6368,-197.5652\"/>\n",
       "<text text-anchor=\"middle\" x=\"194.2022\" y=\"-208.103\" font-family=\"Helvetica,sans-Serif\" font-size=\"14.00\" fill=\"#000000\">False</text>\n",
       "</g>\n",
       "<!-- 3 -->\n",
       "<g id=\"node4\" class=\"node\">\n",
       "<title>3</title>\n",
       "<path fill=\"#4de88e\" stroke=\"#000000\" d=\"M197,-68C197,-68 97,-68 97,-68 91,-68 85,-62 85,-56 85,-56 85,-12 85,-12 85,-6 91,0 97,0 97,0 197,0 197,0 203,0 209,-6 209,-12 209,-12 209,-56 209,-56 209,-62 203,-68 197,-68\"/>\n",
       "<text text-anchor=\"start\" x=\"110.5\" y=\"-52.8\" font-family=\"Helvetica,sans-Serif\" font-size=\"14.00\" fill=\"#000000\">gini = 0.168</text>\n",
       "<text text-anchor=\"start\" x=\"105\" y=\"-37.8\" font-family=\"Helvetica,sans-Serif\" font-size=\"14.00\" fill=\"#000000\">samples = 54</text>\n",
       "<text text-anchor=\"start\" x=\"95\" y=\"-22.8\" font-family=\"Helvetica,sans-Serif\" font-size=\"14.00\" fill=\"#000000\">value = [0, 49, 5]</text>\n",
       "<text text-anchor=\"start\" x=\"93\" y=\"-7.8\" font-family=\"Helvetica,sans-Serif\" font-size=\"14.00\" fill=\"#000000\">class = versicolor</text>\n",
       "</g>\n",
       "<!-- 2&#45;&gt;3 -->\n",
       "<g id=\"edge3\" class=\"edge\">\n",
       "<title>2&#45;&gt;3</title>\n",
       "<path fill=\"none\" stroke=\"#000000\" d=\"M190.9346,-103.9815C185.3955,-95.1585 179.5364,-85.8258 173.9645,-76.9506\"/>\n",
       "<polygon fill=\"#000000\" stroke=\"#000000\" points=\"176.7922,-74.872 168.5108,-68.2637 170.8637,-78.594 176.7922,-74.872\"/>\n",
       "</g>\n",
       "<!-- 4 -->\n",
       "<g id=\"node5\" class=\"node\">\n",
       "<title>4</title>\n",
       "<path fill=\"#843de6\" stroke=\"#000000\" d=\"M335,-68C335,-68 239,-68 239,-68 233,-68 227,-62 227,-56 227,-56 227,-12 227,-12 227,-6 233,0 239,0 239,0 335,0 335,0 341,0 347,-6 347,-12 347,-12 347,-56 347,-56 347,-62 341,-68 335,-68\"/>\n",
       "<text text-anchor=\"start\" x=\"250.5\" y=\"-52.8\" font-family=\"Helvetica,sans-Serif\" font-size=\"14.00\" fill=\"#000000\">gini = 0.043</text>\n",
       "<text text-anchor=\"start\" x=\"245\" y=\"-37.8\" font-family=\"Helvetica,sans-Serif\" font-size=\"14.00\" fill=\"#000000\">samples = 46</text>\n",
       "<text text-anchor=\"start\" x=\"235\" y=\"-22.8\" font-family=\"Helvetica,sans-Serif\" font-size=\"14.00\" fill=\"#000000\">value = [0, 1, 45]</text>\n",
       "<text text-anchor=\"start\" x=\"237\" y=\"-7.8\" font-family=\"Helvetica,sans-Serif\" font-size=\"14.00\" fill=\"#000000\">class = virginica</text>\n",
       "</g>\n",
       "<!-- 2&#45;&gt;4 -->\n",
       "<g id=\"edge4\" class=\"edge\">\n",
       "<title>2&#45;&gt;4</title>\n",
       "<path fill=\"none\" stroke=\"#000000\" d=\"M243.0654,-103.9815C248.6045,-95.1585 254.4636,-85.8258 260.0355,-76.9506\"/>\n",
       "<polygon fill=\"#000000\" stroke=\"#000000\" points=\"263.1363,-78.594 265.4892,-68.2637 257.2078,-74.872 263.1363,-78.594\"/>\n",
       "</g>\n",
       "</g>\n",
       "</svg>\n"
      ],
      "text/plain": [
       "<graphviz.files.Source at 0x1a26479450>"
      ]
     },
     "execution_count": 22,
     "metadata": {},
     "output_type": "execute_result"
    }
   ],
   "source": [
    "# Plot the DT\n",
    "# If using Jupyter locally, install graphviz with this command: conda install python-graphviz\n",
    "dot_data = export_graphviz(\n",
    "    dt_model,\n",
    "    out_file=None,\n",
    "    feature_names=iris.feature_names[2:],\n",
    "    class_names=iris.target_names,\n",
    "    filled=True,\n",
    "    rounded=True,\n",
    "    special_characters=True,\n",
    ")\n",
    "graphviz.Source(dot_data)"
   ]
  },
  {
   "cell_type": "markdown",
   "metadata": {
    "slideshow": {
     "slide_type": "slide"
    }
   },
   "source": [
    "### Tree nodes\n",
    "\n",
    "Each node is a step in the decision process, starting with the *root node* (depth 0). Leaf nodes represent predictions of the model.\n",
    "\n",
    "Node attributes are:\n",
    "\n",
    "- **Gini**: measure of the node *impurity*.\n",
    "- **Samples**: number of samples the node applies to.\n",
    "- **Value**: number of samples of each class the node applies to."
   ]
  },
  {
   "cell_type": "markdown",
   "metadata": {
    "slideshow": {
     "slide_type": "slide"
    }
   },
   "source": [
    "### The Gini score\n",
    "\n",
    "- $G_i = 1- \\sum_{k=1}^K {p_{i, k}}^2$\n",
    "- $p_{i, k}$: ratio of class `k` instances in the $i^{th}$ node.\n",
    "- $Gini = 0$: all samples it applies to belong to the same class (\"pure\" node).\n",
    "\n",
    "Other possible measure: *entropy* (level of disorder)."
   ]
  },
  {
   "cell_type": "markdown",
   "metadata": {
    "slideshow": {
     "slide_type": "slide"
    }
   },
   "source": [
    "### Example: Gini scores for the trained Decision Tree\n",
    "\n",
    "- Root node: \n",
    "$$G_0 = 1 - ((\\frac{50}{150})^2 + (\\frac{50}{150})^2 + (\\frac{50}{150})^2) = 1 - (\\frac{1}{9} + \\frac{1}{9} + \\frac{1}{9}) = \\frac{2}{3}$$\n",
    "- Depth 1, left node:\n",
    "$$G_1 = 1 - ((\\frac{50}{50})^2 + (\\frac{0}{50})^2 + (\\frac{0}{50})^2) = 1 - (1 + 0 + 0) = 0$$\n",
    "- Depth 2, left node:\n",
    "$$G_3 = 1 - ((\\frac{0}{54})^2 + (\\frac{49}{54})^2 + (\\frac{5}{54})^2) \\simeq 0.168$$"
   ]
  },
  {
   "cell_type": "markdown",
   "metadata": {
    "slideshow": {
     "slide_type": "slide"
    }
   },
   "source": [
    "### Example: decision boundaries for the trained Decision Tree"
   ]
  },
  {
   "cell_type": "code",
   "execution_count": 23,
   "metadata": {
    "slideshow": {
     "slide_type": "-"
    }
   },
   "outputs": [
    {
     "data": {
      "image/png": "[encoded data removed]",
      "text/plain": [
       "<Figure size 720x576 with 1 Axes>"
      ]
     },
     "metadata": {
      "image/png": {
       "height": 489,
       "width": 614
      }
     },
     "output_type": "display_data"
    }
   ],
   "source": [
    "plot_iris_decision_boundary(dt_model, x_train_2feat, y_train_2feat)\n",
    "# Plot separation lines\n",
    "plt.plot([2.45, 2.45], [0, 3], \"k-\", linewidth=2)\n",
    "plt.plot([2.45, 7.5], [1.75, 1.75], \"k--\", linewidth=2)\n",
    "plt.text(1.40, 1.0, \"Depth=0\", fontsize=15)\n",
    "plt.text(3.2, 1.80, \"Depth=1\", fontsize=13)\n",
    "plt.show()"
   ]
  },
  {
   "cell_type": "markdown",
   "metadata": {
    "slideshow": {
     "slide_type": "slide"
    }
   },
   "source": [
    "### Using a Decision Tree for predictions\n",
    "\n",
    "1. Using the new sample data, the tree is traversed to find the leaf node for that sample.\n",
    "1. Class probabilities are the ratios of samples of each class for this node."
   ]
  },
  {
   "cell_type": "code",
   "execution_count": 24,
   "metadata": {
    "slideshow": {
     "slide_type": "-"
    }
   },
   "outputs": [
    {
     "name": "stdout",
     "output_type": "stream",
     "text": [
      "[[0.         0.90740741 0.09259259]]\n",
      "['versicolor']\n"
     ]
    }
   ],
   "source": [
    "# Define some new flower data\n",
    "x_new = [[5, 1.5]]\n",
    "\n",
    "# Print predicted class probabilities\n",
    "# 0/54 for \"setosa\", 49/54 for \"versicolor\", 5/54 for \"virginica\"\n",
    "print(dt_model.predict_proba(x_new))\n",
    "\n",
    "# Print predicted class\n",
    "print(iris.target_names[dt_model.predict(x_new)])"
   ]
  },
  {
   "cell_type": "markdown",
   "metadata": {
    "slideshow": {
     "slide_type": "slide"
    }
   },
   "source": [
    "### The training process\n",
    "\n",
    "The CART (*Classification And Regression Tree*) algorithm creates binary trees.\n",
    "\n",
    "At each depth, it looks for the highest *Gini gain* by finding the feature and the threshold that produces the *purest* subsets (weighted by their size). Then, its splits the subsets recursively according to the same logic.\n",
    "\n",
    "It stops once no split will further reduce impurity, or when it reaches the maximum depth."
   ]
  },
  {
   "cell_type": "markdown",
   "metadata": {
    "slideshow": {
     "slide_type": "slide"
    }
   },
   "source": [
    "### Example: training a Decision Tree on planar data\n",
    "\n",
    "Three classes with 3 samples each, two features $x$ and $y$.\n",
    "\n",
    "[![DT CART example](images/dt_cart_example.png)](https://victorzhou.com/blog/intro-to-random-forests/)"
   ]
  },
  {
   "cell_type": "markdown",
   "metadata": {
    "slideshow": {
     "slide_type": "slide"
    }
   },
   "source": [
    "$G_{initial} = 1 - ((\\frac{3}{9})^2 + (\\frac{3}{9})^2 + (\\frac{3}{9})^2) = \\frac{2}{3}$\n",
    "\n",
    "Impurity gain with $x=0.4$:\n",
    "\n",
    "- $G_{left|x=0.4} = 1 - ((\\frac{1}{1})^2 + (\\frac{0}{1})^2 + (\\frac{0}{1})^2) = 0\\;\\;G_{right|x=0.4} = 1 - ((\\frac{2}{8})^2 + (\\frac{3}{8})^2 + (\\frac{3}{8})^2) = \\frac{21}{32}$\n",
    "- $Gain_{x=0.4} = G_{initial} - (\\frac{1}{9}G_{left|x=0.4} + \\frac{8}{9}G_{right|x=0.4}) = \\frac{2}{3} - \\frac{7}{12} = \\frac{1}{12}$\n",
    "\n",
    "Impurity gain with $x=2$:\n",
    "\n",
    "- $G_{left|x=2} = 1 - ((\\frac{3}{6})^2 + (\\frac{3}{6})^2 + (\\frac{0}{6})^2) = 0,5\\;\\;G_{right|x=2} = 1 - ((\\frac{0}{3})^2 + (\\frac{0}{3})^2 + (\\frac{3}{3})^2) = 0$\n",
    "- $Gain_{x=2} = G_{initial} - (\\frac{6}{9}G_{left|x=2} + \\frac{3}{9}G_{right|x=2}) = \\frac{2}{3} - \\frac{1}{3} = \\frac{1}{3}$"
   ]
  },
  {
   "cell_type": "markdown",
   "metadata": {
    "slideshow": {
     "slide_type": "slide"
    }
   },
   "source": [
    "### Decision Trees for regression problems\n",
    "\n",
    "Decision Tree can also perform regression tasks.\n",
    "\n",
    "Instead of predicting a class, it outputs a value which is the average of all training samples associated with the leaf node reached during traversal."
   ]
  },
  {
   "cell_type": "markdown",
   "metadata": {
    "slideshow": {
     "slide_type": "slide"
    }
   },
   "source": [
    "### Example: fitting a sine curve with a Decision Tree"
   ]
  },
  {
   "cell_type": "code",
   "execution_count": 25,
   "metadata": {},
   "outputs": [
    {
     "data": {
      "text/plain": [
       "DecisionTreeRegressor(ccp_alpha=0.0, criterion='mse', max_depth=2,\n",
       "                      max_features=None, max_leaf_nodes=None,\n",
       "                      min_impurity_decrease=0.0, min_impurity_split=None,\n",
       "                      min_samples_leaf=1, min_samples_split=2,\n",
       "                      min_weight_fraction_leaf=0.0, presort='deprecated',\n",
       "                      random_state=None, splitter='best')"
      ]
     },
     "execution_count": 25,
     "metadata": {},
     "output_type": "execute_result"
    }
   ],
   "source": [
    "# Taken from https://scikit-learn.org/stable/auto_examples/tree/plot_tree_regression.html\n",
    "# Create a random dataset\n",
    "rng = np.random.RandomState(1)\n",
    "x_sin = np.sort(5 * rng.rand(80, 1), axis=0)\n",
    "y_sin = np.sin(x_sin).ravel()\n",
    "y_sin[::5] += 3 * (0.5 - rng.rand(16))\n",
    "\n",
    "# Fit regression DT\n",
    "dt_reg_model1 = DecisionTreeRegressor(max_depth=2)\n",
    "dt_reg_model1.fit(x_sin, y_sin)"
   ]
  },
  {
   "cell_type": "code",
   "execution_count": 26,
   "metadata": {
    "slideshow": {
     "slide_type": "slide"
    }
   },
   "outputs": [
    {
     "data": {
      "image/svg+xml": [
       "<?xml version=\"1.0\" encoding=\"UTF-8\" standalone=\"no\"?>\n",
       "<!DOCTYPE svg PUBLIC \"-//W3C//DTD SVG 1.1//EN\"\n",
       " \"http://www.w3.org/Graphics/SVG/1.1/DTD/svg11.dtd\">\n",
       "<!-- Generated by graphviz version 2.40.1 (20161225.0304)\n",
       " -->\n",
       "<!-- Title: Tree Pages: 1 -->\n",
       "<svg width=\"477pt\" height=\"269pt\"\n",
       " viewBox=\"0.00 0.00 476.50 269.00\" xmlns=\"http://www.w3.org/2000/svg\" xmlns:xlink=\"http://www.w3.org/1999/xlink\">\n",
       "<g id=\"graph0\" class=\"graph\" transform=\"scale(1 1) rotate(0) translate(4 265)\">\n",
       "<title>Tree</title>\n",
       "<polygon fill=\"#ffffff\" stroke=\"transparent\" points=\"-4,4 -4,-265 472.5,-265 472.5,4 -4,4\"/>\n",
       "<!-- 0 -->\n",
       "<g id=\"node1\" class=\"node\">\n",
       "<title>0</title>\n",
       "<path fill=\"#efb083\" stroke=\"#000000\" d=\"M269,-261C269,-261 192,-261 192,-261 186,-261 180,-255 180,-249 180,-249 180,-205 180,-205 180,-199 186,-193 192,-193 192,-193 269,-193 269,-193 275,-193 281,-199 281,-205 281,-205 281,-249 281,-249 281,-255 275,-261 269,-261\"/>\n",
       "<text text-anchor=\"start\" x=\"201.5\" y=\"-245.8\" font-family=\"Helvetica,sans-Serif\" font-size=\"14.00\" fill=\"#000000\">x ≤ 3.133</text>\n",
       "<text text-anchor=\"start\" x=\"191.5\" y=\"-230.8\" font-family=\"Helvetica,sans-Serif\" font-size=\"14.00\" fill=\"#000000\">mse = 0.547</text>\n",
       "<text text-anchor=\"start\" x=\"188.5\" y=\"-215.8\" font-family=\"Helvetica,sans-Serif\" font-size=\"14.00\" fill=\"#000000\">samples = 80</text>\n",
       "<text text-anchor=\"start\" x=\"188\" y=\"-200.8\" font-family=\"Helvetica,sans-Serif\" font-size=\"14.00\" fill=\"#000000\">value = 0.122</text>\n",
       "</g>\n",
       "<!-- 1 -->\n",
       "<g id=\"node2\" class=\"node\">\n",
       "<title>1</title>\n",
       "<path fill=\"#e78c4b\" stroke=\"#000000\" d=\"M208,-157C208,-157 131,-157 131,-157 125,-157 119,-151 119,-145 119,-145 119,-101 119,-101 119,-95 125,-89 131,-89 131,-89 208,-89 208,-89 214,-89 220,-95 220,-101 220,-101 220,-145 220,-145 220,-151 214,-157 208,-157\"/>\n",
       "<text text-anchor=\"start\" x=\"140.5\" y=\"-141.8\" font-family=\"Helvetica,sans-Serif\" font-size=\"14.00\" fill=\"#000000\">x ≤ 0.514</text>\n",
       "<text text-anchor=\"start\" x=\"130.5\" y=\"-126.8\" font-family=\"Helvetica,sans-Serif\" font-size=\"14.00\" fill=\"#000000\">mse = 0.231</text>\n",
       "<text text-anchor=\"start\" x=\"127.5\" y=\"-111.8\" font-family=\"Helvetica,sans-Serif\" font-size=\"14.00\" fill=\"#000000\">samples = 51</text>\n",
       "<text text-anchor=\"start\" x=\"127\" y=\"-96.8\" font-family=\"Helvetica,sans-Serif\" font-size=\"14.00\" fill=\"#000000\">value = 0.571</text>\n",
       "</g>\n",
       "<!-- 0&#45;&gt;1 -->\n",
       "<g id=\"edge1\" class=\"edge\">\n",
       "<title>0&#45;&gt;1</title>\n",
       "<path fill=\"none\" stroke=\"#000000\" d=\"M210.5263,-192.9465C205.4707,-184.3271 199.9753,-174.9579 194.6983,-165.9611\"/>\n",
       "<polygon fill=\"#000000\" stroke=\"#000000\" points=\"197.5969,-163.985 189.5186,-157.13 191.5589,-167.5265 197.5969,-163.985\"/>\n",
       "<text text-anchor=\"middle\" x=\"183.214\" y=\"-177.622\" font-family=\"Helvetica,sans-Serif\" font-size=\"14.00\" fill=\"#000000\">True</text>\n",
       "</g>\n",
       "<!-- 4 -->\n",
       "<g id=\"node5\" class=\"node\">\n",
       "<title>4</title>\n",
       "<path fill=\"#fcefe6\" stroke=\"#000000\" d=\"M332.5,-157C332.5,-157 250.5,-157 250.5,-157 244.5,-157 238.5,-151 238.5,-145 238.5,-145 238.5,-101 238.5,-101 238.5,-95 244.5,-89 250.5,-89 250.5,-89 332.5,-89 332.5,-89 338.5,-89 344.5,-95 344.5,-101 344.5,-101 344.5,-145 344.5,-145 344.5,-151 338.5,-157 332.5,-157\"/>\n",
       "<text text-anchor=\"start\" x=\"266.5\" y=\"-141.8\" font-family=\"Helvetica,sans-Serif\" font-size=\"14.00\" fill=\"#000000\">x ≤ 3.85</text>\n",
       "<text text-anchor=\"start\" x=\"252.5\" y=\"-126.8\" font-family=\"Helvetica,sans-Serif\" font-size=\"14.00\" fill=\"#000000\">mse = 0.124</text>\n",
       "<text text-anchor=\"start\" x=\"249.5\" y=\"-111.8\" font-family=\"Helvetica,sans-Serif\" font-size=\"14.00\" fill=\"#000000\">samples = 29</text>\n",
       "<text text-anchor=\"start\" x=\"246.5\" y=\"-96.8\" font-family=\"Helvetica,sans-Serif\" font-size=\"14.00\" fill=\"#000000\">value = &#45;0.667</text>\n",
       "</g>\n",
       "<!-- 0&#45;&gt;4 -->\n",
       "<g id=\"edge4\" class=\"edge\">\n",
       "<title>0&#45;&gt;4</title>\n",
       "<path fill=\"none\" stroke=\"#000000\" d=\"M250.4737,-192.9465C255.5293,-184.3271 261.0247,-174.9579 266.3017,-165.9611\"/>\n",
       "<polygon fill=\"#000000\" stroke=\"#000000\" points=\"269.4411,-167.5265 271.4814,-157.13 263.4031,-163.985 269.4411,-167.5265\"/>\n",
       "<text text-anchor=\"middle\" x=\"277.786\" y=\"-177.622\" font-family=\"Helvetica,sans-Serif\" font-size=\"14.00\" fill=\"#000000\">False</text>\n",
       "</g>\n",
       "<!-- 2 -->\n",
       "<g id=\"node3\" class=\"node\">\n",
       "<title>2</title>\n",
       "<path fill=\"#f0b68c\" stroke=\"#000000\" d=\"M89,-53C89,-53 12,-53 12,-53 6,-53 0,-47 0,-41 0,-41 0,-12 0,-12 0,-6 6,0 12,0 12,0 89,0 89,0 95,0 101,-6 101,-12 101,-12 101,-41 101,-41 101,-47 95,-53 89,-53\"/>\n",
       "<text text-anchor=\"start\" x=\"11.5\" y=\"-37.8\" font-family=\"Helvetica,sans-Serif\" font-size=\"14.00\" fill=\"#000000\">mse = 0.192</text>\n",
       "<text text-anchor=\"start\" x=\"8.5\" y=\"-22.8\" font-family=\"Helvetica,sans-Serif\" font-size=\"14.00\" fill=\"#000000\">samples = 11</text>\n",
       "<text text-anchor=\"start\" x=\"8\" y=\"-7.8\" font-family=\"Helvetica,sans-Serif\" font-size=\"14.00\" fill=\"#000000\">value = 0.052</text>\n",
       "</g>\n",
       "<!-- 1&#45;&gt;2 -->\n",
       "<g id=\"edge2\" class=\"edge\">\n",
       "<title>1&#45;&gt;2</title>\n",
       "<path fill=\"none\" stroke=\"#000000\" d=\"M127.5451,-88.9777C115.8014,-79.4545 103.0562,-69.1191 91.376,-59.6473\"/>\n",
       "<polygon fill=\"#000000\" stroke=\"#000000\" points=\"93.4568,-56.8286 83.4852,-53.2485 89.0478,-62.2656 93.4568,-56.8286\"/>\n",
       "</g>\n",
       "<!-- 3 -->\n",
       "<g id=\"node4\" class=\"node\">\n",
       "<title>3</title>\n",
       "<path fill=\"#e58139\" stroke=\"#000000\" d=\"M208,-53C208,-53 131,-53 131,-53 125,-53 119,-47 119,-41 119,-41 119,-12 119,-12 119,-6 125,0 131,0 131,0 208,0 208,0 214,0 220,-6 220,-12 220,-12 220,-41 220,-41 220,-47 214,-53 208,-53\"/>\n",
       "<text text-anchor=\"start\" x=\"130.5\" y=\"-37.8\" font-family=\"Helvetica,sans-Serif\" font-size=\"14.00\" fill=\"#000000\">mse = 0.148</text>\n",
       "<text text-anchor=\"start\" x=\"127.5\" y=\"-22.8\" font-family=\"Helvetica,sans-Serif\" font-size=\"14.00\" fill=\"#000000\">samples = 40</text>\n",
       "<text text-anchor=\"start\" x=\"127\" y=\"-7.8\" font-family=\"Helvetica,sans-Serif\" font-size=\"14.00\" fill=\"#000000\">value = 0.714</text>\n",
       "</g>\n",
       "<!-- 1&#45;&gt;3 -->\n",
       "<g id=\"edge3\" class=\"edge\">\n",
       "<title>1&#45;&gt;3</title>\n",
       "<path fill=\"none\" stroke=\"#000000\" d=\"M169.5,-88.9777C169.5,-80.7364 169.5,-71.887 169.5,-63.5153\"/>\n",
       "<polygon fill=\"#000000\" stroke=\"#000000\" points=\"173.0001,-63.2484 169.5,-53.2485 166.0001,-63.2485 173.0001,-63.2484\"/>\n",
       "</g>\n",
       "<!-- 5 -->\n",
       "<g id=\"node6\" class=\"node\">\n",
       "<title>5</title>\n",
       "<path fill=\"#f8decb\" stroke=\"#000000\" d=\"M332.5,-53C332.5,-53 250.5,-53 250.5,-53 244.5,-53 238.5,-47 238.5,-41 238.5,-41 238.5,-12 238.5,-12 238.5,-6 244.5,0 250.5,0 250.5,0 332.5,0 332.5,0 338.5,0 344.5,-6 344.5,-12 344.5,-12 344.5,-41 344.5,-41 344.5,-47 338.5,-53 332.5,-53\"/>\n",
       "<text text-anchor=\"start\" x=\"252.5\" y=\"-37.8\" font-family=\"Helvetica,sans-Serif\" font-size=\"14.00\" fill=\"#000000\">mse = 0.124</text>\n",
       "<text text-anchor=\"start\" x=\"249.5\" y=\"-22.8\" font-family=\"Helvetica,sans-Serif\" font-size=\"14.00\" fill=\"#000000\">samples = 14</text>\n",
       "<text text-anchor=\"start\" x=\"246.5\" y=\"-7.8\" font-family=\"Helvetica,sans-Serif\" font-size=\"14.00\" fill=\"#000000\">value = &#45;0.452</text>\n",
       "</g>\n",
       "<!-- 4&#45;&gt;5 -->\n",
       "<g id=\"edge5\" class=\"edge\">\n",
       "<title>4&#45;&gt;5</title>\n",
       "<path fill=\"none\" stroke=\"#000000\" d=\"M291.5,-88.9777C291.5,-80.7364 291.5,-71.887 291.5,-63.5153\"/>\n",
       "<polygon fill=\"#000000\" stroke=\"#000000\" points=\"295.0001,-63.2484 291.5,-53.2485 288.0001,-63.2485 295.0001,-63.2484\"/>\n",
       "</g>\n",
       "<!-- 6 -->\n",
       "<g id=\"node7\" class=\"node\">\n",
       "<title>6</title>\n",
       "<path fill=\"#ffffff\" stroke=\"#000000\" d=\"M456.5,-53C456.5,-53 374.5,-53 374.5,-53 368.5,-53 362.5,-47 362.5,-41 362.5,-41 362.5,-12 362.5,-12 362.5,-6 368.5,0 374.5,0 374.5,0 456.5,0 456.5,0 462.5,0 468.5,-6 468.5,-12 468.5,-12 468.5,-41 468.5,-41 468.5,-47 462.5,-53 456.5,-53\"/>\n",
       "<text text-anchor=\"start\" x=\"376.5\" y=\"-37.8\" font-family=\"Helvetica,sans-Serif\" font-size=\"14.00\" fill=\"#000000\">mse = 0.041</text>\n",
       "<text text-anchor=\"start\" x=\"373.5\" y=\"-22.8\" font-family=\"Helvetica,sans-Serif\" font-size=\"14.00\" fill=\"#000000\">samples = 15</text>\n",
       "<text text-anchor=\"start\" x=\"370.5\" y=\"-7.8\" font-family=\"Helvetica,sans-Serif\" font-size=\"14.00\" fill=\"#000000\">value = &#45;0.869</text>\n",
       "</g>\n",
       "<!-- 4&#45;&gt;6 -->\n",
       "<g id=\"edge6\" class=\"edge\">\n",
       "<title>4&#45;&gt;6</title>\n",
       "<path fill=\"none\" stroke=\"#000000\" d=\"M335.2178,-88.9777C347.4549,-79.4545 360.7355,-69.1191 372.9066,-59.6473\"/>\n",
       "<polygon fill=\"#000000\" stroke=\"#000000\" points=\"375.3866,-62.1523 381.1289,-53.2485 371.0875,-56.628 375.3866,-62.1523\"/>\n",
       "</g>\n",
       "</g>\n",
       "</svg>\n"
      ],
      "text/plain": [
       "<graphviz.files.Source at 0x1a276d9150>"
      ]
     },
     "execution_count": 26,
     "metadata": {},
     "output_type": "execute_result"
    }
   ],
   "source": [
    "# Plot the DT\n",
    "# If using Jupyter locally, install graphviz with this command: conda install python-graphviz\n",
    "dot_data = export_graphviz(\n",
    "    dt_reg_model1,\n",
    "    out_file=None,\n",
    "    feature_names=[\"x\"],\n",
    "    filled=True,\n",
    "    rounded=True,\n",
    "    special_characters=True,\n",
    ")\n",
    "graphviz.Source(dot_data)"
   ]
  },
  {
   "cell_type": "code",
   "execution_count": 27,
   "metadata": {
    "slideshow": {
     "slide_type": "slide"
    }
   },
   "outputs": [
    {
     "data": {
      "image/png": "[encoded data removed]",
      "text/plain": [
       "<Figure size 720x576 with 1 Axes>"
      ]
     },
     "metadata": {
      "image/png": {
       "height": 484,
       "width": 619
      }
     },
     "output_type": "display_data"
    }
   ],
   "source": [
    "# Train another regression DT on same dataset\n",
    "dt_reg_model2 = DecisionTreeRegressor(max_depth=5)\n",
    "dt_reg_model2.fit(x_sin, y_sin)\n",
    "\n",
    "# Predict values for both DT\n",
    "x_test = np.arange(0.0, 5.0, 0.01)[:, np.newaxis]\n",
    "y_pred_1 = dt_reg_model1.predict(x_test)\n",
    "y_pred_2 = dt_reg_model2.predict(x_test)\n",
    "\n",
    "# Plot the results\n",
    "plt.figure()\n",
    "plt.scatter(x_sin, y_sin, s=20, edgecolor=\"black\", c=\"darkorange\", label=\"data\")\n",
    "plt.plot(x_test, y_pred_1, color=\"cornflowerblue\", label=\"max_depth=2\", linewidth=2)\n",
    "plt.plot(x_test, y_pred_2, color=\"yellowgreen\", label=\"max_depth=5\", linewidth=2)\n",
    "plt.xlabel(\"data\")\n",
    "plt.ylabel(\"target\")\n",
    "plt.legend()\n",
    "plt.show()"
   ]
  },
  {
   "cell_type": "markdown",
   "metadata": {
    "slideshow": {
     "slide_type": "slide"
    }
   },
   "source": [
    "### Advantages of Decision Trees\n",
    "\n",
    "- Versatility\n",
    "- Very fast inference\n",
    "- Intuitive and interpretable (*white box*)\n",
    "- No feature scaling or encoding required"
   ]
  },
  {
   "cell_type": "markdown",
   "metadata": {
    "slideshow": {
     "slide_type": "slide"
    }
   },
   "source": [
    "### Decision Trees shortcomings\n",
    "\n",
    "- Main problem: **overfitting**. Regularization is possible through hyperparameters:\n",
    "    - Maximum depth of the tree.\n",
    "    - Minimum number of samples needed to split a node.\n",
    "    - Minimum number of samples for any leaf node.\n",
    "    - Maximum number of leaf nodes.\n",
    "- Sensibility to small variations in the training data."
   ]
  },
  {
   "cell_type": "markdown",
   "metadata": {
    "slideshow": {
     "slide_type": "slide"
    }
   },
   "source": [
    "## Ensemble learning\n",
    "\n",
    "(Heavily inspired by Chapter 7 of [Hands-On Machine Learning](https://github.com/ageron/handson-ml2) by Aurélien Géron)"
   ]
  },
  {
   "cell_type": "markdown",
   "metadata": {
    "slideshow": {
     "slide_type": "slide"
    }
   },
   "source": [
    "### General idea\n",
    "\n",
    "- Combining several predictors will lead to better results.\n",
    "- A group of predictors is called an **ensemble**.\n",
    "- Works best when predictors are diverse.\n",
    "- Less interpretable and harder to tune than an individual predictor."
   ]
  },
  {
   "cell_type": "markdown",
   "metadata": {
    "slideshow": {
     "slide_type": "slide"
    }
   },
   "source": [
    "### Hard voting classifiers\n",
    "\n",
    "[![Hard voting classifier](images/hard_voting_classifier.png)](https://github.com/ageron/handson-ml2)"
   ]
  },
  {
   "cell_type": "markdown",
   "metadata": {
    "slideshow": {
     "slide_type": "slide"
    }
   },
   "source": [
    "### Soft voting classifiers\n",
    "\n",
    "- Use class probabilities rather than class predictions.\n",
    "- Often yields better results than hard voting (highly confident predictions have more weight)."
   ]
  },
  {
   "cell_type": "markdown",
   "metadata": {
    "slideshow": {
     "slide_type": "slide"
    }
   },
   "source": [
    "### Bagging and pasting\n",
    "\n",
    "Train several predictors with same algorithm on different random samples of the training set. The ensemble's result is computed by aggregating (i.e. most frequent or average) the predictions of individual predictors.\n",
    "\n",
    "Only bagging (*bootstrap aggregating*) allows samples to be repeated for the same predictor.\n",
    "\n",
    "[![Bagging & pasting](images/bagging_pasting.png)]((https://github.com/ageron/handson-ml2))"
   ]
  },
  {
   "cell_type": "markdown",
   "metadata": {
    "slideshow": {
     "slide_type": "slide"
    }
   },
   "source": [
    "## Random Forests"
   ]
  },
  {
   "cell_type": "markdown",
   "metadata": {
    "slideshow": {
     "slide_type": "slide"
    }
   },
   "source": [
    "### Random Forests in a nutshell\n",
    "\n",
    "- Ensemble of Decision Trees, generally trained via bagging.\n",
    "- May be used for classification or regression.\n",
    "- Trees are grown using a random subset of features.\n",
    "- Ensembling mitigates the individual shortcomings of Decision Trees (overfitting, sensibility to small changes in the dataset).\n",
    "- On the other hand, results are less interpretable."
   ]
  },
  {
   "cell_type": "markdown",
   "metadata": {
    "slideshow": {
     "slide_type": "slide"
    }
   },
   "source": [
    "### Example: training a Random Forest to classify flowers"
   ]
  },
  {
   "cell_type": "code",
   "execution_count": 28,
   "metadata": {},
   "outputs": [
    {
     "name": "stdout",
     "output_type": "stream",
     "text": [
      "Mean CV accuracy: 0.96667\n"
     ]
    }
   ],
   "source": [
    "# Use whole Iris dataset\n",
    "x_train = iris.data\n",
    "y_train = iris.target\n",
    "\n",
    "# Create a Random Forest classifier\n",
    "# n_estimators: number of predictors (Decision Trees)\n",
    "rf_model = RandomForestClassifier(n_estimators=200)\n",
    "\n",
    "# Train the RF on the dataset\n",
    "rf_model.fit(x_train, y_train)\n",
    "\n",
    "# Compute cross-validation scores for the RF\n",
    "scores = cross_val_score(rf_model, x_train, y_train, cv=5)\n",
    "\n",
    "cv_acc = scores.mean()\n",
    "print(f\"Mean CV accuracy: {cv_acc:.05f}\")"
   ]
  },
  {
   "cell_type": "code",
   "execution_count": null,
   "metadata": {},
   "outputs": [],
   "source": []
  }
 ],
 "metadata": {
  "celltoolbar": "Diaporama",
  "kernelspec": {
   "display_name": "Python 3",
   "language": "python",
   "name": "python3"
  },
  "language_info": {
   "codemirror_mode": {
    "name": "ipython",
    "version": 3
   },
   "file_extension": ".py",
   "mimetype": "text/x-python",
   "name": "python",
   "nbconvert_exporter": "python",
   "pygments_lexer": "ipython3",
   "version": "3.7.5"
  }
 },
 "nbformat": 4,
 "nbformat_minor": 4
}
