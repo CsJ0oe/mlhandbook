{
 "cells": [
  {
   "cell_type": "markdown",
   "metadata": {
    "slideshow": {
     "slide_type": "slide"
    }
   },
   "source": [
    "# Machine Learning Fundamentals"
   ]
  },
  {
   "cell_type": "markdown",
   "metadata": {
    "slideshow": {
     "slide_type": "slide"
    }
   },
   "source": [
    "## Summary\n",
    "\n",
    "- Terminology and notations\n",
    "- Gradient descent\n",
    "- Performance measures"
   ]
  },
  {
   "cell_type": "markdown",
   "metadata": {
    "slideshow": {
     "slide_type": "slide"
    }
   },
   "source": [
    "## Terminology and notations"
   ]
  },
  {
   "cell_type": "markdown",
   "metadata": {
    "slideshow": {
     "slide_type": "slide"
    }
   },
   "source": [
    "### The elements of a supervised ML system\n",
    "\n",
    "1. Some **data** under numeric form.\n",
    "1. A **model** able to produce results from data.\n",
    "1. A **loss (or cost) function** to quantify the model error (difference between expected and actual results).\n",
    "1. An **optimization algorithm** to update the model's parameters in order to minimize the loss."
   ]
  },
  {
   "cell_type": "markdown",
   "metadata": {
    "slideshow": {
     "slide_type": "slide"
    }
   },
   "source": [
    "### Terminology and notations: data\n",
    "\n",
    "- $ m $ is the number of samples and associated results in the dataset.\n",
    "- $ n $ is the number of features. A **feature** is an attribute (a property) of the data samples.\n",
    "- $ \\mathbf{x}^{(i)} $ is a **sample**, a particular instance of data, vector of $ n $ features: $ \\mathbf{x}^{(i)} = \\left\\{ x^{(i)}_1, x^{(i)}_2, \\dotsc, x^{(i)}_n \\right\\} $.\n",
    "- $ x^{(i)}_j $ is the value of the $j$th feature for the $i$th data sample.\n",
    "- $ \\mathbf{y}^{(i)} $ is the expected result for a sample, vector of $ K $ values called **labels** (or *targets*): $ \\mathbf{y}^{(i)} = \\left\\{ y^{(i)}_1, y^{(i)}_2, \\dotsc, y^{(i)}_K \\right\\} $.\n",
    "- $ y^{(i)}_k $ is the value of the $k$th label for the $i$th data sample."
   ]
  },
  {
   "cell_type": "markdown",
   "metadata": {
    "slideshow": {
     "slide_type": "slide"
    }
   },
   "source": [
    "Most ML algorithms except input data to come as a 2-dimensional matrix (*samples, features*)\n",
    "\n",
    "- First dimension is for the $ m $ samples.\n",
    "- Second dimension is for the $ n $ features of each sample.\n",
    "\n",
    "Targets should be formatted using the same first dimension.\n",
    "\n",
    "$$\\mathbf{X} = \\begin{pmatrix}\n",
    "       \\ x^{(1)}_1 & x^{(1)}_2 & \\cdots & x^{(1)}_n \\\\\n",
    "       \\ x^{(2)}_1 & x^{(2)}_2 & \\cdots & x^{(2)}_n \\\\\n",
    "       \\ \\vdots & \\vdots & \\ddots & \\vdots \\\\\n",
    "       \\ x^{(m)}_1 & x^{(m)}_2 & \\cdots & x^{(m)}_n\n",
    "     \\end{pmatrix}\\;\\;\n",
    "\\mathbf{Y} = \\begin{pmatrix}\n",
    "       \\ y^{(1)}_1 & y^{(1)}_2 & \\cdots & y^{(1)}_K \\\\\n",
    "       \\ y^{(2)}_1 & y^{(2)}_2 & \\cdots & y^{(2)}_K \\\\\n",
    "       \\ \\vdots & \\vdots & \\ddots & \\vdots \\\\\n",
    "       \\ y^{(m)}_1 & y^{(m)}_2 & \\cdots & y^{(m)}_K\n",
    "     \\end{pmatrix}$$"
   ]
  },
  {
   "cell_type": "markdown",
   "metadata": {
    "slideshow": {
     "slide_type": "slide"
    }
   },
   "source": [
    "### Multidimensional data: reshaping\n",
    "\n",
    "A bitmap image can be represented as a 3D multidimensional array (*height, width, color_channels*).\n",
    "\n",
    "A video can be represented as a 4D multidimensional array (*frames, height, width, color_channels*).\n",
    "\n",
    "They have to be **reshaped**, or *flattened* in that case, into a vector before being fed to most ML models."
   ]
  },
  {
   "cell_type": "markdown",
   "metadata": {
    "slideshow": {
     "slide_type": "slide"
    }
   },
   "source": [
    "![Image to vector](images/image2vector.jpeg)"
   ]
  },
  {
   "cell_type": "markdown",
   "metadata": {
    "slideshow": {
     "slide_type": "slide"
    }
   },
   "source": [
    "### Example: the MNIST handwritten digits datasets\n",
    "\n",
    "Dataset of 70,000 handwritten digits, stored as 28x28 grayscale images.\n",
    "\n",
    "Staple of Machine Learning since 1998."
   ]
  },
  {
   "cell_type": "code",
   "execution_count": 1,
   "metadata": {
    "slideshow": {
     "slide_type": "slide"
    }
   },
   "outputs": [
    {
     "name": "stdout",
     "output_type": "stream",
     "text": [
      "Python version: 3.7.5\n"
     ]
    }
   ],
   "source": [
    "import platform\n",
    "print(f\"Python version: {platform.python_version()}\")\n",
    "assert platform.python_version_tuple() >= (\"3\", \"6\")\n",
    "\n",
    "import numpy as np\n",
    "import matplotlib.pyplot as plt\n",
    "import seaborn as sns\n",
    "import pandas as pd"
   ]
  },
  {
   "cell_type": "code",
   "execution_count": 77,
   "metadata": {
    "slideshow": {
     "slide_type": "slide"
    }
   },
   "outputs": [
    {
     "name": "stdout",
     "output_type": "stream",
     "text": [
      "scikit-learn version: 0.22.1\n",
      "TensorFlow version: 2.0.0\n",
      "Keras version: 2.2.4-tf\n"
     ]
    }
   ],
   "source": [
    "import sklearn\n",
    "print(f'scikit-learn version: {sklearn.__version__}')\n",
    "assert sklearn.__version__ >= \"0.22\" # For plot_confusion_matrix\n",
    "\n",
    "from sklearn.metrics import log_loss\n",
    "from sklearn.linear_model import SGDClassifier\n",
    "from sklearn.metrics import accuracy_score, plot_confusion_matrix, classification_report\n",
    "from sklearn.model_selection import cross_val_score\n",
    "\n",
    "import tensorflow as tf\n",
    "print(f'TensorFlow version: {tf.__version__}')\n",
    "print(f'Keras version: {tf.keras.__version__}')\n",
    "\n",
    "from tensorflow.keras.datasets import mnist\n",
    "from tensorflow.keras.utils import to_categorical"
   ]
  },
  {
   "cell_type": "code",
   "execution_count": 3,
   "metadata": {
    "slideshow": {
     "slide_type": "slide"
    }
   },
   "outputs": [
    {
     "name": "stdout",
     "output_type": "stream",
     "text": [
      "Training images: (60000, 28, 28). Training labels: (60000,)\n",
      "Test images: (10000, 28, 28). Test labels: (10000,)\n"
     ]
    }
   ],
   "source": [
    "# Load the MNIST digits dataset\n",
    "(train_images, train_labels), (test_images, test_labels) = mnist.load_data()\n",
    "\n",
    "print(f\"Training images: {train_images.shape}. Training labels: {train_labels.shape}\")\n",
    "print(f\"Test images: {test_images.shape}. Test labels: {test_labels.shape}\")"
   ]
  },
  {
   "cell_type": "code",
   "execution_count": 4,
   "metadata": {
    "slideshow": {
     "slide_type": "slide"
    }
   },
   "outputs": [
    {
     "data": {
      "image/png": "[encoded data removed]",
      "text/plain": [
       "<Figure size 720x360 with 10 Axes>"
      ]
     },
     "metadata": {},
     "output_type": "display_data"
    }
   ],
   "source": [
    "# Plot the first 10 digits\n",
    "with sns.axes_style('white'):  # Temporary hide Seaborn grid lines\n",
    "    plt.figure(figsize=(10, 5))\n",
    "    for i in range(10):\n",
    "        digit = train_images[i]\n",
    "        fig = plt.subplot(2, 5, i + 1)\n",
    "        plt.imshow(digit, cmap=plt.cm.binary)"
   ]
  },
  {
   "cell_type": "code",
   "execution_count": 5,
   "metadata": {
    "slideshow": {
     "slide_type": "slide"
    }
   },
   "outputs": [
    {
     "name": "stdout",
     "output_type": "stream",
     "text": [
      "x_train: (60000, 784)\n"
     ]
    }
   ],
   "source": [
    "# Reshape images into a (samples, 28x28) matrix\n",
    "x_train = train_images.reshape((60000, 28 * 28))\n",
    "x_test = test_images.reshape((10000, 28 * 28))\n",
    "\n",
    "# 784=28x28\n",
    "print(f\"x_train: {x_train.shape}\")"
   ]
  },
  {
   "cell_type": "markdown",
   "metadata": {
    "slideshow": {
     "slide_type": "slide"
    }
   },
   "source": [
    "### Multidimensional data: scaling\n",
    "\n",
    "Individual pixel values for images and videos are typically integers in the [0:255] range.\n",
    "\n",
    "Scaling them to obtain floats into the [0:1] ensures is a common practice."
   ]
  },
  {
   "cell_type": "code",
   "execution_count": 6,
   "metadata": {},
   "outputs": [],
   "source": [
    "# Rescale pixel values from [0:255] to [0:1]\n",
    "x_train = x_train.astype('float32') / 255\n",
    "x_test = x_test.astype('float32') / 255"
   ]
  },
  {
   "cell_type": "markdown",
   "metadata": {
    "slideshow": {
     "slide_type": "slide"
    }
   },
   "source": [
    "### Terminology and notations: model\n",
    "\n",
    "- It defines the relationship between features and labels.\n",
    "- $ \\boldsymbol{\\theta} $ (or $ \\boldsymbol{\\omega} $) is the set of its internal **parameters**, vector of $ P $ values: $ \\boldsymbol{\\theta} = \\left\\{ \\theta_0, \\theta_2, \\dotsc, \\theta_{P-1} \\right\\} $.\n",
    "- $h_\\theta$ is the model's prediction function, called the *hypothesis function*. This function relies on the model parameters $\\boldsymbol{\\theta}$ and treats them as constants during prediction computation.\n",
    "- $ \\mathbf{y}'^{(i)} $ is the hypothesis function's output. \n",
    "\n",
    "$$ \\mathbf{y}'^{(i)} = h_\\theta(\\mathbf{x}^{(i)}) = \\left\\{ y'^{(i)}_1, y'^{(i)}_2, \\dotsc, y'^{(i)}_K \\right\\} $$ "
   ]
  },
  {
   "cell_type": "markdown",
   "metadata": {
    "slideshow": {
     "slide_type": "slide"
    }
   },
   "source": [
    "### Example: linear relationship between features and labels\n",
    "\n",
    "- In this case, $K=1$ and $P=n$.\n",
    "- The prediction output is a scalar value.\n",
    "\n",
    "$$y'^{(i)} = \\mathcal{h}_\\theta(\\mathbf{x}^{(i)}) = \\theta_0 + \\theta_1x^{(i)}_1 + \\dotsc + \\theta_nx^{(i)}_n$$"
   ]
  },
  {
   "cell_type": "markdown",
   "metadata": {
    "slideshow": {
     "slide_type": "slide"
    }
   },
   "source": [
    "### Terminology and notations: loss\n",
    "\n",
    "- $ \\mathcal{L_{\\mathbf{X, Y}}(\\theta)} $ (or $ \\mathcal{J_{\\mathbf{X, Y}}(\\theta)} $) is the **loss** (or *cost*) **function** that quantifies the difference between expected results (called *ground truth*) and actual results computed by the model.\n",
    "- During model training, the input dataset $\\mathbf{X}$ and the expected results $\\mathbf{Y}$ are treated as constants. The loss depends solely on the model parameters $\\boldsymbol{\\theta}$.\n",
    "- To simplify notations, the loss function will be written $ \\mathcal{L(\\boldsymbol{\\theta})} $.\n",
    "- Different loss functions exists. The choice depends on the learning type."
   ]
  },
  {
   "cell_type": "markdown",
   "metadata": {
    "slideshow": {
     "slide_type": "slide"
    }
   },
   "source": [
    "### Loss functions for regression\n",
    "\n",
    "- *Mean Absolute Error* (aka *l1 or Manhattan norm*):\n",
    "$$ \\mathrm{MAE}(\\boldsymbol{\\theta}) = \\frac{1}{m}\\sum_{i=1}^m |\\mathcal{h}_\\theta(\\mathbf{x}^{(i)}) - \\mathbf{y}^{(i)}| $$\n",
    "- *Mean Squared Error* (aka *l2 norm*), the default choice:\n",
    "$$ \\mathrm{MSE}(\\boldsymbol{\\theta}) = \\frac{1}{m}\\sum_{i=1}^m (\\mathcal{h}_\\theta(\\mathbf{x}^{(i)}) - \\mathbf{y}^{(i)})^2 $$\n",
    "- *Root Mean Squared Error* (aka *Euclidean norm*):\n",
    "$$ \\mathrm{RMSE}(\\boldsymbol{\\theta}) = \\sqrt{\\frac{1}{m}\\sum_{i=1}^m (\\mathcal{h}_\\theta(\\mathbf{x}^{(i)}) - \\mathbf{y}^{(i)})^2} $$"
   ]
  },
  {
   "cell_type": "markdown",
   "metadata": {
    "slideshow": {
     "slide_type": "slide"
    }
   },
   "source": [
    "### Loss function for binary classification\n",
    "\n",
    "- The expected result $ y^{(i)} $ is either 0 or 1.\n",
    "- The computed result $ y'^{(i)} $ is a probability (float value between 0 and 1).\n",
    "- A frequently used loss function for binary classification is the *Binary Crossentropy* (aka *Log Loss*): \n",
    "\n",
    "$$\\mathcal{L}(\\boldsymbol{\\theta}) = -\\frac{1}{m}\\sum_{i=1}^m \\left[y^{(i)} \\log_e(y'^{(i)}) + (1-y^{(i)}) \\log_e(1-y'^{(i)})\\right]$$"
   ]
  },
  {
   "cell_type": "code",
   "execution_count": 7,
   "metadata": {
    "slideshow": {
     "slide_type": "slide"
    }
   },
   "outputs": [
    {
     "name": "stdout",
     "output_type": "stream",
     "text": [
      "0.1738073366910675\n",
      "9.992007221626415e-16\n",
      "2.241848548341448\n"
     ]
    }
   ],
   "source": [
    "# Define expected results\n",
    "y_true = [0, 0, 1, 1]\n",
    "\n",
    "# [.9, .1] means 90% probability that the first sample has label 0: prediction is 0.1\n",
    "y_pred = [[.9, .1], [.8, .2], [.3, .7], [.01, .99]]\n",
    "# -(ln(0.9) + ln(0.8) + ln(0.7) + ln(0.99))/4\n",
    "print(log_loss(y_true, y_pred))\n",
    "\n",
    "# Perfect prediction\n",
    "y_pred = [[1, 0], [1, 0], [0, 1], [0, 1]]\n",
    "print(log_loss(y_true, y_pred))\n",
    "\n",
    "# Awful prediction\n",
    "y_pred = [[.1, .9], [.15, .85], [.83, .17], [0.95, .05]]\n",
    "print(log_loss(y_true, y_pred))"
   ]
  },
  {
   "cell_type": "markdown",
   "metadata": {
    "slideshow": {
     "slide_type": "slide"
    }
   },
   "source": [
    "### Terminology and notations: multiclass classification\n",
    "\n",
    "* $ \\mathbf{y}^{(i)} $ et $ \\mathbf{y}'^{(i)} $ are vectors with as many elements as the number of predicted classes $ K $.\n",
    "* $ \\mathbf{y}^{(i)} $ is a **binary vector** of $ K $ values: $ \\mathbf{y}^{(i)} = \\left\\{ y^{(i)}_1, y^{(i)}_2, \\dotsc, y^{(i)}_K \\right\\} $.\n",
    "* $ y^{(i)}_k $ is equal to 1 if the $i$th sample's class corresponds to $ k $, 0 otherwise.\n",
    "* $ \\mathbf{y}'^{(i)} $ is a **probability vector**.\n",
    "\n",
    "$$\\mathbf{Y} = \\begin{pmatrix}\n",
    "       \\ y^{(1)}_1 & \\cdots & y^{(1)}_K \\\\\n",
    "       \\ y^{(2)}_1 & \\cdots & y^{(2)}_K \\\\\n",
    "       \\ \\vdots & \\ddots & \\vdots \\\\\n",
    "       \\ y^{(m)}_1 & \\cdots & y^{(m)}_K\n",
    "     \\end{pmatrix}\\;\\;\n",
    "\\mathbf{Y}' = \\begin{pmatrix}\n",
    "       \\ y'^{(1)}_1 & \\cdots & y'^{(1)}_K \\\\\n",
    "       \\ y'^{(2)}_1 & \\cdots & y'^{(2)}_K \\\\\n",
    "       \\ \\vdots & \\ddots & \\vdots \\\\\n",
    "       \\ y'^{(m)}_1 & \\cdots & y'^{(m)}_K\n",
    "     \\end{pmatrix}$$"
   ]
  },
  {
   "cell_type": "markdown",
   "metadata": {
    "slideshow": {
     "slide_type": "slide"
    }
   },
   "source": [
    "### Loss function for multiclass classification\n",
    "\n",
    "The standard loss function for multiclass classification is *Categorical Crossentropy*:\n",
    "\n",
    "$$\\mathcal{L}(\\boldsymbol{\\theta}) = -\\frac{1}{m}\\sum_{i=1}^m\\sum_{k=1}^K y^{(i)}_k \\log_e(y'^{(i)}_k)$$\n",
    "\n",
    "It is equivalent to _Binary Crossentropy_ when $ K = 2 $"
   ]
  },
  {
   "cell_type": "markdown",
   "metadata": {
    "slideshow": {
     "slide_type": "slide"
    }
   },
   "source": [
    "### Model lifecycle\n",
    "\n",
    "There are two (repeatable) phases:\n",
    "\n",
    "- **Training**: using training input samples, the model learns to find a relationship between features and labels.\n",
    "- **Inference**: the trained model is used to make predictions."
   ]
  },
  {
   "cell_type": "markdown",
   "metadata": {
    "slideshow": {
     "slide_type": "slide"
    }
   },
   "source": [
    "### Optimization algorithm\n",
    "\n",
    "- Used during the training phase.\n",
    "- For each learning type, several algorithms of various complexity exist.\n",
    "- Objective: find the set of model parameters $\\boldsymbol{\\theta_{best}}$ that minimizes the loss.\n",
    "\n",
    "[![Optimization: linear regression](images/LossSideBySide.png)](https://developers.google.com/machine-learning/crash-course/reducing-loss/an-iterative-approach)"
   ]
  },
  {
   "cell_type": "markdown",
   "metadata": {
    "slideshow": {
     "slide_type": "slide"
    }
   },
   "source": [
    "### Model hyperparameters\n",
    "\n",
    "- Many ML models also have user-defined properties called **hyperparameters**.\n",
    "- Examples: maximum depth of a decision tree, number oy layers of a neural network...\n",
    "- Contrary to internal parameters, they are not automatically updated during training.\n",
    "- The hyperparameters directly affect the model's performance and must be tweaked during the training and tuning steps."
   ]
  },
  {
   "cell_type": "markdown",
   "metadata": {
    "slideshow": {
     "slide_type": "slide"
    }
   },
   "source": [
    "## Gradient descent"
   ]
  },
  {
   "cell_type": "markdown",
   "metadata": {
    "slideshow": {
     "slide_type": "slide"
    }
   },
   "source": [
    "### An iterative approach\n",
    "\n",
    "The model's parameters are iteratively updated until an optimum is reached.\n",
    "\n",
    "[![Iterative approach](images/GradientDescentDiagram.png)](https://developers.google.com/machine-learning/crash-course/descending-into-ml/training-and-loss)"
   ]
  },
  {
   "cell_type": "markdown",
   "metadata": {
    "slideshow": {
     "slide_type": "slide"
    }
   },
   "source": [
    "### The gradient descent algorithm\n",
    "\n",
    "- Used in several ML models, including neural networks.\n",
    "- General idea: converging to a loss function's minimum by updating model parameters in small steps, in the **opposite direction** of the loss function **gradient**."
   ]
  },
  {
   "cell_type": "markdown",
   "metadata": {
    "slideshow": {
     "slide_type": "slide"
    }
   },
   "source": [
    "### The notion of gradient\n",
    "\n",
    "- Expresses the variation of a function *wrt* the variation of its parameters.\n",
    "- Vector containing partial derivatives of the function *wrt* each of its $ P $ parameters.\n",
    "\n",
    "$$\\nabla_{\\theta}\\mathcal{L}(\\boldsymbol{\\theta}) = \\begin{pmatrix}\n",
    "       \\ \\frac{\\partial}{\\partial \\theta_1} \\mathcal{L}(\\boldsymbol{\\theta}) \\\\\n",
    "       \\ \\frac{\\partial}{\\partial \\theta_2} \\mathcal{L}(\\boldsymbol{\\theta}) \\\\\n",
    "       \\ \\vdots \\\\\n",
    "       \\ \\frac{\\partial}{\\partial \\theta_P} \\mathcal{L}(\\boldsymbol{\\theta})\n",
    "     \\end{pmatrix}$$"
   ]
  },
  {
   "cell_type": "markdown",
   "metadata": {
    "slideshow": {
     "slide_type": "slide"
    }
   },
   "source": [
    "### 1D gradient descent (one parameter)\n",
    "\n",
    "![Gradient Descent](images/gradient_descent_1parameter.png)"
   ]
  },
  {
   "cell_type": "markdown",
   "metadata": {
    "slideshow": {
     "slide_type": "slide"
    }
   },
   "source": [
    "### 2D gradient (two parameters)\n",
    "\n",
    "![Tangent Space](images/tangent_space.png)"
   ]
  },
  {
   "cell_type": "markdown",
   "metadata": {
    "slideshow": {
     "slide_type": "slide"
    }
   },
   "source": [
    "### 2D gradient descent\n",
    "\n",
    "![Gradient Descent](images/gradient_descent_2parameters.gif)"
   ]
  },
  {
   "cell_type": "markdown",
   "metadata": {
    "slideshow": {
     "slide_type": "slide"
    }
   },
   "source": [
    "### Gradient descent types\n",
    "\n",
    "The gradient descent process can be done in several ways:\n",
    "\n",
    "- _Batch Gradient Descent_\n",
    "- _Stochastic Gradient Descent_\n",
    "- _Mini-Batch SGD_"
   ]
  },
  {
   "cell_type": "markdown",
   "metadata": {
    "slideshow": {
     "slide_type": "slide"
    }
   },
   "source": [
    "### Batch Gradient Descent\n",
    "\n",
    "The gradient is computed on the whole dataset before model parameters are updated.\n",
    "\n",
    "- Advantages: simple and safe (always converges in the right direction).\n",
    "- Drawback: can become slow and even untractable with a big dataset."
   ]
  },
  {
   "cell_type": "markdown",
   "metadata": {
    "slideshow": {
     "slide_type": "slide"
    }
   },
   "source": [
    "### Stochastic Gradient Descent (SGD)\n",
    "\n",
    "The gradient is computed on only one radomly chosen sample whole dataset before parameters are updated.\n",
    "\n",
    "- Advantages:\n",
    "  - Very fast.\n",
    "  - Enables learning from each new sample (*online learning*).\n",
    "- Drawback:\n",
    "  - Convergence is not guaranteed.\n",
    "  - No vectorization of computations."
   ]
  },
  {
   "cell_type": "markdown",
   "metadata": {
    "slideshow": {
     "slide_type": "slide"
    }
   },
   "source": [
    "### Mini-Batch SGD\n",
    "\n",
    "The gradient is computed on a small set of samples, called a *batch*, before parameters are updated.\n",
    "\n",
    "- Combines the advantages of batch and stochastic GD.\n",
    "- Default method for many ML libraries.\n",
    "- The mini-batch size varies between 10 and 1000 samples, depending of the dataset size."
   ]
  },
  {
   "cell_type": "markdown",
   "metadata": {
    "slideshow": {
     "slide_type": "slide"
    }
   },
   "source": [
    "### Updating the model's parameters\n",
    "\n",
    "$ \\eta $ is the update factor for parameters once gradient is computed, called the **_learning rate_**.\n",
    "\n",
    "It has a direct impact on the \"speed\" of the gradient descent.\n",
    "\n",
    "$$ \\boldsymbol{\\theta_{next}} = \\boldsymbol{\\theta} - \\eta\\nabla_{\\boldsymbol{\\theta}}\\mathcal{L}(\\boldsymbol{\\theta})$$"
   ]
  },
  {
   "cell_type": "markdown",
   "metadata": {
    "slideshow": {
     "slide_type": "slide"
    }
   },
   "source": [
    "### Importance of learning rate\n",
    "\n",
    "![Learning rate](images/learning_rate.png)\n",
    "\n",
    "[Interactive exercise](https://developers.google.com/machine-learning/crash-course/fitter/graph)"
   ]
  },
  {
   "cell_type": "markdown",
   "metadata": {
    "slideshow": {
     "slide_type": "slide"
    }
   },
   "source": [
    "### The local minima problem\n",
    "\n",
    "![Local minima](images/local_minima.jpg)"
   ]
  },
  {
   "cell_type": "markdown",
   "metadata": {
    "slideshow": {
     "slide_type": "slide"
    }
   },
   "source": [
    "![Gradient Descent](images/gd_ng.jpg)"
   ]
  },
  {
   "cell_type": "markdown",
   "metadata": {
    "slideshow": {
     "slide_type": "slide"
    }
   },
   "source": [
    "### Example: training a binary classifier using SGD"
   ]
  },
  {
   "cell_type": "code",
   "execution_count": 8,
   "metadata": {
    "slideshow": {
     "slide_type": "-"
    }
   },
   "outputs": [
    {
     "data": {
      "text/html": [
       "<div>\n",
       "<style scoped>\n",
       "    .dataframe tbody tr th:only-of-type {\n",
       "        vertical-align: middle;\n",
       "    }\n",
       "\n",
       "    .dataframe tbody tr th {\n",
       "        vertical-align: top;\n",
       "    }\n",
       "\n",
       "    .dataframe thead th {\n",
       "        text-align: right;\n",
       "    }\n",
       "</style>\n",
       "<table border=\"1\" class=\"dataframe\">\n",
       "  <thead>\n",
       "    <tr style=\"text-align: right;\">\n",
       "      <th></th>\n",
       "      <th>digit</th>\n",
       "    </tr>\n",
       "  </thead>\n",
       "  <tbody>\n",
       "    <tr>\n",
       "      <th>0</th>\n",
       "      <td>5</td>\n",
       "    </tr>\n",
       "    <tr>\n",
       "      <th>1</th>\n",
       "      <td>0</td>\n",
       "    </tr>\n",
       "    <tr>\n",
       "      <th>2</th>\n",
       "      <td>4</td>\n",
       "    </tr>\n",
       "    <tr>\n",
       "      <th>3</th>\n",
       "      <td>1</td>\n",
       "    </tr>\n",
       "    <tr>\n",
       "      <th>4</th>\n",
       "      <td>9</td>\n",
       "    </tr>\n",
       "  </tbody>\n",
       "</table>\n",
       "</div>"
      ],
      "text/plain": [
       "   digit\n",
       "0      5\n",
       "1      0\n",
       "2      4\n",
       "3      1\n",
       "4      9"
      ]
     },
     "execution_count": 8,
     "metadata": {},
     "output_type": "execute_result"
    }
   ],
   "source": [
    "# Show 10 random labels (integer scalars between 0 and 9)\n",
    "df_train_labels = pd.DataFrame(train_labels)\n",
    "df_train_labels.columns = {'digit'}\n",
    "df_train_labels.head()"
   ]
  },
  {
   "cell_type": "code",
   "execution_count": 9,
   "metadata": {
    "slideshow": {
     "slide_type": "slide"
    }
   },
   "outputs": [
    {
     "name": "stdout",
     "output_type": "stream",
     "text": [
      "True False False\n"
     ]
    }
   ],
   "source": [
    "# Create binary vectors of expected results\n",
    "# label is true for all 5s, false for all other digits\n",
    "y_train_5 = (train_labels == 5)\n",
    "y_test_5 = (test_labels == 5)\n",
    "\n",
    "# true, false, false\n",
    "print(y_train_5[0], y_train_5[1], y_train_5[2])"
   ]
  },
  {
   "cell_type": "code",
   "execution_count": 10,
   "metadata": {
    "slideshow": {
     "slide_type": "slide"
    }
   },
   "outputs": [
    {
     "data": {
      "text/plain": [
       "SGDClassifier(alpha=0.0001, average=False, class_weight=None,\n",
       "              early_stopping=False, epsilon=0.1, eta0=0.0, fit_intercept=True,\n",
       "              l1_ratio=0.15, learning_rate='optimal', loss='log', max_iter=1000,\n",
       "              n_iter_no_change=5, n_jobs=None, penalty='l2', power_t=0.5,\n",
       "              random_state=None, shuffle=True, tol=0.001,\n",
       "              validation_fraction=0.1, verbose=0, warm_start=False)"
      ]
     },
     "execution_count": 10,
     "metadata": {},
     "output_type": "execute_result"
    }
   ],
   "source": [
    "# Create a classifier using stochastic gradient descent and log loss\n",
    "model = SGDClassifier(loss=\"log\")\n",
    "\n",
    "# Trains the model on data\n",
    "model.fit(x_train, y_train_5)"
   ]
  },
  {
   "cell_type": "markdown",
   "metadata": {
    "slideshow": {
     "slide_type": "slide"
    }
   },
   "source": [
    "## Performance measures\n",
    "\n",
    "(Heavily inspired by Chapter 3 of [Hands-On Machine Learning](https://github.com/ageron/handson-ml2) by Aurélien Géron)"
   ]
  },
  {
   "cell_type": "markdown",
   "metadata": {
    "slideshow": {
     "slide_type": "slide"
    }
   },
   "source": [
    "### Performance metrics for regression\n",
    "\n",
    "A typical performance metric for regression tasks is RMSE.\n",
    "\n",
    "$$ \\mathrm{RMSE}(\\mathbf{X}, h_\\theta) = \\sqrt{\\frac{1}{m}\\sum_{i=1}^m (\\mathcal{h}_\\theta(\\mathbf{x}^{(i)}) - \\mathbf{y}^{(i)})^2} $$\n",
    "\n",
    "MAE (less sensitive to outliers) and MSE can also be used.\n"
   ]
  },
  {
   "cell_type": "markdown",
   "metadata": {
    "slideshow": {
     "slide_type": "slide"
    }
   },
   "source": [
    "### Performance metrics for classification\n",
    "\n",
    "During inference, the model output (probabilities) are thresholded into discrete values.\n",
    "\n",
    "Thresholds are problem-dependent."
   ]
  },
  {
   "cell_type": "code",
   "execution_count": 76,
   "metadata": {
    "slideshow": {
     "slide_type": "slide"
    }
   },
   "outputs": [
    {
     "name": "stdout",
     "output_type": "stream",
     "text": [
      "[ True False False]\n"
     ]
    },
    {
     "data": {
      "text/plain": [
       "array([[0.076, 0.924],\n",
       "       [1.   , 0.   ],\n",
       "       [1.   , 0.   ]])"
      ]
     },
     "execution_count": 76,
     "metadata": {},
     "output_type": "execute_result"
    }
   ],
   "source": [
    "# Test on first 3 digits\n",
    "samples = [x_train[0], x_train[1], x_train[2]]\n",
    "\n",
    "# Print binary predictions (5/not 5)\n",
    "print(model.predict(samples))\n",
    "\n",
    "# Print prediction probabilities\n",
    "model.predict_proba(samples).round(decimals=3)"
   ]
  },
  {
   "cell_type": "markdown",
   "metadata": {
    "slideshow": {
     "slide_type": "slide"
    }
   },
   "source": [
    "### Accuracy\n",
    "\n",
    "A simple evaluation metric for classification is **accuracy**.\n",
    "\n",
    "$$Accuracy = \\frac{\\text{Number of exact predictions}}{\\text{Total number of predictions}} $$"
   ]
  },
  {
   "cell_type": "code",
   "execution_count": 65,
   "metadata": {},
   "outputs": [
    {
     "name": "stdout",
     "output_type": "stream",
     "text": [
      "Accuracy: 0.66667\n"
     ]
    }
   ],
   "source": [
    "# Define ground truth and prediction vectors\n",
    "y_true = [2, 0, 2, 2, 0, 1]\n",
    "y_pred = [0, 1, 2, 2, 0, 1]\n",
    "\n",
    "# Using scikit-learn to compute accuracy\n",
    "acc = accuracy_score(y_true, y_pred)\n",
    "\n",
    "# 4 good predictions, 6 total => accuracy = 2/3\n",
    "print(f\"Accuracy: {acc:.5f}\")"
   ]
  },
  {
   "cell_type": "code",
   "execution_count": 60,
   "metadata": {
    "slideshow": {
     "slide_type": "slide"
    }
   },
   "outputs": [
    {
     "name": "stdout",
     "output_type": "stream",
     "text": [
      "SGDClassifier accuracy: 0.97557\n",
      "Manual computation: 0.97557\n",
      "CV accuracy: [0.9733  0.9698  0.97065]\n"
     ]
    }
   ],
   "source": [
    "# The score() method computes accuracy for SGDClassifier\n",
    "print(f\"SGDClassifier accuracy: {model.score(x_train, y_train_5):.05f}\")\n",
    "\n",
    "# Computing accuracy by hand\n",
    "train_acc = np.sum([model.predict(x_train) == y_train_5])/len(x_train)\n",
    "print(f\"Manual computation: {train_acc:.05f}\")\n",
    "\n",
    "# Using cross-validation to evaluate accuracy, using 3 folds\n",
    "cv_acc = cross_val_score(model, x_train, y_train_5, cv=3, scoring=\"accuracy\")\n",
    "print(f\"CV accuracy: {cv_acc}\")"
   ]
  },
  {
   "cell_type": "markdown",
   "metadata": {
    "slideshow": {
     "slide_type": "slide"
    }
   },
   "source": [
    "### Accuracy shortcomings\n",
    "\n",
    "When the dataset is *skewed* (some classes are more frequent than others), computing accuracy is not enough to assert the model's performance.\n",
    "\n",
    "To find out why, let's imagine a dumb binary classifier that always predicts that the digit is not 5."
   ]
  },
  {
   "cell_type": "code",
   "execution_count": 59,
   "metadata": {},
   "outputs": [
    {
     "name": "stdout",
     "output_type": "stream",
     "text": [
      "There are 54579 digits other than 5 in the training set\n",
      "Dumb classifier accuracy: 0.90965\n"
     ]
    }
   ],
   "source": [
    "not5_count = (y_train_5 == False).sum()\n",
    "print(f\"There are {not5_count} digits other than 5 in the training set\")\n",
    "\n",
    "dumb_model_acc = not5_count/len(x_train)\n",
    "print(f\"Dumb classifier accuracy: {dumb_model_acc:.05f}\")"
   ]
  },
  {
   "cell_type": "markdown",
   "metadata": {
    "slideshow": {
     "slide_type": "slide"
    }
   },
   "source": [
    "### True/False positives and negatives\n",
    "\n",
    "- **True Positive (TP)**: the model _correctly_ predicts the positive class.\n",
    "- **False Positive (FP)**: the model _incorrectly_ predicts the positive class.\n",
    "- **True Negative (TN)**: the model _correctly_ predicts the negative class.\n",
    "- **False Negative (FN)**: the model _incorrectly_ predicts the negative class.\n",
    "\n",
    "$$Accuracy = \\frac{TP + TN}{TP + TN + FP + FN}$$"
   ]
  },
  {
   "cell_type": "markdown",
   "metadata": {
    "slideshow": {
     "slide_type": "slide"
    }
   },
   "source": [
    "### Confusion matrix\n",
    "\n",
    "Useful representation of classification results. Row are actual classes, columns are predicted classes.\n",
    "\n",
    "[![Confusion matrix for 5s](images/confusion_matrix.png)](https://github.com/ageron/handson-ml2)"
   ]
  },
  {
   "cell_type": "code",
   "execution_count": 82,
   "metadata": {
    "slideshow": {
     "slide_type": "slide"
    }
   },
   "outputs": [
    {
     "data": {
      "image/png": "[encoded data removed]",
      "text/plain": [
       "<Figure size 432x288 with 2 Axes>"
      ]
     },
     "metadata": {
      "needs_background": "light"
     },
     "output_type": "display_data"
    }
   ],
   "source": [
    "# Plot confusion matrix for our binary classifier\n",
    "display = plot_confusion_matrix(model, x_train, y_train_5,\n",
    "                                values_format=\"d\",\n",
    "                                cmap=plt.cm.Blues)"
   ]
  },
  {
   "cell_type": "markdown",
   "metadata": {
    "slideshow": {
     "slide_type": "slide"
    }
   },
   "source": [
    "### Precision and recall\n",
    "\n",
    "- **Precision**: proportion of positive identifications that were actually correct.\n",
    "- **Recall**: proportion of actual positives that were identified correctly.\n",
    "\n",
    "$$Precision = \\frac{TP}{TP + FP} = \\frac{\\text{True Positives}}{\\text{Total Predicted Positives}}$$\n",
    "\n",
    "$$Recall = \\frac{TP}{TP + FN} = \\frac{\\text{True Positives}}{\\text{Total Actual Positives}}$$"
   ]
  },
  {
   "cell_type": "markdown",
   "metadata": {
    "slideshow": {
     "slide_type": "slide"
    }
   },
   "source": [
    "### Example: a (flawed) tumor classifier\n",
    "\n",
    "Context: binary classification of tumors (positive means malignant). Dataset of 100 tumors, of which 9 are malignant.\n",
    "\n",
    "| Negatives | Positives |\n",
    "|-|-|\n",
    "| True Negatives: 90 | False Positives: 1 |\n",
    "| False Negatives: 8 | True Positives: 1|\n",
    "\n",
    "$$Accuracy = \\frac{90+1}{100} = 91\\%$$\n",
    "$$Precision = \\frac{1}{1 + 1} = 50\\%\\;\\;\\;\n",
    "Recall = \\frac{1}{1 + 8} = 11\\%$$"
   ]
  },
  {
   "cell_type": "markdown",
   "metadata": {
    "slideshow": {
     "slide_type": "slide"
    }
   },
   "source": [
    "### F1 score\n",
    "\n",
    "- Weighted average of precision and recall.\n",
    "- Also known as _balanced F-score_ or _F-measure_.\n",
    "\n",
    "$$F1 = 2 \\times \\frac{Precision \\times Recall}{Precision + Recall}$$\n",
    "\n",
    "Good metric in case of class imbalance, when precision and recall are both important."
   ]
  },
  {
   "cell_type": "code",
   "execution_count": 80,
   "metadata": {
    "slideshow": {
     "slide_type": "slide"
    }
   },
   "outputs": [
    {
     "name": "stdout",
     "output_type": "stream",
     "text": [
      "              precision    recall  f1-score   support\n",
      "\n",
      "       False       0.98      0.99      0.99     54579\n",
      "        True       0.89      0.84      0.86      5421\n",
      "\n",
      "    accuracy                           0.98     60000\n",
      "   macro avg       0.93      0.91      0.92     60000\n",
      "weighted avg       0.98      0.98      0.98     60000\n",
      "\n"
     ]
    }
   ],
   "source": [
    "# Using scikit-learn to compute several metrics about our binary classifier\n",
    "print(classification_report(y_train_5, model.predict(x_train)))"
   ]
  },
  {
   "cell_type": "markdown",
   "metadata": {
    "slideshow": {
     "slide_type": "slide"
    }
   },
   "source": [
    "### The precision/recall trade-off\n",
    "\n",
    "- Improving precision typically reduces recall and vice versa ([example](https://developers.google.com/machine-learning/crash-course/classification/precision-and-recall#precision-and-recall:-a-tug-of-war)).\n",
    "- Precision matters most when the cost of false positives is high (example: spam detection).\n",
    "- Recall matters most when the cost of false negatives is high (example: tumor detection)."
   ]
  },
  {
   "cell_type": "markdown",
   "metadata": {
    "slideshow": {
     "slide_type": "slide"
    }
   },
   "source": [
    "### Example: training a multiclass classifier"
   ]
  },
  {
   "cell_type": "code",
   "execution_count": 12,
   "metadata": {
    "slideshow": {
     "slide_type": "slide"
    }
   },
   "outputs": [
    {
     "name": "stdout",
     "output_type": "stream",
     "text": [
      "y_train: (60000, 10)\n"
     ]
    },
    {
     "data": {
      "text/html": [
       "<div>\n",
       "<style scoped>\n",
       "    .dataframe tbody tr th:only-of-type {\n",
       "        vertical-align: middle;\n",
       "    }\n",
       "\n",
       "    .dataframe tbody tr th {\n",
       "        vertical-align: top;\n",
       "    }\n",
       "\n",
       "    .dataframe thead th {\n",
       "        text-align: right;\n",
       "    }\n",
       "</style>\n",
       "<table border=\"1\" class=\"dataframe\">\n",
       "  <thead>\n",
       "    <tr style=\"text-align: right;\">\n",
       "      <th></th>\n",
       "      <th>0</th>\n",
       "      <th>1</th>\n",
       "      <th>2</th>\n",
       "      <th>3</th>\n",
       "      <th>4</th>\n",
       "      <th>5</th>\n",
       "      <th>6</th>\n",
       "      <th>7</th>\n",
       "      <th>8</th>\n",
       "      <th>9</th>\n",
       "    </tr>\n",
       "  </thead>\n",
       "  <tbody>\n",
       "    <tr>\n",
       "      <th>58144</th>\n",
       "      <td>0.0</td>\n",
       "      <td>0.0</td>\n",
       "      <td>0.0</td>\n",
       "      <td>1.0</td>\n",
       "      <td>0.0</td>\n",
       "      <td>0.0</td>\n",
       "      <td>0.0</td>\n",
       "      <td>0.0</td>\n",
       "      <td>0.0</td>\n",
       "      <td>0.0</td>\n",
       "    </tr>\n",
       "    <tr>\n",
       "      <th>34656</th>\n",
       "      <td>1.0</td>\n",
       "      <td>0.0</td>\n",
       "      <td>0.0</td>\n",
       "      <td>0.0</td>\n",
       "      <td>0.0</td>\n",
       "      <td>0.0</td>\n",
       "      <td>0.0</td>\n",
       "      <td>0.0</td>\n",
       "      <td>0.0</td>\n",
       "      <td>0.0</td>\n",
       "    </tr>\n",
       "    <tr>\n",
       "      <th>26343</th>\n",
       "      <td>1.0</td>\n",
       "      <td>0.0</td>\n",
       "      <td>0.0</td>\n",
       "      <td>0.0</td>\n",
       "      <td>0.0</td>\n",
       "      <td>0.0</td>\n",
       "      <td>0.0</td>\n",
       "      <td>0.0</td>\n",
       "      <td>0.0</td>\n",
       "      <td>0.0</td>\n",
       "    </tr>\n",
       "    <tr>\n",
       "      <th>18819</th>\n",
       "      <td>0.0</td>\n",
       "      <td>0.0</td>\n",
       "      <td>0.0</td>\n",
       "      <td>0.0</td>\n",
       "      <td>0.0</td>\n",
       "      <td>0.0</td>\n",
       "      <td>0.0</td>\n",
       "      <td>1.0</td>\n",
       "      <td>0.0</td>\n",
       "      <td>0.0</td>\n",
       "    </tr>\n",
       "    <tr>\n",
       "      <th>34011</th>\n",
       "      <td>0.0</td>\n",
       "      <td>0.0</td>\n",
       "      <td>0.0</td>\n",
       "      <td>0.0</td>\n",
       "      <td>0.0</td>\n",
       "      <td>0.0</td>\n",
       "      <td>0.0</td>\n",
       "      <td>0.0</td>\n",
       "      <td>1.0</td>\n",
       "      <td>0.0</td>\n",
       "    </tr>\n",
       "    <tr>\n",
       "      <th>10288</th>\n",
       "      <td>0.0</td>\n",
       "      <td>0.0</td>\n",
       "      <td>0.0</td>\n",
       "      <td>0.0</td>\n",
       "      <td>0.0</td>\n",
       "      <td>1.0</td>\n",
       "      <td>0.0</td>\n",
       "      <td>0.0</td>\n",
       "      <td>0.0</td>\n",
       "      <td>0.0</td>\n",
       "    </tr>\n",
       "  </tbody>\n",
       "</table>\n",
       "</div>"
      ],
      "text/plain": [
       "         0    1    2    3    4    5    6    7    8    9\n",
       "58144  0.0  0.0  0.0  1.0  0.0  0.0  0.0  0.0  0.0  0.0\n",
       "34656  1.0  0.0  0.0  0.0  0.0  0.0  0.0  0.0  0.0  0.0\n",
       "26343  1.0  0.0  0.0  0.0  0.0  0.0  0.0  0.0  0.0  0.0\n",
       "18819  0.0  0.0  0.0  0.0  0.0  0.0  0.0  1.0  0.0  0.0\n",
       "34011  0.0  0.0  0.0  0.0  0.0  0.0  0.0  0.0  1.0  0.0\n",
       "10288  0.0  0.0  0.0  0.0  0.0  1.0  0.0  0.0  0.0  0.0"
      ]
     },
     "execution_count": 12,
     "metadata": {},
     "output_type": "execute_result"
    }
   ],
   "source": [
    "# One-hot encoding of expected results\n",
    "y_train = to_categorical(train_labels)\n",
    "y_test = to_categorical(test_labels)\n",
    "\n",
    "print(f\"y_train: {y_train.shape}\")\n",
    "\n",
    "# Show random samples of encoded input\n",
    "df_y_train = pd.DataFrame(y_train)\n",
    "df_y_train.sample(n=6)"
   ]
  },
  {
   "cell_type": "code",
   "execution_count": null,
   "metadata": {},
   "outputs": [],
   "source": []
  }
 ],
 "metadata": {
  "celltoolbar": "Diaporama",
  "kernelspec": {
   "display_name": "Python 3",
   "language": "python",
   "name": "python3"
  },
  "language_info": {
   "codemirror_mode": {
    "name": "ipython",
    "version": 3
   },
   "file_extension": ".py",
   "mimetype": "text/x-python",
   "name": "python",
   "nbconvert_exporter": "python",
   "pygments_lexer": "ipython3",
   "version": "3.7.5"
  }
 },
 "nbformat": 4,
 "nbformat_minor": 4
}
