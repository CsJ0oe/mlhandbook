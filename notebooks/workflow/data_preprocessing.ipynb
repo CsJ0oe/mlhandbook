{
 "cells": [
  {
   "cell_type": "markdown",
   "metadata": {},
   "source": [
    "<!--NAVIGATION-->\n",
    "\n",
    "<a href=\"https://colab.research.google.com/github/bpesquet/machine-learning-katas/blob/master/notebooks/demos/workflow/DataPreprocessing.ipynb\"><img align=\"left\" src=\"https://colab.research.google.com/assets/colab-badge.svg\" alt=\"Open in Colab\" title=\"Open in Google Colaboratory\"></a>\n"
   ]
  },
  {
   "cell_type": "markdown",
   "metadata": {
    "slideshow": {
     "slide_type": "slide"
    }
   },
   "source": [
    "# Data Preprocessing With scikit-learn\n",
    "\n",
    "<https://scikit-learn.org/stable/modules/preprocessing.html>\n",
    "\n",
    "<https://scikit-learn.org/stable/modules/generated/sklearn.model_selection.train_test_split.html>\n",
    "\n",
    "<https://scikit-learn.org/stable/modules/generated/sklearn.preprocessing.OneHotEncoder.html>"
   ]
  },
  {
   "cell_type": "markdown",
   "metadata": {
    "slideshow": {
     "slide_type": "slide"
    }
   },
   "source": [
    "## Package setup"
   ]
  },
  {
   "cell_type": "code",
   "execution_count": 11,
   "metadata": {},
   "outputs": [
    {
     "name": "stdout",
     "output_type": "stream",
     "text": [
      "scikit-learn version: 0.22.2.post1\n"
     ]
    }
   ],
   "source": [
    "import numpy as np\n",
    "import sklearn\n",
    "print(f'scikit-learn version: {sklearn.__version__}')\n",
    "\n",
    "from sklearn import preprocessing\n",
    "from sklearn import model_selection"
   ]
  },
  {
   "cell_type": "markdown",
   "metadata": {
    "slideshow": {
     "slide_type": "slide"
    }
   },
   "source": [
    "## Training/test set splitting"
   ]
  },
  {
   "cell_type": "code",
   "execution_count": 12,
   "metadata": {},
   "outputs": [
    {
     "name": "stdout",
     "output_type": "stream",
     "text": [
      "x: (30, 3)\n",
      "x_train: (22, 3)\n",
      "x_test: (8, 3)\n"
     ]
    }
   ],
   "source": [
    "# Generate a random (30,3) tensor\n",
    "x = np.random.rand(30, 3)\n",
    "print(f'x: {x.shape}')\n",
    "\n",
    "# Using scikit-learn's train_test_split() function\n",
    "x_train, x_test = model_selection.train_test_split(x, test_size=0.25)\n",
    "\n",
    "print(f'x_train: {x_train.shape}')\n",
    "print(f'x_test: {x_test.shape}')"
   ]
  },
  {
   "cell_type": "code",
   "execution_count": 13,
   "metadata": {
    "slideshow": {
     "slide_type": "slide"
    }
   },
   "outputs": [
    {
     "name": "stdout",
     "output_type": "stream",
     "text": [
      "x_train: (20, 3). y_train: (20,)\n",
      "x_test: (10, 3). y_test: (10,)\n"
     ]
    }
   ],
   "source": [
    "# Generate a random vector with a number of elements equal to first dimension of x\n",
    "y = np.random.rand(30)\n",
    "\n",
    "# Split data while preserving matching between x and y\n",
    "x_train, x_test, y_train, y_test = model_selection.train_test_split(x, y, test_size=1/3)\n",
    "\n",
    "print(f'x_train: {x_train.shape}. y_train: {y_train.shape}')\n",
    "print(f'x_test: {x_test.shape}. y_test: {y_test.shape}')"
   ]
  },
  {
   "cell_type": "markdown",
   "metadata": {
    "slideshow": {
     "slide_type": "slide"
    }
   },
   "source": [
    "## Feature scaling"
   ]
  },
  {
   "cell_type": "code",
   "execution_count": 14,
   "metadata": {},
   "outputs": [
    {
     "name": "stdout",
     "output_type": "stream",
     "text": [
      "[[5 3 9]\n",
      " [2 7 1]\n",
      " [4 8 2]]\n"
     ]
    }
   ],
   "source": [
    "# Generate a random (3,3) tensor with values between 1 and 10\n",
    "x = np.random.randint(1, 10, (3,3))\n",
    "\n",
    "print(x)"
   ]
  },
  {
   "cell_type": "markdown",
   "metadata": {
    "slideshow": {
     "slide_type": "slide"
    }
   },
   "source": [
    "### Min-Max scaling\n",
    "\n",
    "Features are shifted and rescaled to the `[0,1]` range by substracting the `min` value and dividing by `(max-min)` on the first axis."
   ]
  },
  {
   "cell_type": "code",
   "execution_count": 15,
   "metadata": {
    "slideshow": {
     "slide_type": "slide"
    }
   },
   "outputs": [
    {
     "name": "stdout",
     "output_type": "stream",
     "text": [
      "[[1.         0.         1.        ]\n",
      " [0.         0.8        0.        ]\n",
      " [0.66666667 1.         0.125     ]]\n",
      "Minimum: 0.0. Maximum: 1.0\n"
     ]
    }
   ],
   "source": [
    "# Using scikit-learn's MinMaxScaler\n",
    "min_max_scaler = preprocessing.MinMaxScaler()\n",
    "x_scaled = min_max_scaler.fit_transform(x)\n",
    "\n",
    "print(x_scaled)\n",
    "print(f'Minimum: {x_scaled.min()}. Maximum: {x_scaled.max()}')"
   ]
  },
  {
   "cell_type": "markdown",
   "metadata": {
    "slideshow": {
     "slide_type": "slide"
    }
   },
   "source": [
    "### Standardization\n",
    "\n",
    "Features are centered then reduced: substracted by their mean and divided by their standard deviation. \n",
    "\n",
    "The result has a mean of 0 and a standard deviation of 1."
   ]
  },
  {
   "cell_type": "code",
   "execution_count": 16,
   "metadata": {
    "slideshow": {
     "slide_type": "slide"
    }
   },
   "outputs": [
    {
     "name": "stdout",
     "output_type": "stream",
     "text": [
      "[[ 1.06904497 -1.38873015  1.40487872]\n",
      " [-1.33630621  0.46291005 -0.84292723]\n",
      " [ 0.26726124  0.9258201  -0.56195149]]\n",
      "Mean: 4.9343245538895844e-17. Std: 1.0\n"
     ]
    }
   ],
   "source": [
    "# Using scikit-learn's scale() function\n",
    "x_scaled = preprocessing.scale(x)\n",
    "\n",
    "print(x_scaled)\n",
    "print(f'Mean: {x_scaled.mean()}. Std: {x_scaled.std()}')"
   ]
  },
  {
   "cell_type": "markdown",
   "metadata": {
    "slideshow": {
     "slide_type": "slide"
    }
   },
   "source": [
    "### Feature scaling on training/test sets\n",
    "\n",
    "To avoid information leakage, the test set must be scaled with values calculated on the training set.\n",
    "\n",
    "See https://stats.stackexchange.com/a/174865 for details."
   ]
  },
  {
   "cell_type": "code",
   "execution_count": 17,
   "metadata": {
    "slideshow": {
     "slide_type": "slide"
    }
   },
   "outputs": [],
   "source": [
    "# Using scikit-learn's StandardScaler class\n",
    "scaler = preprocessing.StandardScaler().fit(x_train)\n",
    "\n",
    "x_train_scaled = scaler.transform(x_train)\n",
    "x_test_scaled = scaler.transform(x_test)"
   ]
  },
  {
   "cell_type": "markdown",
   "metadata": {
    "slideshow": {
     "slide_type": "slide"
    }
   },
   "source": [
    "## Feature encoding"
   ]
  },
  {
   "cell_type": "markdown",
   "metadata": {},
   "source": [
    "### One-hot encoding\n",
    "\n",
    "Each categorical feature with `n` possible integer values is transformed into `n` binary features, with one of them 1 and all others 0."
   ]
  },
  {
   "cell_type": "code",
   "execution_count": 18,
   "metadata": {
    "slideshow": {
     "slide_type": "slide"
    }
   },
   "outputs": [
    {
     "name": "stdout",
     "output_type": "stream",
     "text": [
      "[[3]\n",
      " [2]\n",
      " [9]\n",
      " [9]\n",
      " [5]\n",
      " [4]\n",
      " [8]\n",
      " [1]]\n"
     ]
    }
   ],
   "source": [
    "x = np.random.randint(0, 10, (8,1))\n",
    "\n",
    "print(x)"
   ]
  },
  {
   "cell_type": "code",
   "execution_count": 19,
   "metadata": {
    "slideshow": {
     "slide_type": "slide"
    }
   },
   "outputs": [
    {
     "name": "stdout",
     "output_type": "stream",
     "text": [
      "[[0. 0. 1. 0. 0. 0. 0.]\n",
      " [0. 1. 0. 0. 0. 0. 0.]\n",
      " [0. 0. 0. 0. 0. 0. 1.]\n",
      " [0. 0. 0. 0. 0. 0. 1.]\n",
      " [0. 0. 0. 0. 1. 0. 0.]\n",
      " [0. 0. 0. 1. 0. 0. 0.]\n",
      " [0. 0. 0. 0. 0. 1. 0.]\n",
      " [1. 0. 0. 0. 0. 0. 0.]]\n"
     ]
    }
   ],
   "source": [
    "# Encoder input must be a matrix\n",
    "# Output will be a sparse matrix where each column corresponds to one possible value of one feature\n",
    "encoder = preprocessing.OneHotEncoder(categories='auto').fit(x)\n",
    "x_hot = encoder.transform(x).toarray()\n",
    "\n",
    "print(x_hot)"
   ]
  },
  {
   "cell_type": "code",
   "execution_count": null,
   "metadata": {},
   "outputs": [],
   "source": []
  }
 ],
 "metadata": {
  "celltoolbar": "Diaporama",
  "kernelspec": {
   "display_name": "Python 3",
   "language": "python",
   "name": "python3"
  },
  "language_info": {
   "codemirror_mode": {
    "name": "ipython",
    "version": 3
   },
   "file_extension": ".py",
   "mimetype": "text/x-python",
   "name": "python",
   "nbconvert_exporter": "python",
   "pygments_lexer": "ipython3",
   "version": "3.7.4"
  },
  "livereveal": {
   "scroll": true,
   "theme": "white"
  }
 },
 "nbformat": 4,
 "nbformat_minor": 2
}
